{
  "nbformat": 4,
  "nbformat_minor": 0,
  "metadata": {
    "colab": {
      "provenance": []
    },
    "kernelspec": {
      "display_name": "Python 3",
      "name": "python3"
    },
    "language_info": {
      "name": "python"
    },
    "gpuClass": "standard",
    "accelerator": "GPU"
  },
  "cells": [
    {
      "cell_type": "markdown",
      "metadata": {
        "id": "-rmdtCwhllEz"
      },
      "source": [
        "# **0. Setting Google Drive**"
      ]
    },
    {
      "cell_type": "code",
      "metadata": {
        "id": "ofGvuAWfUAqn",
        "colab": {
          "base_uri": "https://localhost:8080/"
        },
        "outputId": "642016de-5707-4494-92ba-db36176ed0ec"
      },
      "source": [
        "#Set google drive\n",
        "from google.colab import auth\n",
        "auth.authenticate_user()\n",
        "\n",
        "from google.colab import drive\n",
        "drive.mount('/content/gdrive')"
      ],
      "execution_count": 1,
      "outputs": [
        {
          "output_type": "stream",
          "name": "stdout",
          "text": [
            "Mounted at /content/gdrive\n"
          ]
        }
      ]
    },
    {
      "cell_type": "code",
      "metadata": {
        "id": "DZtMNovDlEYV",
        "colab": {
          "base_uri": "https://localhost:8080/"
        },
        "outputId": "4b924217-7a1b-4390-a663-8730610ff49e"
      },
      "source": [
        "import os\n",
        "dir_name = 'AI_Chem/Generation_with_VAE_4'  # path to the folder you made starting from your google drive home directory.\n",
        "if dir_name[0] == '/': dir_name = dir_name[1:]\n",
        "if dir_name[-1] == '/': dir_name = dir_name[:-1]\n",
        "os.chdir(f'/content/gdrive/MyDrive/{dir_name}/')\n",
        "os.listdir(os.getcwd()) "
      ],
      "execution_count": 2,
      "outputs": [
        {
          "output_type": "execute_result",
          "data": {
            "text/plain": [
              "['assignment_4_template.ipynb',\n",
              " 'assignment_4_question.pdf',\n",
              " 'smiles_4.txt',\n",
              " 'save']"
            ]
          },
          "metadata": {},
          "execution_count": 2
        }
      ]
    },
    {
      "cell_type": "code",
      "source": [
        "!pip install rdkit"
      ],
      "metadata": {
        "id": "S2IyeEj4RC4a",
        "colab": {
          "base_uri": "https://localhost:8080/"
        },
        "outputId": "a204604b-1289-476f-d46f-2b60e8af53ab"
      },
      "execution_count": 7,
      "outputs": [
        {
          "output_type": "stream",
          "name": "stdout",
          "text": [
            "Looking in indexes: https://pypi.org/simple, https://us-python.pkg.dev/colab-wheels/public/simple/\n",
            "Collecting rdkit\n",
            "  Downloading rdkit-2022.9.5-cp39-cp39-manylinux_2_17_x86_64.manylinux2014_x86_64.whl (29.4 MB)\n",
            "\u001b[2K     \u001b[90m━━━━━━━━━━━━━━━━━━━━━━━━━━━━━━━━━━━━━━━━\u001b[0m \u001b[32m29.4/29.4 MB\u001b[0m \u001b[31m59.7 MB/s\u001b[0m eta \u001b[36m0:00:00\u001b[0m\n",
            "\u001b[?25hRequirement already satisfied: numpy in /usr/local/lib/python3.9/dist-packages (from rdkit) (1.22.4)\n",
            "Requirement already satisfied: Pillow in /usr/local/lib/python3.9/dist-packages (from rdkit) (8.4.0)\n",
            "Installing collected packages: rdkit\n",
            "Successfully installed rdkit-2022.9.5\n"
          ]
        }
      ]
    },
    {
      "cell_type": "code",
      "source": [
        "import os\n",
        "import torch\n",
        "import torch.nn as nn\n",
        "from torch.utils.data import Dataset, DataLoader\n",
        "from torch.nn.utils.rnn import pad_sequence\n",
        "from rdkit import Chem\n",
        "from rdkit.Chem.Descriptors import ExactMolWt\n",
        "from rdkit.Chem.Crippen import MolLogP\n",
        "from functools import reduce # optional\n",
        "from tqdm import tqdm # optional\n",
        "import numpy as np"
      ],
      "metadata": {
        "id": "nNwlexcpTEv4"
      },
      "execution_count": 8,
      "outputs": []
    },
    {
      "cell_type": "code",
      "source": [
        "os.environ[\"CUDA_VISIBLE_DEVICES\"] = \"0\"\n",
        "device = torch.device(\"cuda:0\" if torch.cuda.is_available() else \"cpu\")"
      ],
      "metadata": {
        "id": "X7wGa9EUosF4"
      },
      "execution_count": null,
      "outputs": []
    },
    {
      "cell_type": "markdown",
      "metadata": {
        "id": "AQr58xcVnKWo"
      },
      "source": [
        "# **1. Defining Dataset**"
      ]
    },
    {
      "cell_type": "code",
      "metadata": {
        "id": "nQakh04AqwKI"
      },
      "source": [
        "class MolDataset(Dataset):\n",
        "\n",
        "    def __init__(self, smi_list):\n",
        "        super().__init__()\n",
        "        self.smi_list = smi_list\n",
        "\n",
        "        self._set_c_to_i()\n",
        "        self._set_i_to_c()\n",
        "        self.vec_dim = self._get_num_char()\n",
        "      \n",
        "    def __len__(self):\n",
        "        return len(self.smi_list)\n",
        "\n",
        "    def __getitem__(self, idx):\n",
        "        '''\n",
        "        returns a dict of {\"input\": input, \"output\": output, \"length\", length},\n",
        "        where input is a long tensor of seq. encoded smiles,\n",
        "        output is a float tensor of corresponding logp value, and\n",
        "        length is a long tensor of \"a length of smiles\".\n",
        "        '''\n",
        "        sample = dict()\n",
        "        smi = self.smi_list[idx]\n",
        "        \n",
        "        input = self._encode_smi(smi)\n",
        "        logp = self._get_logp(smi)\n",
        "\n",
        "        sample = {\n",
        "                \"input\": torch.LongTensor(input),\n",
        "                \"length\": torch.LongTensor([len(smi) + 1]), ### +1 due to <EOS>\n",
        "                \"logp\": torch.Tensor(logp)\n",
        "        }\n",
        "        return sample\n",
        "\n",
        "    def _set_c_to_i(self):\n",
        "        '''\n",
        "        Obtains c_to_i dictionary from smi_list.\n",
        "        \n",
        "        '''\n",
        "        whole_char = ['X'] ##### auxiliary token, padding_value = 0\n",
        "        whole_char += list(reduce(lambda x, y: x | y, \\\n",
        "                [set(smi) for smi in self.smi_list]))\n",
        "        c_to_i = {c: i for i, c in enumerate(whole_char)}\n",
        "        self.c_to_i = c_to_i\n",
        "\n",
        "    def _set_i_to_c(self):\n",
        "        self.i_to_c = {v:k for k, v in self.c_to_i.items()}\n",
        "\n",
        "    def _get_c_to_i(self):\n",
        "        return self.c_to_i\n",
        "\n",
        "    def _get_i_to_c(self):\n",
        "        return self.i_to_c\n",
        "\n",
        "    def _encode_smi(self, smi):\n",
        "        return np.array([self.c_to_i[c] for c in smi + 'X'])\n",
        "\n",
        "    def _get_num_char(self):\n",
        "        return len(getattr(self, \"c_to_i\", dict()))\n",
        "    \n",
        "    def _get_logp(self, smi):\n",
        "        '''\n",
        "        returns a numpy array of logP of given smiles.\n",
        "        '''\n",
        "        mol = Chem.MolFromSmiles(smi)\n",
        "        return np.array([MolLogP(mol)])"
      ],
      "execution_count": 9,
      "outputs": []
    },
    {
      "cell_type": "code",
      "source": [
        "def random_splitter(dataset, train_ratio, validation_ratio, test_ratio):\n",
        "    import random\n",
        "    import copy\n",
        "    assert train_ratio + validation_ratio + test_ratio == 1.0\n",
        "    N = len(dataset)\n",
        "    all_idx = list(range(N))\n",
        "    random.shuffle(all_idx)\n",
        "\n",
        "    train_idx = all_idx[:int(train_ratio * N)]\n",
        "    valid_idx = all_idx[int(train_ratio * N):int(validation_ratio * N) \\\n",
        "                        + int(train_ratio * N)]\n",
        "    test_idx = all_idx[int(validation_ratio * N) + int(train_ratio * N):]\n",
        "    train_dataset = copy.deepcopy(dataset)\n",
        "    valid_dataset = copy.deepcopy(dataset)\n",
        "    test_dataset  = copy.deepcopy(dataset)\n",
        "    train_dataset.smi_list = [dataset.smi_list[i] for i in train_idx]\n",
        "    valid_dataset.smi_list = [dataset.smi_list[i] for i in valid_idx]\n",
        "    test_dataset.smi_list =  [dataset.smi_list[i] for i in  test_idx]\n",
        "    return train_dataset, valid_dataset, test_dataset "
      ],
      "metadata": {
        "id": "6n98V324S6A0"
      },
      "execution_count": 10,
      "outputs": []
    },
    {
      "cell_type": "code",
      "source": [
        "def sample_collate_fn(samples):\n",
        "    '''\n",
        "    Dataloader will make a list of samples with a len(samples) = batch_size.\n",
        "    Collate function pads all the tensors in every sample at maximum size,\n",
        "    and stack them on a batch dimension.\n",
        "\n",
        "    Example)\n",
        "    if four tensors of shape (3, 7), (2, 7), (6, 7), (4, 7) is given,\n",
        "    collated tensor will have a shape of (4, 6, 7) where 4 is a batch size.\n",
        "    '''\n",
        "    inputs = pad_sequence([sample[\"input\"] for sample in samples], \\\n",
        "            batch_first=True, padding_value=0)\n",
        "    lengths = torch.cat([sample[\"length\"] for sample in samples], dim=0)\n",
        "    logps = torch.cat([sample[\"logp\"] for sample in samples], dim=0)\n",
        "\n",
        "    sample_batch = {\n",
        "            \"input\": inputs,\n",
        "            \"length\": lengths,\n",
        "            \"logp\": logps\n",
        "    }\n",
        "    return sample_batch"
      ],
      "metadata": {
        "id": "sEMossR3iv1p"
      },
      "execution_count": 11,
      "outputs": []
    },
    {
      "cell_type": "code",
      "source": [
        "sample_smi_list = [\"c1ccccc1\", \"COCC\", \"CCCCCCCCCCCCN\"]\n",
        "\n",
        "sample_dataset = MolDataset(sample_smi_list)\n",
        "print(sample_dataset.c_to_i)\n",
        "print(sample_dataset.i_to_c)\n",
        "print(sample_dataset[1])\n",
        "print(sample_dataset._get_num_char())"
      ],
      "metadata": {
        "id": "zW15SofERZ_D",
        "colab": {
          "base_uri": "https://localhost:8080/"
        },
        "outputId": "60bfda5a-aacf-4beb-e19c-e4695783a062"
      },
      "execution_count": null,
      "outputs": [
        {
          "output_type": "stream",
          "name": "stdout",
          "text": [
            "{'X': 0, 'c': 1, 'O': 2, '1': 3, 'N': 4, 'C': 5}\n",
            "{0: 'X', 1: 'c', 2: 'O', 3: '1', 4: 'N', 5: 'C'}\n",
            "{'input': tensor([5, 2, 5, 5, 0]), 'length': tensor([5]), 'logp': tensor([0.6527])}\n",
            "6\n"
          ]
        }
      ]
    },
    {
      "cell_type": "markdown",
      "metadata": {
        "id": "uiX7AAGsooRv"
      },
      "source": [
        "# **2. Defining VAE Model**"
      ]
    },
    {
      "cell_type": "code",
      "metadata": {
        "id": "xQGEBa9goVuI"
      },
      "source": [
        "class VariationalAutoEncoder(nn.Module):\n",
        "    \n",
        "    def __init__(\n",
        "            self, \n",
        "            n_char,\n",
        "            n_hidden,\n",
        "            n_rnn_layer\n",
        "            ):\n",
        "        super().__init__()\n",
        "\n",
        "        self.n_char = n_char\n",
        "        self.n_hidden = n_hidden\n",
        "        self.n_rnn_layer = n_rnn_layer\n",
        "\n",
        "        self.sos = nn.Parameter(torch.ones(1, 1, n_hidden))\n",
        "        self.sos.requires_grad = False\n",
        "        \n",
        "        self.embedding = nn.Embedding(n_char, n_hidden)\n",
        "        self.encoder = nn.GRU(input_size=n_hidden, hidden_size=n_hidden, \\\n",
        "                          num_layers=n_rnn_layer, batch_first=True)\n",
        "        self.decoder = nn.GRU(input_size=n_hidden, hidden_size=n_hidden, \\\n",
        "                          num_layers=n_rnn_layer, batch_first=True)\n",
        "        self.mu_layer = nn.Linear(n_hidden, n_hidden)\n",
        "        self.logvar_layer = nn.Linear(n_hidden, n_hidden)\n",
        "        self.final_layer = nn.Linear(n_hidden, n_char)\n",
        "\n",
        "        self.rec_loss_fn = nn.CrossEntropyLoss()\n",
        "        self.vae_loss_fn = self.vae_loss\n",
        "\n",
        "    def reparameterize(self, mu, logvar):\n",
        "        std = torch.exp(0.5 * logvar)\n",
        "        eps = torch.rand_like(std)\n",
        "        return mu + eps * std\n",
        "\n",
        "    def vae_loss(self, mu, logvar):\n",
        "        return -0.5 * torch.mean(1 + logvar - mu.pow(2) - logvar.exp())\n",
        "\n",
        "    def forward(self, x, length):    \n",
        "        '''\n",
        "        x (torch.Tensor): [B, L]\n",
        "        '''            \n",
        "        B = x.shape[0] # batch size     \n",
        "\n",
        "        # 1. Embedding x[B L] -> h[B L F]  \n",
        "        h = self.embedding(x) # [B L F]\n",
        "\n",
        "        # 2. Encoder h[B L F] -> enc[B L F] -> z[B F]\n",
        "        enc, _ = self.encoder(h) # [B L F]\n",
        "        z = torch.stack([enc[i, length[i] - 1, :] for i in range(B)], dim=0) # [B F]\n",
        "\n",
        "        # 3. Getting mu and logvar from z and reparameterizes it\n",
        "        mu = self.mu_layer(z)\n",
        "        logvar = self.logvar_layer(z)\n",
        "        rep_z = self.reparameterize(mu, logvar)\n",
        "\n",
        "        # 4. Decoder z[B F], dec_in[B 1+L F] -> dec[B 1+L F]\n",
        "        sos_vec = self.sos.repeat(B, 1, 1) # [B 1 F]\n",
        "        dec_in = torch.cat([sos_vec, h], dim=1) # [B 1+L F]\n",
        "        dec, _ = self.decoder(dec_in, rep_z.unsqueeze(0).repeat(self.n_rnn_layer, 1, 1))\n",
        "        \n",
        "        # 5. Predicting the probability of character dec[B 1+L F] -> dec_final[B 1+L N_CHAR]\n",
        "        dec_final = self.final_layer(dec) # [B 1+L N_CHAR]\n",
        "\n",
        "        # 6. Calculating loss\n",
        "        rec_losses = torch.stack(\n",
        "            [self.rec_loss_fn(dec_final[i, :length[i], :], x[i, :length[i]]) \\\n",
        "             / length[i] for i in range(B)], dim=0\n",
        "        ) # length due to <SOS>\n",
        "        rec_loss = rec_losses.mean()\n",
        "        vae_loss = self.vae_loss_fn(mu, logvar)\n",
        "\n",
        "        loss = rec_loss + vae_loss\n",
        "        return loss, rec_loss, vae_loss\n",
        "\n",
        "    def generate(self, max_length, batch_size=1):\n",
        "        z = torch.randn(self.n_rnn_layer, batch_size, self.n_hidden).to(self.sos.device)\n",
        "        dec_in = self.sos.repeat(batch_size, 1, 1) # [B 1 F]\n",
        "\n",
        "        gen_smis = []\n",
        "        i = 0\n",
        "        while i < max_length:\n",
        "            dec_out, z = self.decoder(dec_in, z)\n",
        "            dec_final = nn.functional.softmax(self.final_layer(dec_out), dim=-1)\n",
        "            index = torch.argmax(dec_final)\n",
        "\n",
        "            if index == 0: break # <eos>\n",
        "            gen_smis.append(int(index))\n",
        "            dec_in = self.embedding(index.view(1, -1).long())\n",
        "            i += 1\n",
        "        if i == max_length: return [] # generation failed\n",
        "        return gen_smis"
      ],
      "execution_count": 12,
      "outputs": []
    },
    {
      "cell_type": "code",
      "source": [
        "dataloader = DataLoader(sample_dataset, batch_size=3, shuffle=False, collate_fn=sample_collate_fn)\n",
        "dataiter = iter(dataloader)\n",
        "batch = next(dataiter) \n",
        "print(batch)\n",
        "\n",
        "sample_model = VariationalAutoEncoder(6, 64, 1)\n",
        "loss, rec_loss, vae_loss = sample_model(batch[\"input\"], batch[\"length\"])\n",
        "print(loss)\n",
        "print(rec_loss)\n",
        "print(vae_loss)"
      ],
      "metadata": {
        "id": "SYgROfDsan7r",
        "colab": {
          "base_uri": "https://localhost:8080/"
        },
        "outputId": "141992cf-f392-43b1-c4d3-1723cadd02cc"
      },
      "execution_count": null,
      "outputs": [
        {
          "output_type": "stream",
          "name": "stdout",
          "text": [
            "{'input': tensor([[1, 3, 1, 1, 1, 1, 1, 3, 0, 0, 0, 0, 0, 0],\n",
            "        [5, 2, 5, 5, 0, 0, 0, 0, 0, 0, 0, 0, 0, 0],\n",
            "        [5, 5, 5, 5, 5, 5, 5, 5, 5, 5, 5, 5, 4, 0]]), 'length': tensor([ 9,  5, 14]), 'logp': tensor([1.6866, 0.6527, 3.8660])}\n",
            "tensor(0.2828, grad_fn=<AddBackward0>)\n",
            "tensor(0.2516, grad_fn=<MeanBackward0>)\n",
            "tensor(0.0313, grad_fn=<MulBackward0>)\n"
          ]
        }
      ]
    },
    {
      "cell_type": "markdown",
      "source": [
        "# **3. Hyperparameter Settings**"
      ],
      "metadata": {
        "id": "1G-GrQMjT1nD"
      }
    },
    {
      "cell_type": "code",
      "source": [
        "########## DO NOT CHANGE ##########\n",
        "NUM_EPOCH = 100\n",
        "LR = 1e-4\n",
        "N_HIDDEN = 128\n",
        "N_RNN_LAYER = 1\n",
        "BATCH_SIZE = 64\n",
        "DATA_DIR = \"./smiles_4.txt\"\n",
        "####################################"
      ],
      "metadata": {
        "id": "qZZF_zOWT8IE"
      },
      "execution_count": 13,
      "outputs": []
    },
    {
      "cell_type": "markdown",
      "source": [
        "# **4. Building the Dataset**"
      ],
      "metadata": {
        "id": "1lIpq15QULGr"
      }
    },
    {
      "cell_type": "code",
      "source": [
        "with open(DATA_DIR, 'r') as f:\n",
        "    smi_list = [l.strip() for l in f.readlines()]\n",
        "\n",
        "dataset = MolDataset(smi_list)\n",
        "train_dataset, valid_dataset, test_dataset = \\\n",
        "        random_splitter(dataset, 0.8, 0.2, 0.0)\n",
        "\n",
        "N_CHAR = dataset._get_num_char()"
      ],
      "metadata": {
        "id": "KxhEk-grUP1B"
      },
      "execution_count": null,
      "outputs": []
    },
    {
      "cell_type": "markdown",
      "source": [
        "# **5. Building the DataLoader**"
      ],
      "metadata": {
        "id": "ZCgQkixaUUal"
      }
    },
    {
      "cell_type": "code",
      "source": [
        "train_dataloader = DataLoader(train_dataset, batch_size=BATCH_SIZE, shuffle=True, collate_fn=sample_collate_fn)\n",
        "valid_dataloader = DataLoader(valid_dataset, batch_size=BATCH_SIZE, shuffle=False, collate_fn=sample_collate_fn)\n",
        "tr_N = len(train_dataset)\n",
        "va_N = len(valid_dataset)"
      ],
      "metadata": {
        "id": "cpiW3R9MVR4m"
      },
      "execution_count": null,
      "outputs": []
    },
    {
      "cell_type": "markdown",
      "source": [
        "# **6. Setting Model and Optimizer**"
      ],
      "metadata": {
        "id": "P4-15VkBVoKQ"
      }
    },
    {
      "cell_type": "code",
      "source": [
        "model = VariationalAutoEncoder(\n",
        "            N_CHAR,\n",
        "            N_HIDDEN,\n",
        "            N_RNN_LAYER\n",
        "        )\n",
        "optimizer = torch.optim.Adam(model.parameters(), lr=LR)\n",
        "model = model.to(device)"
      ],
      "metadata": {
        "id": "l-Hjz9cRVsQ2"
      },
      "execution_count": null,
      "outputs": []
    },
    {
      "cell_type": "markdown",
      "source": [
        "# **7. Training with Mini-batches**"
      ],
      "metadata": {
        "id": "sCnSgK0KV0qZ"
      }
    },
    {
      "cell_type": "code",
      "source": [
        "save_dir = \"./save/\"\n",
        "if not os.path.exists(save_dir):\n",
        "    os.mkdir(save_dir)\n",
        "\n",
        "train_loss_history, valid_loss_history = [], []\n",
        "best_loss = 1e6\n",
        "for i in range(1, NUM_EPOCH + 1):\n",
        "\n",
        "    model.train()\n",
        "    train_batch_losses = []\n",
        "    for batch_idx, batch in tqdm(enumerate(train_dataloader), total=tr_N // BATCH_SIZE):\n",
        "        x_batch = batch[\"input\"].long().to(device)\n",
        "        l_batch = batch[\"length\"].long().to(device)\n",
        "\n",
        "        loss, rec_loss, vae_loss = model(x_batch, l_batch)\n",
        "        train_batch_losses.append(loss.data.cpu().numpy())\n",
        "        \n",
        "        optimizer.zero_grad()\n",
        "        loss.backward()\n",
        "        optimizer.step()\n",
        "    \n",
        "    model.eval()\n",
        "    with torch.no_grad():\n",
        "        valid_batch_losses = []\n",
        "        for batch_idx, batch in tqdm(enumerate(valid_dataloader), total=va_N // BATCH_SIZE):\n",
        "            x_batch = batch[\"input\"].long().to(device)\n",
        "            l_batch = batch[\"length\"].long().to(device)\n",
        "\n",
        "            loss, rec_loss, vae_loss = model(x_batch, l_batch)\n",
        "            valid_batch_losses.append(loss.data.cpu().numpy())\n",
        "\n",
        "    train_avg_loss = np.mean(np.array(train_batch_losses))\n",
        "    valid_avg_loss = np.mean(np.array(valid_batch_losses))\n",
        "    train_loss_history.append(train_avg_loss)\n",
        "    valid_loss_history.append(valid_avg_loss)\n",
        "    \n",
        "    if valid_avg_loss < best_loss:\n",
        "        best_epoch = i\n",
        "        best_loss = valid_avg_loss\n",
        "\n",
        "    print(f\"\\t{i}th EPOCH --- TRAIN LOSS: {train_avg_loss:.4f} || VALIDATION LOSS: {valid_avg_loss:.4f} || BEST EPOCH: {best_epoch}\", flush=True)\n",
        "\n",
        "    torch.save(model.state_dict(), os.path.join(save_dir, f\"save_{i}.pt\"))"
      ],
      "metadata": {
        "id": "5N6hNPx9V6d_",
        "colab": {
          "base_uri": "https://localhost:8080/"
        },
        "outputId": "3be6ec53-94dd-4bed-c03b-1bd90c7afc96"
      },
      "execution_count": null,
      "outputs": [
        {
          "metadata": {
            "tags": null
          },
          "name": "stderr",
          "output_type": "stream",
          "text": [
            "100%|██████████| 125/125 [00:11<00:00, 10.94it/s]\n",
            "32it [00:01, 24.60it/s]                        "
          ]
        },
        {
          "metadata": {
            "tags": null
          },
          "name": "stdout",
          "output_type": "stream",
          "text": [
            "\t1th EPOCH --- TRAIN LOSS: 0.0730 || VALIDATION LOSS: 0.0568 || BEST EPOCH: 1\n"
          ]
        },
        {
          "metadata": {
            "tags": null
          },
          "name": "stderr",
          "output_type": "stream",
          "text": [
            "\n",
            "100%|██████████| 125/125 [00:07<00:00, 16.22it/s]\n",
            "32it [00:01, 24.51it/s]                        "
          ]
        },
        {
          "metadata": {
            "tags": null
          },
          "name": "stdout",
          "output_type": "stream",
          "text": [
            "\t2th EPOCH --- TRAIN LOSS: 0.0508 || VALIDATION LOSS: 0.0480 || BEST EPOCH: 2\n"
          ]
        },
        {
          "metadata": {
            "tags": null
          },
          "name": "stderr",
          "output_type": "stream",
          "text": [
            "\n",
            "100%|██████████| 125/125 [00:07<00:00, 16.06it/s]\n",
            "32it [00:01, 24.33it/s]                        "
          ]
        },
        {
          "metadata": {
            "tags": null
          },
          "name": "stdout",
          "output_type": "stream",
          "text": [
            "\t3th EPOCH --- TRAIN LOSS: 0.0448 || VALIDATION LOSS: 0.0435 || BEST EPOCH: 3\n"
          ]
        },
        {
          "metadata": {
            "tags": null
          },
          "name": "stderr",
          "output_type": "stream",
          "text": [
            "\n",
            "100%|██████████| 125/125 [00:07<00:00, 16.10it/s]\n",
            "32it [00:01, 24.64it/s]                        "
          ]
        },
        {
          "metadata": {
            "tags": null
          },
          "name": "stdout",
          "output_type": "stream",
          "text": [
            "\t4th EPOCH --- TRAIN LOSS: 0.0411 || VALIDATION LOSS: 0.0402 || BEST EPOCH: 4\n"
          ]
        },
        {
          "metadata": {
            "tags": null
          },
          "name": "stderr",
          "output_type": "stream",
          "text": [
            "\n",
            "100%|██████████| 125/125 [00:07<00:00, 16.24it/s]\n",
            "32it [00:01, 24.57it/s]                        "
          ]
        },
        {
          "metadata": {
            "tags": null
          },
          "name": "stdout",
          "output_type": "stream",
          "text": [
            "\t5th EPOCH --- TRAIN LOSS: 0.0382 || VALIDATION LOSS: 0.0376 || BEST EPOCH: 5\n"
          ]
        },
        {
          "metadata": {
            "tags": null
          },
          "name": "stderr",
          "output_type": "stream",
          "text": [
            "\n",
            "100%|██████████| 125/125 [00:07<00:00, 15.99it/s]\n",
            "32it [00:01, 24.62it/s]                        "
          ]
        },
        {
          "metadata": {
            "tags": null
          },
          "name": "stdout",
          "output_type": "stream",
          "text": [
            "\t6th EPOCH --- TRAIN LOSS: 0.0359 || VALIDATION LOSS: 0.0356 || BEST EPOCH: 6\n"
          ]
        },
        {
          "metadata": {
            "tags": null
          },
          "name": "stderr",
          "output_type": "stream",
          "text": [
            "\n",
            "100%|██████████| 125/125 [00:07<00:00, 16.09it/s]\n",
            "32it [00:01, 24.16it/s]                        "
          ]
        },
        {
          "metadata": {
            "tags": null
          },
          "name": "stdout",
          "output_type": "stream",
          "text": [
            "\t7th EPOCH --- TRAIN LOSS: 0.0341 || VALIDATION LOSS: 0.0339 || BEST EPOCH: 7\n"
          ]
        },
        {
          "metadata": {
            "tags": null
          },
          "name": "stderr",
          "output_type": "stream",
          "text": [
            "\n",
            "100%|██████████| 125/125 [00:08<00:00, 14.83it/s]\n",
            "32it [00:01, 24.29it/s]                        "
          ]
        },
        {
          "metadata": {
            "tags": null
          },
          "name": "stdout",
          "output_type": "stream",
          "text": [
            "\t8th EPOCH --- TRAIN LOSS: 0.0325 || VALIDATION LOSS: 0.0325 || BEST EPOCH: 8\n"
          ]
        },
        {
          "metadata": {
            "tags": null
          },
          "name": "stderr",
          "output_type": "stream",
          "text": [
            "\n",
            "100%|██████████| 125/125 [00:07<00:00, 16.13it/s]\n",
            "32it [00:01, 24.13it/s]                        "
          ]
        },
        {
          "metadata": {
            "tags": null
          },
          "name": "stdout",
          "output_type": "stream",
          "text": [
            "\t9th EPOCH --- TRAIN LOSS: 0.0313 || VALIDATION LOSS: 0.0314 || BEST EPOCH: 9\n"
          ]
        },
        {
          "metadata": {
            "tags": null
          },
          "name": "stderr",
          "output_type": "stream",
          "text": [
            "\n",
            "100%|██████████| 125/125 [00:08<00:00, 14.96it/s]\n",
            "32it [00:01, 24.79it/s]                        "
          ]
        },
        {
          "metadata": {
            "tags": null
          },
          "name": "stdout",
          "output_type": "stream",
          "text": [
            "\t10th EPOCH --- TRAIN LOSS: 0.0304 || VALIDATION LOSS: 0.0305 || BEST EPOCH: 10\n"
          ]
        },
        {
          "metadata": {
            "tags": null
          },
          "name": "stderr",
          "output_type": "stream",
          "text": [
            "\n",
            "100%|██████████| 125/125 [00:07<00:00, 16.23it/s]\n",
            "32it [00:01, 24.56it/s]                        "
          ]
        },
        {
          "metadata": {
            "tags": null
          },
          "name": "stdout",
          "output_type": "stream",
          "text": [
            "\t11th EPOCH --- TRAIN LOSS: 0.0295 || VALIDATION LOSS: 0.0297 || BEST EPOCH: 11\n"
          ]
        },
        {
          "metadata": {
            "tags": null
          },
          "name": "stderr",
          "output_type": "stream",
          "text": [
            "\n",
            "100%|██████████| 125/125 [00:07<00:00, 16.01it/s]\n",
            "32it [00:01, 24.39it/s]                        "
          ]
        },
        {
          "metadata": {
            "tags": null
          },
          "name": "stdout",
          "output_type": "stream",
          "text": [
            "\t12th EPOCH --- TRAIN LOSS: 0.0288 || VALIDATION LOSS: 0.0290 || BEST EPOCH: 12\n"
          ]
        },
        {
          "metadata": {
            "tags": null
          },
          "name": "stderr",
          "output_type": "stream",
          "text": [
            "\n",
            "100%|██████████| 125/125 [00:07<00:00, 16.29it/s]\n",
            "32it [00:01, 24.61it/s]                        "
          ]
        },
        {
          "metadata": {
            "tags": null
          },
          "name": "stdout",
          "output_type": "stream",
          "text": [
            "\t13th EPOCH --- TRAIN LOSS: 0.0281 || VALIDATION LOSS: 0.0284 || BEST EPOCH: 13\n"
          ]
        },
        {
          "metadata": {
            "tags": null
          },
          "name": "stderr",
          "output_type": "stream",
          "text": [
            "\n",
            "100%|██████████| 125/125 [00:07<00:00, 16.11it/s]\n",
            "32it [00:01, 24.97it/s]                        "
          ]
        },
        {
          "metadata": {
            "tags": null
          },
          "name": "stdout",
          "output_type": "stream",
          "text": [
            "\t14th EPOCH --- TRAIN LOSS: 0.0275 || VALIDATION LOSS: 0.0279 || BEST EPOCH: 14\n"
          ]
        },
        {
          "metadata": {
            "tags": null
          },
          "name": "stderr",
          "output_type": "stream",
          "text": [
            "\n",
            "100%|██████████| 125/125 [00:07<00:00, 16.05it/s]\n",
            "32it [00:01, 24.32it/s]                        "
          ]
        },
        {
          "metadata": {
            "tags": null
          },
          "name": "stdout",
          "output_type": "stream",
          "text": [
            "\t15th EPOCH --- TRAIN LOSS: 0.0270 || VALIDATION LOSS: 0.0274 || BEST EPOCH: 15\n"
          ]
        },
        {
          "metadata": {
            "tags": null
          },
          "name": "stderr",
          "output_type": "stream",
          "text": [
            "\n",
            "100%|██████████| 125/125 [00:07<00:00, 16.03it/s]\n",
            "32it [00:01, 24.07it/s]                        "
          ]
        },
        {
          "metadata": {
            "tags": null
          },
          "name": "stdout",
          "output_type": "stream",
          "text": [
            "\t16th EPOCH --- TRAIN LOSS: 0.0265 || VALIDATION LOSS: 0.0269 || BEST EPOCH: 16\n"
          ]
        },
        {
          "metadata": {
            "tags": null
          },
          "name": "stderr",
          "output_type": "stream",
          "text": [
            "\n",
            "100%|██████████| 125/125 [00:07<00:00, 16.18it/s]\n",
            "32it [00:01, 24.42it/s]                        "
          ]
        },
        {
          "metadata": {
            "tags": null
          },
          "name": "stdout",
          "output_type": "stream",
          "text": [
            "\t17th EPOCH --- TRAIN LOSS: 0.0261 || VALIDATION LOSS: 0.0265 || BEST EPOCH: 17\n"
          ]
        },
        {
          "metadata": {
            "tags": null
          },
          "name": "stderr",
          "output_type": "stream",
          "text": [
            "\n",
            "100%|██████████| 125/125 [00:07<00:00, 16.00it/s]\n",
            "32it [00:01, 24.42it/s]                        "
          ]
        },
        {
          "metadata": {
            "tags": null
          },
          "name": "stdout",
          "output_type": "stream",
          "text": [
            "\t18th EPOCH --- TRAIN LOSS: 0.0257 || VALIDATION LOSS: 0.0261 || BEST EPOCH: 18\n"
          ]
        },
        {
          "metadata": {
            "tags": null
          },
          "name": "stderr",
          "output_type": "stream",
          "text": [
            "\n",
            "100%|██████████| 125/125 [00:07<00:00, 16.25it/s]\n",
            "32it [00:01, 24.42it/s]                        "
          ]
        },
        {
          "metadata": {
            "tags": null
          },
          "name": "stdout",
          "output_type": "stream",
          "text": [
            "\t19th EPOCH --- TRAIN LOSS: 0.0253 || VALIDATION LOSS: 0.0257 || BEST EPOCH: 19\n"
          ]
        },
        {
          "metadata": {
            "tags": null
          },
          "name": "stderr",
          "output_type": "stream",
          "text": [
            "\n",
            "100%|██████████| 125/125 [00:07<00:00, 16.29it/s]\n",
            "32it [00:01, 24.55it/s]                        "
          ]
        },
        {
          "metadata": {
            "tags": null
          },
          "name": "stdout",
          "output_type": "stream",
          "text": [
            "\t20th EPOCH --- TRAIN LOSS: 0.0249 || VALIDATION LOSS: 0.0253 || BEST EPOCH: 20\n"
          ]
        },
        {
          "metadata": {
            "tags": null
          },
          "name": "stderr",
          "output_type": "stream",
          "text": [
            "\n",
            "100%|██████████| 125/125 [00:07<00:00, 16.15it/s]\n",
            "32it [00:01, 24.53it/s]                        "
          ]
        },
        {
          "metadata": {
            "tags": null
          },
          "name": "stdout",
          "output_type": "stream",
          "text": [
            "\t21th EPOCH --- TRAIN LOSS: 0.0245 || VALIDATION LOSS: 0.0250 || BEST EPOCH: 21\n"
          ]
        },
        {
          "metadata": {
            "tags": null
          },
          "name": "stderr",
          "output_type": "stream",
          "text": [
            "\n",
            "100%|██████████| 125/125 [00:07<00:00, 16.22it/s]\n",
            "32it [00:01, 24.81it/s]                        "
          ]
        },
        {
          "metadata": {
            "tags": null
          },
          "name": "stdout",
          "output_type": "stream",
          "text": [
            "\t22th EPOCH --- TRAIN LOSS: 0.0242 || VALIDATION LOSS: 0.0247 || BEST EPOCH: 22\n"
          ]
        },
        {
          "metadata": {
            "tags": null
          },
          "name": "stderr",
          "output_type": "stream",
          "text": [
            "\n",
            "100%|██████████| 125/125 [00:07<00:00, 16.22it/s]\n",
            "32it [00:01, 24.47it/s]                        "
          ]
        },
        {
          "metadata": {
            "tags": null
          },
          "name": "stdout",
          "output_type": "stream",
          "text": [
            "\t23th EPOCH --- TRAIN LOSS: 0.0239 || VALIDATION LOSS: 0.0244 || BEST EPOCH: 23\n"
          ]
        },
        {
          "metadata": {
            "tags": null
          },
          "name": "stderr",
          "output_type": "stream",
          "text": [
            "\n",
            "100%|██████████| 125/125 [00:07<00:00, 15.96it/s]\n",
            "32it [00:01, 24.44it/s]                        "
          ]
        },
        {
          "metadata": {
            "tags": null
          },
          "name": "stdout",
          "output_type": "stream",
          "text": [
            "\t24th EPOCH --- TRAIN LOSS: 0.0237 || VALIDATION LOSS: 0.0242 || BEST EPOCH: 24\n"
          ]
        },
        {
          "metadata": {
            "tags": null
          },
          "name": "stderr",
          "output_type": "stream",
          "text": [
            "\n",
            "100%|██████████| 125/125 [00:07<00:00, 16.27it/s]\n",
            "32it [00:01, 24.20it/s]                        "
          ]
        },
        {
          "metadata": {
            "tags": null
          },
          "name": "stdout",
          "output_type": "stream",
          "text": [
            "\t25th EPOCH --- TRAIN LOSS: 0.0234 || VALIDATION LOSS: 0.0240 || BEST EPOCH: 25\n"
          ]
        },
        {
          "metadata": {
            "tags": null
          },
          "name": "stderr",
          "output_type": "stream",
          "text": [
            "\n",
            "100%|██████████| 125/125 [00:07<00:00, 16.19it/s]\n",
            "32it [00:01, 24.41it/s]                        "
          ]
        },
        {
          "metadata": {
            "tags": null
          },
          "name": "stdout",
          "output_type": "stream",
          "text": [
            "\t26th EPOCH --- TRAIN LOSS: 0.0232 || VALIDATION LOSS: 0.0237 || BEST EPOCH: 26\n"
          ]
        },
        {
          "metadata": {
            "tags": null
          },
          "name": "stderr",
          "output_type": "stream",
          "text": [
            "\n",
            "100%|██████████| 125/125 [00:07<00:00, 16.18it/s]\n",
            "32it [00:01, 24.45it/s]                        "
          ]
        },
        {
          "metadata": {
            "tags": null
          },
          "name": "stdout",
          "output_type": "stream",
          "text": [
            "\t27th EPOCH --- TRAIN LOSS: 0.0230 || VALIDATION LOSS: 0.0235 || BEST EPOCH: 27\n"
          ]
        },
        {
          "metadata": {
            "tags": null
          },
          "name": "stderr",
          "output_type": "stream",
          "text": [
            "\n",
            "100%|██████████| 125/125 [00:07<00:00, 16.19it/s]\n",
            "32it [00:01, 24.28it/s]                        "
          ]
        },
        {
          "metadata": {
            "tags": null
          },
          "name": "stdout",
          "output_type": "stream",
          "text": [
            "\t28th EPOCH --- TRAIN LOSS: 0.0227 || VALIDATION LOSS: 0.0233 || BEST EPOCH: 28\n"
          ]
        },
        {
          "metadata": {
            "tags": null
          },
          "name": "stderr",
          "output_type": "stream",
          "text": [
            "\n",
            "100%|██████████| 125/125 [00:07<00:00, 16.22it/s]\n",
            "32it [00:01, 24.49it/s]                        "
          ]
        },
        {
          "metadata": {
            "tags": null
          },
          "name": "stdout",
          "output_type": "stream",
          "text": [
            "\t29th EPOCH --- TRAIN LOSS: 0.0226 || VALIDATION LOSS: 0.0232 || BEST EPOCH: 29\n"
          ]
        },
        {
          "metadata": {
            "tags": null
          },
          "name": "stderr",
          "output_type": "stream",
          "text": [
            "\n",
            "100%|██████████| 125/125 [00:08<00:00, 14.17it/s]\n",
            "32it [00:01, 24.29it/s]                        "
          ]
        },
        {
          "metadata": {
            "tags": null
          },
          "name": "stdout",
          "output_type": "stream",
          "text": [
            "\t30th EPOCH --- TRAIN LOSS: 0.0224 || VALIDATION LOSS: 0.0230 || BEST EPOCH: 30\n"
          ]
        },
        {
          "metadata": {
            "tags": null
          },
          "name": "stderr",
          "output_type": "stream",
          "text": [
            "\n",
            "100%|██████████| 125/125 [00:07<00:00, 16.12it/s]\n",
            "32it [00:01, 24.31it/s]                        "
          ]
        },
        {
          "metadata": {
            "tags": null
          },
          "name": "stdout",
          "output_type": "stream",
          "text": [
            "\t31th EPOCH --- TRAIN LOSS: 0.0222 || VALIDATION LOSS: 0.0229 || BEST EPOCH: 31\n"
          ]
        },
        {
          "metadata": {
            "tags": null
          },
          "name": "stderr",
          "output_type": "stream",
          "text": [
            "\n",
            "100%|██████████| 125/125 [00:07<00:00, 16.09it/s]\n",
            "32it [00:01, 24.72it/s]                        "
          ]
        },
        {
          "metadata": {
            "tags": null
          },
          "name": "stdout",
          "output_type": "stream",
          "text": [
            "\t32th EPOCH --- TRAIN LOSS: 0.0220 || VALIDATION LOSS: 0.0227 || BEST EPOCH: 32\n"
          ]
        },
        {
          "metadata": {
            "tags": null
          },
          "name": "stderr",
          "output_type": "stream",
          "text": [
            "\n",
            "100%|██████████| 125/125 [00:07<00:00, 16.15it/s]\n",
            "32it [00:01, 24.38it/s]                        "
          ]
        },
        {
          "metadata": {
            "tags": null
          },
          "name": "stdout",
          "output_type": "stream",
          "text": [
            "\t33th EPOCH --- TRAIN LOSS: 0.0219 || VALIDATION LOSS: 0.0226 || BEST EPOCH: 33\n"
          ]
        },
        {
          "metadata": {
            "tags": null
          },
          "name": "stderr",
          "output_type": "stream",
          "text": [
            "\n",
            "100%|██████████| 125/125 [00:07<00:00, 16.19it/s]\n",
            "32it [00:01, 24.76it/s]                        "
          ]
        },
        {
          "metadata": {
            "tags": null
          },
          "name": "stdout",
          "output_type": "stream",
          "text": [
            "\t34th EPOCH --- TRAIN LOSS: 0.0217 || VALIDATION LOSS: 0.0224 || BEST EPOCH: 34\n"
          ]
        },
        {
          "metadata": {
            "tags": null
          },
          "name": "stderr",
          "output_type": "stream",
          "text": [
            "\n",
            "100%|██████████| 125/125 [00:07<00:00, 16.23it/s]\n",
            "32it [00:01, 24.49it/s]                        "
          ]
        },
        {
          "metadata": {
            "tags": null
          },
          "name": "stdout",
          "output_type": "stream",
          "text": [
            "\t35th EPOCH --- TRAIN LOSS: 0.0216 || VALIDATION LOSS: 0.0223 || BEST EPOCH: 35\n"
          ]
        },
        {
          "metadata": {
            "tags": null
          },
          "name": "stderr",
          "output_type": "stream",
          "text": [
            "\n",
            "100%|██████████| 125/125 [00:07<00:00, 16.01it/s]\n",
            "32it [00:01, 24.58it/s]                        "
          ]
        },
        {
          "metadata": {
            "tags": null
          },
          "name": "stdout",
          "output_type": "stream",
          "text": [
            "\t36th EPOCH --- TRAIN LOSS: 0.0214 || VALIDATION LOSS: 0.0222 || BEST EPOCH: 36\n"
          ]
        },
        {
          "metadata": {
            "tags": null
          },
          "name": "stderr",
          "output_type": "stream",
          "text": [
            "\n",
            "100%|██████████| 125/125 [00:07<00:00, 16.18it/s]\n",
            "32it [00:01, 24.64it/s]                        "
          ]
        },
        {
          "metadata": {
            "tags": null
          },
          "name": "stdout",
          "output_type": "stream",
          "text": [
            "\t37th EPOCH --- TRAIN LOSS: 0.0213 || VALIDATION LOSS: 0.0220 || BEST EPOCH: 37\n"
          ]
        },
        {
          "metadata": {
            "tags": null
          },
          "name": "stderr",
          "output_type": "stream",
          "text": [
            "\n",
            "100%|██████████| 125/125 [00:07<00:00, 16.09it/s]\n",
            "32it [00:01, 24.81it/s]                        "
          ]
        },
        {
          "metadata": {
            "tags": null
          },
          "name": "stdout",
          "output_type": "stream",
          "text": [
            "\t38th EPOCH --- TRAIN LOSS: 0.0212 || VALIDATION LOSS: 0.0219 || BEST EPOCH: 38\n"
          ]
        },
        {
          "metadata": {
            "tags": null
          },
          "name": "stderr",
          "output_type": "stream",
          "text": [
            "\n",
            "100%|██████████| 125/125 [00:07<00:00, 16.15it/s]\n",
            "32it [00:01, 24.32it/s]                        "
          ]
        },
        {
          "metadata": {
            "tags": null
          },
          "name": "stdout",
          "output_type": "stream",
          "text": [
            "\t39th EPOCH --- TRAIN LOSS: 0.0211 || VALIDATION LOSS: 0.0218 || BEST EPOCH: 39\n"
          ]
        },
        {
          "metadata": {
            "tags": null
          },
          "name": "stderr",
          "output_type": "stream",
          "text": [
            "\n",
            "100%|██████████| 125/125 [00:07<00:00, 16.00it/s]\n",
            "32it [00:01, 24.14it/s]                        "
          ]
        },
        {
          "metadata": {
            "tags": null
          },
          "name": "stdout",
          "output_type": "stream",
          "text": [
            "\t40th EPOCH --- TRAIN LOSS: 0.0209 || VALIDATION LOSS: 0.0217 || BEST EPOCH: 40\n"
          ]
        },
        {
          "metadata": {
            "tags": null
          },
          "name": "stderr",
          "output_type": "stream",
          "text": [
            "\n",
            "100%|██████████| 125/125 [00:07<00:00, 16.28it/s]\n",
            "32it [00:01, 24.63it/s]                        "
          ]
        },
        {
          "metadata": {
            "tags": null
          },
          "name": "stdout",
          "output_type": "stream",
          "text": [
            "\t41th EPOCH --- TRAIN LOSS: 0.0208 || VALIDATION LOSS: 0.0216 || BEST EPOCH: 41\n"
          ]
        },
        {
          "metadata": {
            "tags": null
          },
          "name": "stderr",
          "output_type": "stream",
          "text": [
            "\n",
            "100%|██████████| 125/125 [00:07<00:00, 15.98it/s]\n",
            "32it [00:01, 24.55it/s]                        "
          ]
        },
        {
          "metadata": {
            "tags": null
          },
          "name": "stdout",
          "output_type": "stream",
          "text": [
            "\t42th EPOCH --- TRAIN LOSS: 0.0207 || VALIDATION LOSS: 0.0215 || BEST EPOCH: 42\n"
          ]
        },
        {
          "metadata": {
            "tags": null
          },
          "name": "stderr",
          "output_type": "stream",
          "text": [
            "\n",
            "100%|██████████| 125/125 [00:07<00:00, 16.11it/s]\n",
            "32it [00:01, 24.84it/s]                        "
          ]
        },
        {
          "metadata": {
            "tags": null
          },
          "name": "stdout",
          "output_type": "stream",
          "text": [
            "\t43th EPOCH --- TRAIN LOSS: 0.0206 || VALIDATION LOSS: 0.0214 || BEST EPOCH: 43\n"
          ]
        },
        {
          "metadata": {
            "tags": null
          },
          "name": "stderr",
          "output_type": "stream",
          "text": [
            "\n",
            "100%|██████████| 125/125 [00:07<00:00, 16.14it/s]\n",
            "32it [00:01, 24.80it/s]                        "
          ]
        },
        {
          "metadata": {
            "tags": null
          },
          "name": "stdout",
          "output_type": "stream",
          "text": [
            "\t44th EPOCH --- TRAIN LOSS: 0.0205 || VALIDATION LOSS: 0.0213 || BEST EPOCH: 44\n"
          ]
        },
        {
          "metadata": {
            "tags": null
          },
          "name": "stderr",
          "output_type": "stream",
          "text": [
            "\n",
            "100%|██████████| 125/125 [00:07<00:00, 16.11it/s]\n",
            "32it [00:01, 24.79it/s]                        "
          ]
        },
        {
          "metadata": {
            "tags": null
          },
          "name": "stdout",
          "output_type": "stream",
          "text": [
            "\t45th EPOCH --- TRAIN LOSS: 0.0204 || VALIDATION LOSS: 0.0212 || BEST EPOCH: 45\n"
          ]
        },
        {
          "metadata": {
            "tags": null
          },
          "name": "stderr",
          "output_type": "stream",
          "text": [
            "\n",
            "100%|██████████| 125/125 [00:07<00:00, 16.12it/s]\n",
            "32it [00:01, 24.09it/s]                        "
          ]
        },
        {
          "metadata": {
            "tags": null
          },
          "name": "stdout",
          "output_type": "stream",
          "text": [
            "\t46th EPOCH --- TRAIN LOSS: 0.0203 || VALIDATION LOSS: 0.0211 || BEST EPOCH: 46\n"
          ]
        },
        {
          "metadata": {
            "tags": null
          },
          "name": "stderr",
          "output_type": "stream",
          "text": [
            "\n",
            "100%|██████████| 125/125 [00:07<00:00, 16.16it/s]\n",
            "32it [00:01, 23.64it/s]                        "
          ]
        },
        {
          "metadata": {
            "tags": null
          },
          "name": "stdout",
          "output_type": "stream",
          "text": [
            "\t47th EPOCH --- TRAIN LOSS: 0.0202 || VALIDATION LOSS: 0.0210 || BEST EPOCH: 47\n"
          ]
        },
        {
          "metadata": {
            "tags": null
          },
          "name": "stderr",
          "output_type": "stream",
          "text": [
            "\n",
            "100%|██████████| 125/125 [00:07<00:00, 15.84it/s]\n",
            "32it [00:01, 23.87it/s]                        "
          ]
        },
        {
          "metadata": {
            "tags": null
          },
          "name": "stdout",
          "output_type": "stream",
          "text": [
            "\t48th EPOCH --- TRAIN LOSS: 0.0201 || VALIDATION LOSS: 0.0210 || BEST EPOCH: 48\n"
          ]
        },
        {
          "metadata": {
            "tags": null
          },
          "name": "stderr",
          "output_type": "stream",
          "text": [
            "\n",
            "100%|██████████| 125/125 [00:07<00:00, 16.15it/s]\n",
            "32it [00:01, 24.87it/s]                        "
          ]
        },
        {
          "metadata": {
            "tags": null
          },
          "name": "stdout",
          "output_type": "stream",
          "text": [
            "\t49th EPOCH --- TRAIN LOSS: 0.0200 || VALIDATION LOSS: 0.0209 || BEST EPOCH: 49\n"
          ]
        },
        {
          "metadata": {
            "tags": null
          },
          "name": "stderr",
          "output_type": "stream",
          "text": [
            "\n",
            "100%|██████████| 125/125 [00:08<00:00, 14.41it/s]\n",
            "32it [00:01, 24.84it/s]                        "
          ]
        },
        {
          "metadata": {
            "tags": null
          },
          "name": "stdout",
          "output_type": "stream",
          "text": [
            "\t50th EPOCH --- TRAIN LOSS: 0.0199 || VALIDATION LOSS: 0.0208 || BEST EPOCH: 50\n"
          ]
        },
        {
          "metadata": {
            "tags": null
          },
          "name": "stderr",
          "output_type": "stream",
          "text": [
            "\n",
            "100%|██████████| 125/125 [00:07<00:00, 16.14it/s]\n",
            "32it [00:01, 24.67it/s]                        "
          ]
        },
        {
          "metadata": {
            "tags": null
          },
          "name": "stdout",
          "output_type": "stream",
          "text": [
            "\t51th EPOCH --- TRAIN LOSS: 0.0199 || VALIDATION LOSS: 0.0207 || BEST EPOCH: 51\n"
          ]
        },
        {
          "metadata": {
            "tags": null
          },
          "name": "stderr",
          "output_type": "stream",
          "text": [
            "\n",
            "100%|██████████| 125/125 [00:07<00:00, 16.17it/s]\n",
            "32it [00:01, 24.89it/s]                        "
          ]
        },
        {
          "metadata": {
            "tags": null
          },
          "name": "stdout",
          "output_type": "stream",
          "text": [
            "\t52th EPOCH --- TRAIN LOSS: 0.0198 || VALIDATION LOSS: 0.0207 || BEST EPOCH: 52\n"
          ]
        },
        {
          "metadata": {
            "tags": null
          },
          "name": "stderr",
          "output_type": "stream",
          "text": [
            "\n",
            "100%|██████████| 125/125 [00:07<00:00, 16.20it/s]\n",
            "32it [00:01, 24.53it/s]                        "
          ]
        },
        {
          "metadata": {
            "tags": null
          },
          "name": "stdout",
          "output_type": "stream",
          "text": [
            "\t53th EPOCH --- TRAIN LOSS: 0.0197 || VALIDATION LOSS: 0.0206 || BEST EPOCH: 53\n"
          ]
        },
        {
          "metadata": {
            "tags": null
          },
          "name": "stderr",
          "output_type": "stream",
          "text": [
            "\n",
            "100%|██████████| 125/125 [00:07<00:00, 15.99it/s]\n",
            "32it [00:01, 24.17it/s]                        "
          ]
        },
        {
          "metadata": {
            "tags": null
          },
          "name": "stdout",
          "output_type": "stream",
          "text": [
            "\t54th EPOCH --- TRAIN LOSS: 0.0196 || VALIDATION LOSS: 0.0205 || BEST EPOCH: 54\n"
          ]
        },
        {
          "metadata": {
            "tags": null
          },
          "name": "stderr",
          "output_type": "stream",
          "text": [
            "\n",
            "100%|██████████| 125/125 [00:07<00:00, 16.02it/s]\n",
            "32it [00:01, 24.42it/s]                        "
          ]
        },
        {
          "metadata": {
            "tags": null
          },
          "name": "stdout",
          "output_type": "stream",
          "text": [
            "\t55th EPOCH --- TRAIN LOSS: 0.0195 || VALIDATION LOSS: 0.0204 || BEST EPOCH: 55\n"
          ]
        },
        {
          "metadata": {
            "tags": null
          },
          "name": "stderr",
          "output_type": "stream",
          "text": [
            "\n",
            "100%|██████████| 125/125 [00:07<00:00, 16.06it/s]\n",
            "32it [00:01, 24.06it/s]                        "
          ]
        },
        {
          "metadata": {
            "tags": null
          },
          "name": "stdout",
          "output_type": "stream",
          "text": [
            "\t56th EPOCH --- TRAIN LOSS: 0.0194 || VALIDATION LOSS: 0.0204 || BEST EPOCH: 56\n"
          ]
        },
        {
          "metadata": {
            "tags": null
          },
          "name": "stderr",
          "output_type": "stream",
          "text": [
            "\n",
            "100%|██████████| 125/125 [00:07<00:00, 16.21it/s]\n",
            "32it [00:01, 24.30it/s]                        "
          ]
        },
        {
          "metadata": {
            "tags": null
          },
          "name": "stdout",
          "output_type": "stream",
          "text": [
            "\t57th EPOCH --- TRAIN LOSS: 0.0194 || VALIDATION LOSS: 0.0203 || BEST EPOCH: 57\n"
          ]
        },
        {
          "metadata": {
            "tags": null
          },
          "name": "stderr",
          "output_type": "stream",
          "text": [
            "\n",
            "100%|██████████| 125/125 [00:07<00:00, 16.13it/s]\n",
            "32it [00:01, 24.74it/s]                        "
          ]
        },
        {
          "metadata": {
            "tags": null
          },
          "name": "stdout",
          "output_type": "stream",
          "text": [
            "\t58th EPOCH --- TRAIN LOSS: 0.0193 || VALIDATION LOSS: 0.0202 || BEST EPOCH: 58\n"
          ]
        },
        {
          "metadata": {
            "tags": null
          },
          "name": "stderr",
          "output_type": "stream",
          "text": [
            "\n",
            "100%|██████████| 125/125 [00:07<00:00, 16.24it/s]\n",
            "32it [00:01, 24.69it/s]                        "
          ]
        },
        {
          "metadata": {
            "tags": null
          },
          "name": "stdout",
          "output_type": "stream",
          "text": [
            "\t59th EPOCH --- TRAIN LOSS: 0.0192 || VALIDATION LOSS: 0.0202 || BEST EPOCH: 59\n"
          ]
        },
        {
          "output_type": "stream",
          "name": "stderr",
          "text": [
            "\n",
            "100%|██████████| 125/125 [00:07<00:00, 16.06it/s]\n",
            "32it [00:01, 24.54it/s]                        "
          ]
        },
        {
          "output_type": "stream",
          "name": "stdout",
          "text": [
            "\t60th EPOCH --- TRAIN LOSS: 0.0192 || VALIDATION LOSS: 0.0201 || BEST EPOCH: 60\n"
          ]
        },
        {
          "output_type": "stream",
          "name": "stderr",
          "text": [
            "\n",
            "100%|██████████| 125/125 [00:07<00:00, 16.13it/s]\n",
            "32it [00:01, 24.32it/s]                        "
          ]
        },
        {
          "output_type": "stream",
          "name": "stdout",
          "text": [
            "\t61th EPOCH --- TRAIN LOSS: 0.0191 || VALIDATION LOSS: 0.0201 || BEST EPOCH: 61\n"
          ]
        },
        {
          "output_type": "stream",
          "name": "stderr",
          "text": [
            "\n",
            "100%|██████████| 125/125 [00:07<00:00, 16.22it/s]\n",
            "32it [00:01, 24.20it/s]                        "
          ]
        },
        {
          "output_type": "stream",
          "name": "stdout",
          "text": [
            "\t62th EPOCH --- TRAIN LOSS: 0.0190 || VALIDATION LOSS: 0.0200 || BEST EPOCH: 62\n"
          ]
        },
        {
          "output_type": "stream",
          "name": "stderr",
          "text": [
            "\n",
            "100%|██████████| 125/125 [00:07<00:00, 16.10it/s]\n",
            "32it [00:01, 24.59it/s]                        "
          ]
        },
        {
          "output_type": "stream",
          "name": "stdout",
          "text": [
            "\t63th EPOCH --- TRAIN LOSS: 0.0190 || VALIDATION LOSS: 0.0199 || BEST EPOCH: 63\n"
          ]
        },
        {
          "output_type": "stream",
          "name": "stderr",
          "text": [
            "\n",
            "100%|██████████| 125/125 [00:07<00:00, 15.95it/s]\n",
            "32it [00:01, 24.47it/s]                        "
          ]
        },
        {
          "output_type": "stream",
          "name": "stdout",
          "text": [
            "\t64th EPOCH --- TRAIN LOSS: 0.0189 || VALIDATION LOSS: 0.0199 || BEST EPOCH: 64\n"
          ]
        },
        {
          "output_type": "stream",
          "name": "stderr",
          "text": [
            "\n",
            "100%|██████████| 125/125 [00:07<00:00, 16.26it/s]\n",
            "32it [00:01, 24.44it/s]                        "
          ]
        },
        {
          "output_type": "stream",
          "name": "stdout",
          "text": [
            "\t65th EPOCH --- TRAIN LOSS: 0.0188 || VALIDATION LOSS: 0.0198 || BEST EPOCH: 65\n"
          ]
        },
        {
          "output_type": "stream",
          "name": "stderr",
          "text": [
            "\n",
            "100%|██████████| 125/125 [00:07<00:00, 16.03it/s]\n",
            "32it [00:01, 24.08it/s]                        "
          ]
        },
        {
          "output_type": "stream",
          "name": "stdout",
          "text": [
            "\t66th EPOCH --- TRAIN LOSS: 0.0188 || VALIDATION LOSS: 0.0198 || BEST EPOCH: 66\n"
          ]
        },
        {
          "output_type": "stream",
          "name": "stderr",
          "text": [
            "\n",
            "100%|██████████| 125/125 [00:07<00:00, 16.14it/s]\n",
            "32it [00:01, 24.56it/s]                        "
          ]
        },
        {
          "output_type": "stream",
          "name": "stdout",
          "text": [
            "\t67th EPOCH --- TRAIN LOSS: 0.0187 || VALIDATION LOSS: 0.0197 || BEST EPOCH: 67\n"
          ]
        },
        {
          "output_type": "stream",
          "name": "stderr",
          "text": [
            "\n",
            "100%|██████████| 125/125 [00:07<00:00, 16.18it/s]\n",
            "32it [00:01, 24.16it/s]                        "
          ]
        },
        {
          "output_type": "stream",
          "name": "stdout",
          "text": [
            "\t68th EPOCH --- TRAIN LOSS: 0.0187 || VALIDATION LOSS: 0.0197 || BEST EPOCH: 68\n"
          ]
        },
        {
          "output_type": "stream",
          "name": "stderr",
          "text": [
            "\n",
            "100%|██████████| 125/125 [00:07<00:00, 16.19it/s]\n",
            "32it [00:01, 24.74it/s]                        "
          ]
        },
        {
          "output_type": "stream",
          "name": "stdout",
          "text": [
            "\t69th EPOCH --- TRAIN LOSS: 0.0186 || VALIDATION LOSS: 0.0196 || BEST EPOCH: 69\n"
          ]
        },
        {
          "output_type": "stream",
          "name": "stderr",
          "text": [
            "\n",
            "100%|██████████| 125/125 [00:08<00:00, 14.26it/s]\n",
            "32it [00:01, 24.12it/s]                        "
          ]
        },
        {
          "output_type": "stream",
          "name": "stdout",
          "text": [
            "\t70th EPOCH --- TRAIN LOSS: 0.0185 || VALIDATION LOSS: 0.0196 || BEST EPOCH: 70\n"
          ]
        },
        {
          "output_type": "stream",
          "name": "stderr",
          "text": [
            "\n",
            "100%|██████████| 125/125 [00:07<00:00, 16.23it/s]\n",
            "32it [00:01, 24.49it/s]                        "
          ]
        },
        {
          "output_type": "stream",
          "name": "stdout",
          "text": [
            "\t71th EPOCH --- TRAIN LOSS: 0.0185 || VALIDATION LOSS: 0.0195 || BEST EPOCH: 71\n"
          ]
        },
        {
          "output_type": "stream",
          "name": "stderr",
          "text": [
            "\n",
            "100%|██████████| 125/125 [00:07<00:00, 15.88it/s]\n",
            "32it [00:01, 24.35it/s]                        "
          ]
        },
        {
          "output_type": "stream",
          "name": "stdout",
          "text": [
            "\t72th EPOCH --- TRAIN LOSS: 0.0184 || VALIDATION LOSS: 0.0195 || BEST EPOCH: 72\n"
          ]
        },
        {
          "output_type": "stream",
          "name": "stderr",
          "text": [
            "\n",
            "100%|██████████| 125/125 [00:07<00:00, 16.10it/s]\n",
            "32it [00:01, 24.37it/s]                        "
          ]
        },
        {
          "output_type": "stream",
          "name": "stdout",
          "text": [
            "\t73th EPOCH --- TRAIN LOSS: 0.0184 || VALIDATION LOSS: 0.0194 || BEST EPOCH: 73\n"
          ]
        },
        {
          "output_type": "stream",
          "name": "stderr",
          "text": [
            "\n",
            "100%|██████████| 125/125 [00:07<00:00, 16.21it/s]\n",
            "32it [00:01, 24.35it/s]                        "
          ]
        },
        {
          "output_type": "stream",
          "name": "stdout",
          "text": [
            "\t74th EPOCH --- TRAIN LOSS: 0.0183 || VALIDATION LOSS: 0.0194 || BEST EPOCH: 74\n"
          ]
        },
        {
          "output_type": "stream",
          "name": "stderr",
          "text": [
            "\n",
            "100%|██████████| 125/125 [00:07<00:00, 16.12it/s]\n",
            "32it [00:01, 24.84it/s]                        "
          ]
        },
        {
          "output_type": "stream",
          "name": "stdout",
          "text": [
            "\t75th EPOCH --- TRAIN LOSS: 0.0183 || VALIDATION LOSS: 0.0194 || BEST EPOCH: 75\n"
          ]
        },
        {
          "output_type": "stream",
          "name": "stderr",
          "text": [
            "\n",
            "100%|██████████| 125/125 [00:07<00:00, 16.07it/s]\n",
            "32it [00:01, 24.56it/s]                        "
          ]
        },
        {
          "output_type": "stream",
          "name": "stdout",
          "text": [
            "\t76th EPOCH --- TRAIN LOSS: 0.0182 || VALIDATION LOSS: 0.0193 || BEST EPOCH: 76\n"
          ]
        },
        {
          "output_type": "stream",
          "name": "stderr",
          "text": [
            "\n",
            "100%|██████████| 125/125 [00:07<00:00, 16.18it/s]\n",
            "32it [00:01, 24.19it/s]                        "
          ]
        },
        {
          "output_type": "stream",
          "name": "stdout",
          "text": [
            "\t77th EPOCH --- TRAIN LOSS: 0.0182 || VALIDATION LOSS: 0.0193 || BEST EPOCH: 77\n"
          ]
        },
        {
          "output_type": "stream",
          "name": "stderr",
          "text": [
            "\n",
            "100%|██████████| 125/125 [00:07<00:00, 15.78it/s]\n",
            "32it [00:01, 23.49it/s]                        "
          ]
        },
        {
          "output_type": "stream",
          "name": "stdout",
          "text": [
            "\t78th EPOCH --- TRAIN LOSS: 0.0181 || VALIDATION LOSS: 0.0193 || BEST EPOCH: 78\n"
          ]
        },
        {
          "output_type": "stream",
          "name": "stderr",
          "text": [
            "\n",
            "100%|██████████| 125/125 [00:07<00:00, 16.04it/s]\n",
            "32it [00:01, 24.43it/s]                        "
          ]
        },
        {
          "output_type": "stream",
          "name": "stdout",
          "text": [
            "\t79th EPOCH --- TRAIN LOSS: 0.0181 || VALIDATION LOSS: 0.0192 || BEST EPOCH: 79\n"
          ]
        },
        {
          "output_type": "stream",
          "name": "stderr",
          "text": [
            "\n",
            "100%|██████████| 125/125 [00:07<00:00, 16.08it/s]\n",
            "32it [00:01, 24.38it/s]                        "
          ]
        },
        {
          "output_type": "stream",
          "name": "stdout",
          "text": [
            "\t80th EPOCH --- TRAIN LOSS: 0.0180 || VALIDATION LOSS: 0.0192 || BEST EPOCH: 80\n"
          ]
        },
        {
          "output_type": "stream",
          "name": "stderr",
          "text": [
            "\n",
            "100%|██████████| 125/125 [00:07<00:00, 15.91it/s]\n",
            "32it [00:01, 24.55it/s]                        "
          ]
        },
        {
          "output_type": "stream",
          "name": "stdout",
          "text": [
            "\t81th EPOCH --- TRAIN LOSS: 0.0180 || VALIDATION LOSS: 0.0191 || BEST EPOCH: 81\n"
          ]
        },
        {
          "output_type": "stream",
          "name": "stderr",
          "text": [
            "\n",
            "100%|██████████| 125/125 [00:07<00:00, 16.10it/s]\n",
            "32it [00:01, 24.55it/s]                        "
          ]
        },
        {
          "output_type": "stream",
          "name": "stdout",
          "text": [
            "\t82th EPOCH --- TRAIN LOSS: 0.0179 || VALIDATION LOSS: 0.0191 || BEST EPOCH: 82\n"
          ]
        },
        {
          "output_type": "stream",
          "name": "stderr",
          "text": [
            "\n",
            "100%|██████████| 125/125 [00:07<00:00, 16.18it/s]\n",
            "32it [00:01, 24.16it/s]                        "
          ]
        },
        {
          "output_type": "stream",
          "name": "stdout",
          "text": [
            "\t83th EPOCH --- TRAIN LOSS: 0.0179 || VALIDATION LOSS: 0.0191 || BEST EPOCH: 83\n"
          ]
        },
        {
          "output_type": "stream",
          "name": "stderr",
          "text": [
            "\n",
            "100%|██████████| 125/125 [00:07<00:00, 15.99it/s]\n",
            "32it [00:01, 24.04it/s]                        "
          ]
        },
        {
          "output_type": "stream",
          "name": "stdout",
          "text": [
            "\t84th EPOCH --- TRAIN LOSS: 0.0179 || VALIDATION LOSS: 0.0190 || BEST EPOCH: 84\n"
          ]
        },
        {
          "output_type": "stream",
          "name": "stderr",
          "text": [
            "\n",
            "100%|██████████| 125/125 [00:07<00:00, 15.95it/s]\n",
            "32it [00:01, 24.56it/s]                        "
          ]
        },
        {
          "output_type": "stream",
          "name": "stdout",
          "text": [
            "\t85th EPOCH --- TRAIN LOSS: 0.0178 || VALIDATION LOSS: 0.0190 || BEST EPOCH: 85\n"
          ]
        },
        {
          "output_type": "stream",
          "name": "stderr",
          "text": [
            "\n",
            "100%|██████████| 125/125 [00:07<00:00, 16.12it/s]\n",
            "32it [00:01, 24.38it/s]                        "
          ]
        },
        {
          "output_type": "stream",
          "name": "stdout",
          "text": [
            "\t86th EPOCH --- TRAIN LOSS: 0.0178 || VALIDATION LOSS: 0.0190 || BEST EPOCH: 86\n"
          ]
        },
        {
          "output_type": "stream",
          "name": "stderr",
          "text": [
            "\n",
            "100%|██████████| 125/125 [00:07<00:00, 16.17it/s]\n",
            "32it [00:01, 24.46it/s]                        "
          ]
        },
        {
          "output_type": "stream",
          "name": "stdout",
          "text": [
            "\t87th EPOCH --- TRAIN LOSS: 0.0177 || VALIDATION LOSS: 0.0189 || BEST EPOCH: 87\n"
          ]
        },
        {
          "output_type": "stream",
          "name": "stderr",
          "text": [
            "\n",
            "100%|██████████| 125/125 [00:07<00:00, 15.99it/s]\n",
            "32it [00:01, 24.04it/s]                        "
          ]
        },
        {
          "output_type": "stream",
          "name": "stdout",
          "text": [
            "\t88th EPOCH --- TRAIN LOSS: 0.0177 || VALIDATION LOSS: 0.0189 || BEST EPOCH: 88\n"
          ]
        },
        {
          "output_type": "stream",
          "name": "stderr",
          "text": [
            "\n",
            "100%|██████████| 125/125 [00:07<00:00, 15.90it/s]\n",
            "32it [00:01, 24.73it/s]                        "
          ]
        },
        {
          "output_type": "stream",
          "name": "stdout",
          "text": [
            "\t89th EPOCH --- TRAIN LOSS: 0.0176 || VALIDATION LOSS: 0.0189 || BEST EPOCH: 89\n"
          ]
        },
        {
          "output_type": "stream",
          "name": "stderr",
          "text": [
            "\n",
            "100%|██████████| 125/125 [00:07<00:00, 16.07it/s]\n",
            "32it [00:01, 22.51it/s]                        "
          ]
        },
        {
          "output_type": "stream",
          "name": "stdout",
          "text": [
            "\t90th EPOCH --- TRAIN LOSS: 0.0176 || VALIDATION LOSS: 0.0188 || BEST EPOCH: 90\n"
          ]
        },
        {
          "output_type": "stream",
          "name": "stderr",
          "text": [
            "\n",
            "100%|██████████| 125/125 [00:08<00:00, 15.18it/s]\n",
            "32it [00:01, 23.60it/s]                        "
          ]
        },
        {
          "output_type": "stream",
          "name": "stdout",
          "text": [
            "\t91th EPOCH --- TRAIN LOSS: 0.0176 || VALIDATION LOSS: 0.0188 || BEST EPOCH: 91\n"
          ]
        },
        {
          "output_type": "stream",
          "name": "stderr",
          "text": [
            "\n",
            "100%|██████████| 125/125 [00:07<00:00, 16.15it/s]\n",
            "32it [00:01, 24.51it/s]                        "
          ]
        },
        {
          "output_type": "stream",
          "name": "stdout",
          "text": [
            "\t92th EPOCH --- TRAIN LOSS: 0.0175 || VALIDATION LOSS: 0.0187 || BEST EPOCH: 92\n"
          ]
        },
        {
          "output_type": "stream",
          "name": "stderr",
          "text": [
            "\n",
            "100%|██████████| 125/125 [00:07<00:00, 16.24it/s]\n",
            "32it [00:01, 24.65it/s]                        "
          ]
        },
        {
          "output_type": "stream",
          "name": "stdout",
          "text": [
            "\t93th EPOCH --- TRAIN LOSS: 0.0175 || VALIDATION LOSS: 0.0187 || BEST EPOCH: 93\n"
          ]
        },
        {
          "output_type": "stream",
          "name": "stderr",
          "text": [
            "\n",
            "100%|██████████| 125/125 [00:07<00:00, 16.19it/s]\n",
            "32it [00:01, 24.81it/s]                        "
          ]
        },
        {
          "output_type": "stream",
          "name": "stdout",
          "text": [
            "\t94th EPOCH --- TRAIN LOSS: 0.0174 || VALIDATION LOSS: 0.0187 || BEST EPOCH: 94\n"
          ]
        },
        {
          "output_type": "stream",
          "name": "stderr",
          "text": [
            "\n",
            "100%|██████████| 125/125 [00:07<00:00, 15.97it/s]\n",
            "32it [00:01, 24.73it/s]                        "
          ]
        },
        {
          "output_type": "stream",
          "name": "stdout",
          "text": [
            "\t95th EPOCH --- TRAIN LOSS: 0.0174 || VALIDATION LOSS: 0.0186 || BEST EPOCH: 95\n"
          ]
        },
        {
          "output_type": "stream",
          "name": "stderr",
          "text": [
            "\n",
            "100%|██████████| 125/125 [00:07<00:00, 16.04it/s]\n",
            "32it [00:01, 23.83it/s]                        "
          ]
        },
        {
          "output_type": "stream",
          "name": "stdout",
          "text": [
            "\t96th EPOCH --- TRAIN LOSS: 0.0174 || VALIDATION LOSS: 0.0186 || BEST EPOCH: 96\n"
          ]
        },
        {
          "output_type": "stream",
          "name": "stderr",
          "text": [
            "\n",
            "100%|██████████| 125/125 [00:07<00:00, 16.04it/s]\n",
            "32it [00:01, 24.35it/s]                        "
          ]
        },
        {
          "output_type": "stream",
          "name": "stdout",
          "text": [
            "\t97th EPOCH --- TRAIN LOSS: 0.0173 || VALIDATION LOSS: 0.0186 || BEST EPOCH: 97\n"
          ]
        },
        {
          "output_type": "stream",
          "name": "stderr",
          "text": [
            "\n",
            "100%|██████████| 125/125 [00:07<00:00, 15.82it/s]\n",
            "32it [00:01, 23.85it/s]                        "
          ]
        },
        {
          "output_type": "stream",
          "name": "stdout",
          "text": [
            "\t98th EPOCH --- TRAIN LOSS: 0.0173 || VALIDATION LOSS: 0.0186 || BEST EPOCH: 98\n"
          ]
        },
        {
          "output_type": "stream",
          "name": "stderr",
          "text": [
            "\n",
            "100%|██████████| 125/125 [00:07<00:00, 16.06it/s]\n",
            "32it [00:01, 24.21it/s]                        "
          ]
        },
        {
          "output_type": "stream",
          "name": "stdout",
          "text": [
            "\t99th EPOCH --- TRAIN LOSS: 0.0173 || VALIDATION LOSS: 0.0185 || BEST EPOCH: 99\n"
          ]
        },
        {
          "output_type": "stream",
          "name": "stderr",
          "text": [
            "\n",
            "100%|██████████| 125/125 [00:07<00:00, 15.95it/s]\n",
            "32it [00:01, 24.69it/s]                        "
          ]
        },
        {
          "output_type": "stream",
          "name": "stdout",
          "text": [
            "\t100th EPOCH --- TRAIN LOSS: 0.0172 || VALIDATION LOSS: 0.0185 || BEST EPOCH: 100\n"
          ]
        },
        {
          "output_type": "stream",
          "name": "stderr",
          "text": [
            "\n"
          ]
        }
      ]
    },
    {
      "cell_type": "markdown",
      "source": [
        "# **8. Plotting the Loss Histories**"
      ],
      "metadata": {
        "id": "60JYx5BPWYVR"
      }
    },
    {
      "cell_type": "code",
      "source": [
        "import matplotlib.pyplot as plt\n",
        "x_axis = np.arange(NUM_EPOCH)\n",
        "fig, ax = plt.subplots()\n",
        "ax.plot(x_axis, train_loss_history, label='train loss')\n",
        "ax.plot(x_axis, valid_loss_history, label='validation loss')\n",
        "ax.set_xlabel('Num epoch')\n",
        "ax.set_ylabel('Loss')\n",
        "ax.set_title('Loss History')\n",
        "ax.legend()\n",
        "fig.show()"
      ],
      "metadata": {
        "id": "XaGuPAdiWcCM",
        "colab": {
          "base_uri": "https://localhost:8080/",
          "height": 295
        },
        "outputId": "fb174d14-18fa-4e74-e55c-da10e1b7bf1d"
      },
      "execution_count": null,
      "outputs": [
        {
          "output_type": "display_data",
          "data": {
            "text/plain": [
              "<Figure size 432x288 with 1 Axes>"
            ],
            "image/png": "[encoded data removed]"
          },
          "metadata": {
            "needs_background": "light"
          }
        }
      ]
    },
    {
      "cell_type": "markdown",
      "source": [
        "# **9. Generating SMILES with VAE**"
      ],
      "metadata": {
        "id": "gGYehu2SWmwq"
      }
    },
    {
      "cell_type": "code",
      "source": [
        "def index_list_to_smiles(ind_list, i_to_c):\n",
        "    return \"\".join([i_to_c[x] for x in ind_list])\n",
        "\n",
        "\n",
        "save_state_dict = torch.load(os.path.join(save_dir, f\"save_{best_epoch}.pt\"))\n",
        "model.load_state_dict(save_state_dict)\n",
        "model.eval()\n",
        "\n",
        "max_length = 64\n",
        "num_sample = 200\n",
        "i_to_c = dataset._get_i_to_c()\n",
        "\n",
        "gen_smis = []\n",
        "for _ in tqdm(range(num_sample), total=num_sample):\n",
        "    gen_smi = model.generate(max_length)\n",
        "    gen_smis.append(index_list_to_smiles(gen_smi, i_to_c))\n",
        "\n",
        "print(gen_smis)"
      ],
      "metadata": {
        "id": "GQWYe-bmWqB9",
        "colab": {
          "base_uri": "https://localhost:8080/"
        },
        "outputId": "969326e2-5a08-44d2-f278-5f61df916b70"
      },
      "execution_count": null,
      "outputs": [
        {
          "output_type": "stream",
          "name": "stderr",
          "text": [
            "100%|██████████| 200/200 [00:02<00:00, 97.54it/s]"
          ]
        },
        {
          "output_type": "stream",
          "name": "stdout",
          "text": [
            "['O=C1CCCCC1=O', 'c1ccc(-c2ccccc2)n1Cc1ccccc1', 'CC1(C)CC(=O)C2C(C#N)=C(N)O1', '', 'CC(=O)Nc1ccc(Cl)cc1Cl)c1ccccc1', 'CC(=O)OCCC(=O)O)c1ccccc1', 'CCOC(=O)CCC(=O)Nc1ccccc1', 'N=C/c1c(C)nc2ccccc21', 'O=C(Nc1ccccc1)c1ccccc1O', 'c1ccc(C2C(C#N)=C(N)OC2=O)cc1', 'O=C(NCCO)C(=O)NC1c1ccccc1', '', 'N=O', 'O=C(NCCO)C(=O)NC1c1ccccc1', 'nnn1[O-]', 'CC(C)CC(C)C)C(=O)NCCCCCCCCCCCC1CCCCC1', 'O=O)n1Cc1ccccc1', '', 'c2ccccc2C(=O)NC1c1ccccc1', 'c1ccc(-c2ccccc23)cc1', 'C=C(N)Oc1ccccc1)c1ccccc1', '', 'CC(=O)Nc1ccc(C(=O)Nc2ccccc2)cc1', 'c1c2ccccc2c2ccc(Cl)cc21', '#N#CC1CCCCC1', 'Cn1c(=O)[nH]c(=O)n2C', 'CC(C)CC(=O)NNC(=O)c1ccccc1', 'O=C(O)CCC(=O)Nc1ccccc1', 'O=C1CCCCC1', 'O=C(O)CC(C)(C)CC(=O)OCCOCCOCC1CCCCC1', 'CCOC(=O)C(NC(=O)c1ccccc1)c1ccccc1', 'c1ccccc1C(=O)Nc1ccccc1', 'CCOC(=O)CCC(=O)NCCCCCCCCCC1CCCCC1', 'O=C/C(C)=C/c1ccccc1)c1ccccc1', 'N#CC1=C(N)OC2=C(C(=O)CCC2)C1c1ccccc1', '', 'CCOC(=O)c2ccccc2)cc1', 'O=C1/C(=N/NC(=O)c2ccccc2)C(=O)N1CCOCC1', 'O=C(NCCO)C1CCCCCC1', 'c1ccccc1)c1ccccc1O', 'CC1CCCCC1=O', 'CC1CCCCCCCCCCCCCCCCCCCCCCCCCCCCCCCCCCCCCCCCCCCCCC1', 'CC(C)(C)C(=O)NNC(=O)c1c(O)c2ccccc2[nH]c1=O', 'C(=O)N1CCCCC1', 'CCOC(=O)C1=C(C)NC(=O)NC1c1ccccc1', '', 'Clc1ncnn1Cc1ccccc1', 'N#N/N=C/c1ccccc1', 'O=C1/C(=N/NC(=O)c2ccccc2)CC1', 'Cl)n1c2ccccc2c2ccccc21', 'N#CC1=C(N)OC2=C(C(=O)CCC2)C1c1ccccc1', 'FF', 'N#CCCCCCCCCCCCCCCCCCCCCCCCCCCCCCCCCCCCCC1', 'F', 'CC(=O)Nc2ccccc2)cc1', 'c1ccccc1)/C(=N\\\\O)C1CCCCC1', 'c1ccc(Cl)cc1Cl', 'c1ccc(Cl)cc1)c1ccccc1O', 'N#CCCCCCCCCCCCCC1=C(N)OC2=C(C(=O)CCC2)C1c1ccccc1', 'Cn1c(=O)[nH]c(=O)n2C', 'rc1ccccc1-2', 'O=[O-]', 'CCOC(=O)CCC(=O)OCC)c1ccccc1', 'O', 'O=C(NCCO)C1CCCCCC1', '', 'Clc1ccccc1)c1ccccc1O', 'Cc1ccc(C(=O)O)cc1', 'F', 'O=C(O)c1ccc(C(=O)Nc2ccccc2)cc1', 'CC(=O)O)c1ccccc1O', 'CC(=O)Nc1ccc(C(=O)Nc2ccccc2)c(O)c2ccccc21', 'Cc1ccc(C2C(C#N)=C(N)Oc3ccccc32)cc1', 'ccccc1C(F)(F)F)c(=O)n(Cc1ccccc1)c1ccccc1', 'C=C1CCCCC1=O', '', 'CCOC(=O)C1=C(C)NC(=O)NC1c1ccccc1', 'Cn1c(=O)[nH]c(=O)n2C', 'c1ccc(-c2ccccc23)cc1', 'N#CCCCCCCCCCCCCCCCCCCCCCCCCCCCCCCCCCCCCCCCCCC1', 'CCOC(=O)CC(C)(C)CC(=O)OCCOC(C)(C)C)C(C)(C)C', 'COc1ccc(C2C(C#N)=C(N)Oc3c2c(=O)[nH]c(=O)n2C)n1Cc1ccccc1', 'CCOC(=O)C1=C(C)NC(=O)NC1c1ccccc1', 'Cl)n1c2ccccc2c2ccccc21', '', 'Cl)n1cnn2C', 'Cc1nc2ccccc2c1C(=O)OCC', 'O=C(O)CCC(=O)Nc1ccccc1C(=O)O', 'O=C1/C(=N/NC(=O)c2ccccc2)CC1', 'C(=O)[O-])c1Cl', 'O=C1CCCCCCCCCCCCCCCCCCCCCCCCCCCCCCCCC1', 'O=C(O)CCC(=O)Nc1ccccc1', 'O=C1CCCC2=C1CCCCC1', '1=O', 'CC(C)(C)C(=O)OCCCCCC1CCCCC1', 'Cc1ccc(C(=O)NCC(=O)NCC(=O)Nc2ccccc2)cc1', 'O=C1CCCC2=C1CCCCC1', 'CC(C)CC(C)CC(C)CC(=O)O', 'N#CC12CCCCC2=O', 'CC1(C)CC(=O)C2C1=C(C(=O)OCC)C(C)(C)C2', 'c1ccccc1Cl)c1ccccc1O', 'O=C(NCCO)C1CCCCCC1', '#N#CCC1C#N)C(=O)NC1c1ccccc1', '', 'N#CC1=C(N)OC2=C(C(=O)CCC2)C1c1ccccc1', 'O=C(Nc1ccccc1)c1ccccc1O', 'c1ccccc1)NC(=O)c1ccccc1', 'Br', 'O=C(NCCO)C(=O)NC1c1ccccc1', 'c2ccc(Cl)cc2)c(O)c2ccccc21', '', 'l)[O-]', 'O=[N+]([O-])c1ccc(C2C(C#N)=C(N)OC2=O)cc1', 'Cc1ccc(C(=O)NCC(=O)NCCCCCC)cc1', 'c1ccc(C(=O)O)c1', 'N#NCC1CCCCC1', 'CCOC(=O)C1=C(C)NC(=O)NC1c1ccccc1', 'c1ccc2ccccc2c1-c1ccccc1)c1ccccc1', 'N#C)c1nc(NCC)nc(N(C)C)n1', 'NC(=O)c1ccc(C(=O)Nc2ccc(Cl)cc2)cc1', 'cc(=O)n(Cc1ccccc1)c1=O', '', '', 'O=C(NCCO)C(=O)NC1c1ccccc1', 'C=C(C#N)CC(C)(C)C)n1', 'CC(C)(C)C(=O)NNC(=O)c1ccccc1', 'CC(=O)Nc1ccc(Cl)cc1Cl', '', 'N#CC1=C(N)OC2=C(C(=O)CCC2)C1c1ccccc1', 'C=C1C(=O)CC(C)(C)CC1=O', 'O=C(N/N=C/c1ccccc1)c1ccccc1O', '', '[O-]', 'C=O', 'O=C/c1ccccc1)c1ccccc1', 'c1ccc(C(=O)NCC(=O)NCCCCCC)c1', 'CCOc1ccc(Cl)cc1Cl)c1ccccc1O', 'c1ccccc1)n2Cc1ccccc1', 'N#CCC1C(=O)Nc1ccccc1Cl)c1ccccc1', 'O)c1ccc(C(C)(C)C)c1', 'O=C(O)CCC(=O)Nc1ccccc1', '', 'c1ccccc12)c1ccccc1', 'CC(C)(C)CC(=O)N1CCCCC1', 'Cl)c1ccc(Cl)cc1', '', '', 'CCOC(=O)C1=C(C)NC(=O)NC1c1ccccc1', 'N#CC1=C(N)OC2=C(C(=O)CCC2)C1c1ccccc1', 'O', 'CCOC(=O)C(NC(=O)c1ccccc1)c1ccccc1', 'CCOC(=O)CCC(=O)Nc1ccccc1', 'c4ccccc4n3n2Cc2ccccc2)cc1', 'N#CC(=O)O)c1', 'O=C1/C(=N/NC(=O)c2ccccc2)C(=O)N1CCOCC1', '', 'CC1(C)CC(=O)C2C(C#N)=C(N)O1', 'ccccc12)NC(=O)c1ccccc1', 'C(=O)O)c1ccccc1O', 'N#CC1=C(N)OC2=C(C(=O)CCC2)C1c1ccccc1', 'N#CCCCCCCCCCCCCCCCCCCCCCCCCCCCCCCCC1=C/C(=O)c1ccccc1', 'FC(Cl)(Cl)Cl', 'O=C(N/N=C/c2ccccc2)c2ccccc21', 'C=C(N)Oc1ccccc12', 'c1ccccc1)n2CC(C)(C)CC1=O', 'O=C(O)c1ccc(C(=O)Nc2ccccc2)cc1', 'O=C(O)CCC(=O)Nc1ccccc1', 'CC(C)CC(=O)O)c1ccccc1', '', 'CCOC(=O)C(=O)NC1c1ccccc1', 'O=C1CCCC2=C1CCCCC1', 'CC(=O)Nc1ccc(Cl)cc1Cl', '', '', '', 'CC(=O)NC(=O)NC(C)(C)C)n1', 'O=C1CCCC2=O', 'O=C(O)CCC(=O)Nc1ccccc1', 'CCOC(=O)CC(=O)Nc1ccccc1F)c1ccccc1', 'CC(=O)NC1CCCCC1', 'CCOCCOCCOCCO)n1Cc1ccccc1', 'Nc1nonc1N', 'O=C(O)CC(C)(C)C', 'O=[N+]([O-])c1ccc(C2C(C#N)=C(N)OC2=O)cc1', '', 'O', 'O=[N+]([O-])c1ccc(C2C(C#N)=C(N)OC2=O)cc1', 'O=C(O)[O-]', 'CCOC(=O)C1=C(C)NC(=O)NC1c1ccccc1', '', 'CC(=O)NCC(=O)NCC(=O)O)cc1', 'CCOC(=O)C1=C(C)NC(=O)NC1c1ccccc1', 'CCOC(=O)c1ccc(C(=O)Nc2ccc(Cl)cc2)c(O)c2ccccc21', 'c1ccccc1)NC(=O)c1ccccc1C(=O)Nc1ccccc1', 'C=C1C(=O)N(C)C(=O)NC1c1ccccc1', 'c1ccc(-c2ccccc2)n1CCCCC2', 'F)(F)F', '', '', 'O=[N+]([O-])C(C)(C)C(C#N)=C(N)OC1=O']\n"
          ]
        },
        {
          "output_type": "stream",
          "name": "stderr",
          "text": [
            "\n"
          ]
        }
      ]
    },
    {
      "cell_type": "code",
      "source": [
        "from rdkit.Chem import Draw, AllChem\n",
        "from rdkit.Chem.Draw import rdMolDraw2D\n",
        "from rdkit.Chem.Draw.MolDrawing import DrawingOptions\n",
        "from IPython.display import SVG\n",
        "\n",
        "def filter_smiles(smi_list, ref_smi_list=None):\n",
        "\n",
        "    # 1. Valid smiles?\n",
        "    valid_smi_list = []\n",
        "    for smi in smi_list:\n",
        "        if len(smi) == 0: continue\n",
        "        try: \n",
        "            mol = Chem.MolFromSmiles(smi)\n",
        "            assert mol is not None\n",
        "        except:\n",
        "            continue\n",
        "        valid_smi_list.append(smi)\n",
        "\n",
        "    # 2. Unique smiles?\n",
        "    unique_smi_list = []\n",
        "    for smi in valid_smi_list:\n",
        "        if smi not in unique_smi_list:\n",
        "          unique_smi_list.append(smi)\n",
        "        \n",
        "\n",
        "    # 3. Novel smiles?\n",
        "    novel_smi_list = []\n",
        "    for smi in unique_smi_list:\n",
        "        if smi not in train_dataset.smi_list:\n",
        "          novel_smi_list.append(smi)\n",
        "        \n",
        "\n",
        "    return valid_smi_list, unique_smi_list, novel_smi_list\n",
        "\n",
        "filtered_gen_smis_val = filter_smiles(gen_smis)[0]\n",
        "filtered_gen_smis_uni = filter_smiles(gen_smis)[1]\n",
        "filtered_gen_smis_nov = filter_smiles(gen_smis)[2]\n",
        "print(\"Number of valid SMILES:\", len(filtered_gen_smis_val))\n",
        "print(\"Number of unique SMILES:\", len(filtered_gen_smis_uni))\n",
        "print(\"Number of novel SMILES:\", len(filtered_gen_smis_nov))\n",
        "\n",
        "mols = [Chem.MolFromSmiles(smi) for smi in filtered_gen_smis_nov][:10]\n",
        "\n",
        "mols_per_row = 5\n",
        "mols_per_column = num_sample // mols_per_row\n",
        "size = 300\n",
        "min_font_size = 12\n",
        "\n",
        "d2d = rdMolDraw2D.MolDraw2DSVG(mols_per_row*size, mols_per_column*size, size, size)\n",
        "d2d.drawOptions().minFontSize = min_font_size\n",
        "d2d.drawOptions().scaleBondWidth = True\n",
        "d2d.DrawMolecules(mols)\n",
        "d2d.FinishDrawing()\n",
        "SVG(d2d.GetDrawingText())\n",
        "\n"
      ],
      "metadata": {
        "colab": {
          "base_uri": "https://localhost:8080/",
          "height": 1000
        },
        "id": "7UgbNa5Lu8W3",
        "outputId": "b6e16ae8-4ecd-4e58-ce3e-a002c59b399a"
      },
      "execution_count": null,
      "outputs": [
        {
          "output_type": "stream",
          "name": "stdout",
          "text": [
            "Number of valid SMILES: 83\n",
            "Number of unique SMILES: 55\n",
            "Number of novel SMILES: 54\n"
          ]
        },
        {
          "output_type": "execute_result",
          "data": {
            "text/plain": [
              "<IPython.core.display.SVG object>"
            ],
            "image/svg+xml": "<svg xmlns=\"http://www.w3.org/2000/svg\" xmlns:rdkit=\"http://www.rdkit.org/xml\" xmlns:xlink=\"http://www.w3.org/1999/xlink\" version=\"1.1\" baseProfile=\"full\" xml:space=\"preserve\" width=\"1500px\" height=\"12000px\" viewBox=\"0 0 1500 12000\">\n<!-- END OF HEADER -->\n<rect style=\"opacity:1.0;fill:#FFFFFF;stroke:none\" width=\"1500.0\" height=\"12000.0\" x=\"0.0\" y=\"0.0\"> </rect>\n<path class=\"bond-0 atom-0 atom-1\" d=\"M 180.7,178.8 L 169.7,172.5\" style=\"fill:none;fill-rule:evenodd;stroke:#FF0000;stroke-width:0.8px;stroke-linecap:butt;stroke-linejoin:miter;stroke-opacity:1\"/>\n<path class=\"bond-0 atom-0 atom-1\" d=\"M 169.7,172.5 L 158.7,166.1\" style=\"fill:none;fill-rule:evenodd;stroke:#000000;stroke-width:0.8px;stroke-linecap:butt;stroke-linejoin:miter;stroke-opacity:1\"/>\n<path class=\"bond-0 atom-0 atom-1\" d=\"M 183.0,175.0 L 172.0,168.6\" style=\"fill:none;fill-rule:evenodd;stroke:#FF0000;stroke-width:0.8px;stroke-linecap:butt;stroke-linejoin:miter;stroke-opacity:1\"/>\n<path class=\"bond-0 atom-0 atom-1\" d=\"M 172.0,168.6 L 160.9,162.2\" style=\"fill:none;fill-rule:evenodd;stroke:#000000;stroke-width:0.8px;stroke-linecap:butt;stroke-linejoin:miter;stroke-opacity:1\"/>\n<path class=\"bond-1 atom-1 atom-2\" d=\"M 160.9,164.8 L 135.2,179.7\" style=\"fill:none;fill-rule:evenodd;stroke:#000000;stroke-width:0.8px;stroke-linecap:butt;stroke-linejoin:miter;stroke-opacity:1\"/>\n<path class=\"bond-2 atom-2 atom-3\" d=\"M 135.2,179.7 L 109.4,164.8\" style=\"fill:none;fill-rule:evenodd;stroke:#000000;stroke-width:0.8px;stroke-linecap:butt;stroke-linejoin:miter;stroke-opacity:1\"/>\n<path class=\"bond-3 atom-3 atom-4\" d=\"M 109.4,164.8 L 109.4,135.0\" style=\"fill:none;fill-rule:evenodd;stroke:#000000;stroke-width:0.8px;stroke-linecap:butt;stroke-linejoin:miter;stroke-opacity:1\"/>\n<path class=\"bond-4 atom-4 atom-5\" d=\"M 109.4,135.0 L 135.2,120.2\" style=\"fill:none;fill-rule:evenodd;stroke:#000000;stroke-width:0.8px;stroke-linecap:butt;stroke-linejoin:miter;stroke-opacity:1\"/>\n<path class=\"bond-5 atom-5 atom-6\" d=\"M 135.2,120.2 L 160.9,135.0\" style=\"fill:none;fill-rule:evenodd;stroke:#000000;stroke-width:0.8px;stroke-linecap:butt;stroke-linejoin:miter;stroke-opacity:1\"/>\n<path class=\"bond-6 atom-6 atom-7\" d=\"M 160.9,137.6 L 172.0,131.3\" style=\"fill:none;fill-rule:evenodd;stroke:#000000;stroke-width:0.8px;stroke-linecap:butt;stroke-linejoin:miter;stroke-opacity:1\"/>\n<path class=\"bond-6 atom-6 atom-7\" d=\"M 172.0,131.3 L 183.0,124.9\" style=\"fill:none;fill-rule:evenodd;stroke:#FF0000;stroke-width:0.8px;stroke-linecap:butt;stroke-linejoin:miter;stroke-opacity:1\"/>\n<path class=\"bond-6 atom-6 atom-7\" d=\"M 158.7,133.8 L 169.7,127.4\" style=\"fill:none;fill-rule:evenodd;stroke:#000000;stroke-width:0.8px;stroke-linecap:butt;stroke-linejoin:miter;stroke-opacity:1\"/>\n<path class=\"bond-6 atom-6 atom-7\" d=\"M 169.7,127.4 L 180.7,121.0\" style=\"fill:none;fill-rule:evenodd;stroke:#FF0000;stroke-width:0.8px;stroke-linecap:butt;stroke-linejoin:miter;stroke-opacity:1\"/>\n<path class=\"bond-7 atom-6 atom-1\" d=\"M 160.9,135.0 L 160.9,164.8\" style=\"fill:none;fill-rule:evenodd;stroke:#000000;stroke-width:0.8px;stroke-linecap:butt;stroke-linejoin:miter;stroke-opacity:1\"/>\n<path d=\"M 159.7,165.6 L 160.9,164.8 L 160.9,163.3\" style=\"fill:none;stroke:#000000;stroke-width:0.8px;stroke-linecap:butt;stroke-linejoin:miter;stroke-opacity:1;\"/>\n<path d=\"M 136.4,179.0 L 135.2,179.7 L 133.9,179.0\" style=\"fill:none;stroke:#000000;stroke-width:0.8px;stroke-linecap:butt;stroke-linejoin:miter;stroke-opacity:1;\"/>\n<path d=\"M 110.7,165.6 L 109.4,164.8 L 109.4,163.3\" style=\"fill:none;stroke:#000000;stroke-width:0.8px;stroke-linecap:butt;stroke-linejoin:miter;stroke-opacity:1;\"/>\n<path d=\"M 109.4,136.5 L 109.4,135.0 L 110.7,134.3\" style=\"fill:none;stroke:#000000;stroke-width:0.8px;stroke-linecap:butt;stroke-linejoin:miter;stroke-opacity:1;\"/>\n<path d=\"M 133.9,120.9 L 135.2,120.2 L 136.4,120.9\" style=\"fill:none;stroke:#000000;stroke-width:0.8px;stroke-linecap:butt;stroke-linejoin:miter;stroke-opacity:1;\"/>\n<path d=\"M 159.7,134.3 L 160.9,135.0 L 160.9,136.5\" style=\"fill:none;stroke:#000000;stroke-width:0.8px;stroke-linecap:butt;stroke-linejoin:miter;stroke-opacity:1;\"/>\n<path class=\"atom-0\" d=\"M 182.8 179.7 Q 182.8 177.7, 183.8 176.6 Q 184.8 175.4, 186.7 175.4 Q 188.6 175.4, 189.6 176.6 Q 190.6 177.7, 190.6 179.7 Q 190.6 181.8, 189.6 183.0 Q 188.6 184.1, 186.7 184.1 Q 184.9 184.1, 183.8 183.0 Q 182.8 181.8, 182.8 179.7 M 186.7 183.2 Q 188.0 183.2, 188.7 182.3 Q 189.4 181.4, 189.4 179.7 Q 189.4 178.1, 188.7 177.2 Q 188.0 176.4, 186.7 176.4 Q 185.4 176.4, 184.7 177.2 Q 184.0 178.1, 184.0 179.7 Q 184.0 181.4, 184.7 182.3 Q 185.4 183.2, 186.7 183.2 \" fill=\"#FF0000\"/>\n<path class=\"atom-7\" d=\"M 182.8 120.2 Q 182.8 118.1, 183.8 117.0 Q 184.8 115.9, 186.7 115.9 Q 188.6 115.9, 189.6 117.0 Q 190.6 118.1, 190.6 120.2 Q 190.6 122.2, 189.6 123.4 Q 188.6 124.6, 186.7 124.6 Q 184.9 124.6, 183.8 123.4 Q 182.8 122.3, 182.8 120.2 M 186.7 123.6 Q 188.0 123.6, 188.7 122.8 Q 189.4 121.9, 189.4 120.2 Q 189.4 118.5, 188.7 117.7 Q 188.0 116.8, 186.7 116.8 Q 185.4 116.8, 184.7 117.7 Q 184.0 118.5, 184.0 120.2 Q 184.0 121.9, 184.7 122.8 Q 185.4 123.6, 186.7 123.6 \" fill=\"#FF0000\"/>\n<path class=\"bond-0 atom-0 atom-1\" d=\"M 436.8,185.1 L 457.5,206.5\" style=\"fill:none;fill-rule:evenodd;stroke:#000000;stroke-width:0.8px;stroke-linecap:butt;stroke-linejoin:miter;stroke-opacity:1\"/>\n<path class=\"bond-0 atom-0 atom-1\" d=\"M 442.3,184.3 L 458.5,201.0\" style=\"fill:none;fill-rule:evenodd;stroke:#000000;stroke-width:0.8px;stroke-linecap:butt;stroke-linejoin:miter;stroke-opacity:1\"/>\n<path class=\"bond-1 atom-1 atom-2\" d=\"M 457.5,206.5 L 484.3,193.3\" style=\"fill:none;fill-rule:evenodd;stroke:#000000;stroke-width:0.8px;stroke-linecap:butt;stroke-linejoin:miter;stroke-opacity:1\"/>\n<path class=\"bond-2 atom-2 atom-3\" d=\"M 484.3,193.3 L 480.1,163.9\" style=\"fill:none;fill-rule:evenodd;stroke:#000000;stroke-width:0.8px;stroke-linecap:butt;stroke-linejoin:miter;stroke-opacity:1\"/>\n<path class=\"bond-2 atom-2 atom-3\" d=\"M 479.4,190.8 L 476.1,167.7\" style=\"fill:none;fill-rule:evenodd;stroke:#000000;stroke-width:0.8px;stroke-linecap:butt;stroke-linejoin:miter;stroke-opacity:1\"/>\n<path class=\"bond-3 atom-3 atom-4\" d=\"M 480.1,163.9 L 501.5,143.1\" style=\"fill:none;fill-rule:evenodd;stroke:#000000;stroke-width:0.8px;stroke-linecap:butt;stroke-linejoin:miter;stroke-opacity:1\"/>\n<path class=\"bond-4 atom-4 atom-5\" d=\"M 501.5,143.1 L 530.1,151.3\" style=\"fill:none;fill-rule:evenodd;stroke:#000000;stroke-width:0.8px;stroke-linecap:butt;stroke-linejoin:miter;stroke-opacity:1\"/>\n<path class=\"bond-4 atom-4 atom-5\" d=\"M 505.2,139.6 L 528.8,146.3\" style=\"fill:none;fill-rule:evenodd;stroke:#000000;stroke-width:0.8px;stroke-linecap:butt;stroke-linejoin:miter;stroke-opacity:1\"/>\n<path class=\"bond-5 atom-5 atom-6\" d=\"M 530.1,151.3 L 551.5,130.6\" style=\"fill:none;fill-rule:evenodd;stroke:#000000;stroke-width:0.8px;stroke-linecap:butt;stroke-linejoin:miter;stroke-opacity:1\"/>\n<path class=\"bond-6 atom-6 atom-7\" d=\"M 551.5,130.6 L 544.2,101.7\" style=\"fill:none;fill-rule:evenodd;stroke:#000000;stroke-width:0.8px;stroke-linecap:butt;stroke-linejoin:miter;stroke-opacity:1\"/>\n<path class=\"bond-6 atom-6 atom-7\" d=\"M 546.5,129.2 L 540.5,105.3\" style=\"fill:none;fill-rule:evenodd;stroke:#000000;stroke-width:0.8px;stroke-linecap:butt;stroke-linejoin:miter;stroke-opacity:1\"/>\n<path class=\"bond-7 atom-7 atom-8\" d=\"M 544.2,101.7 L 515.6,93.5\" style=\"fill:none;fill-rule:evenodd;stroke:#000000;stroke-width:0.8px;stroke-linecap:butt;stroke-linejoin:miter;stroke-opacity:1\"/>\n<path class=\"bond-8 atom-8 atom-9\" d=\"M 515.6,93.5 L 494.2,114.3\" style=\"fill:none;fill-rule:evenodd;stroke:#000000;stroke-width:0.8px;stroke-linecap:butt;stroke-linejoin:miter;stroke-opacity:1\"/>\n<path class=\"bond-8 atom-8 atom-9\" d=\"M 516.8,98.6 L 499.2,115.7\" style=\"fill:none;fill-rule:evenodd;stroke:#000000;stroke-width:0.8px;stroke-linecap:butt;stroke-linejoin:miter;stroke-opacity:1\"/>\n<path class=\"bond-9 atom-3 atom-10\" d=\"M 480.1,163.9 L 467.5,161.7\" style=\"fill:none;fill-rule:evenodd;stroke:#000000;stroke-width:0.8px;stroke-linecap:butt;stroke-linejoin:miter;stroke-opacity:1\"/>\n<path class=\"bond-9 atom-3 atom-10\" d=\"M 467.5,161.7 L 454.9,159.5\" style=\"fill:none;fill-rule:evenodd;stroke:#0000FF;stroke-width:0.8px;stroke-linecap:butt;stroke-linejoin:miter;stroke-opacity:1\"/>\n<path class=\"bond-10 atom-10 atom-11\" d=\"M 448.2,153.5 L 442.9,142.8\" style=\"fill:none;fill-rule:evenodd;stroke:#0000FF;stroke-width:0.8px;stroke-linecap:butt;stroke-linejoin:miter;stroke-opacity:1\"/>\n<path class=\"bond-10 atom-10 atom-11\" d=\"M 442.9,142.8 L 437.6,132.0\" style=\"fill:none;fill-rule:evenodd;stroke:#000000;stroke-width:0.8px;stroke-linecap:butt;stroke-linejoin:miter;stroke-opacity:1\"/>\n<path class=\"bond-11 atom-11 atom-12\" d=\"M 437.6,132.0 L 407.9,130.0\" style=\"fill:none;fill-rule:evenodd;stroke:#000000;stroke-width:0.8px;stroke-linecap:butt;stroke-linejoin:miter;stroke-opacity:1\"/>\n<path class=\"bond-12 atom-12 atom-13\" d=\"M 407.9,130.0 L 394.8,103.3\" style=\"fill:none;fill-rule:evenodd;stroke:#000000;stroke-width:0.8px;stroke-linecap:butt;stroke-linejoin:miter;stroke-opacity:1\"/>\n<path class=\"bond-12 atom-12 atom-13\" d=\"M 402.8,129.6 L 392.0,107.5\" style=\"fill:none;fill-rule:evenodd;stroke:#000000;stroke-width:0.8px;stroke-linecap:butt;stroke-linejoin:miter;stroke-opacity:1\"/>\n<path class=\"bond-13 atom-13 atom-14\" d=\"M 394.8,103.3 L 365.1,101.2\" style=\"fill:none;fill-rule:evenodd;stroke:#000000;stroke-width:0.8px;stroke-linecap:butt;stroke-linejoin:miter;stroke-opacity:1\"/>\n<path class=\"bond-14 atom-14 atom-15\" d=\"M 365.1,101.2 L 348.5,125.9\" style=\"fill:none;fill-rule:evenodd;stroke:#000000;stroke-width:0.8px;stroke-linecap:butt;stroke-linejoin:miter;stroke-opacity:1\"/>\n<path class=\"bond-14 atom-14 atom-15\" d=\"M 367.4,105.9 L 353.7,126.3\" style=\"fill:none;fill-rule:evenodd;stroke:#000000;stroke-width:0.8px;stroke-linecap:butt;stroke-linejoin:miter;stroke-opacity:1\"/>\n<path class=\"bond-15 atom-15 atom-16\" d=\"M 348.5,125.9 L 361.6,152.7\" style=\"fill:none;fill-rule:evenodd;stroke:#000000;stroke-width:0.8px;stroke-linecap:butt;stroke-linejoin:miter;stroke-opacity:1\"/>\n<path class=\"bond-16 atom-16 atom-17\" d=\"M 361.6,152.7 L 391.3,154.7\" style=\"fill:none;fill-rule:evenodd;stroke:#000000;stroke-width:0.8px;stroke-linecap:butt;stroke-linejoin:miter;stroke-opacity:1\"/>\n<path class=\"bond-16 atom-16 atom-17\" d=\"M 364.5,148.4 L 389.1,150.1\" style=\"fill:none;fill-rule:evenodd;stroke:#000000;stroke-width:0.8px;stroke-linecap:butt;stroke-linejoin:miter;stroke-opacity:1\"/>\n<path class=\"bond-17 atom-10 atom-0\" d=\"M 448.0,164.0 L 442.4,174.5\" style=\"fill:none;fill-rule:evenodd;stroke:#0000FF;stroke-width:0.8px;stroke-linecap:butt;stroke-linejoin:miter;stroke-opacity:1\"/>\n<path class=\"bond-17 atom-10 atom-0\" d=\"M 442.4,174.5 L 436.8,185.1\" style=\"fill:none;fill-rule:evenodd;stroke:#000000;stroke-width:0.8px;stroke-linecap:butt;stroke-linejoin:miter;stroke-opacity:1\"/>\n<path class=\"bond-18 atom-17 atom-12\" d=\"M 391.3,154.7 L 407.9,130.0\" style=\"fill:none;fill-rule:evenodd;stroke:#000000;stroke-width:0.8px;stroke-linecap:butt;stroke-linejoin:miter;stroke-opacity:1\"/>\n<path class=\"bond-19 atom-9 atom-4\" d=\"M 494.2,114.3 L 501.5,143.1\" style=\"fill:none;fill-rule:evenodd;stroke:#000000;stroke-width:0.8px;stroke-linecap:butt;stroke-linejoin:miter;stroke-opacity:1\"/>\n<path d=\"M 437.9,186.1 L 436.8,185.1 L 437.1,184.5\" style=\"fill:none;stroke:#000000;stroke-width:0.8px;stroke-linecap:butt;stroke-linejoin:miter;stroke-opacity:1;\"/>\n<path d=\"M 456.5,205.4 L 457.5,206.5 L 458.9,205.8\" style=\"fill:none;stroke:#000000;stroke-width:0.8px;stroke-linecap:butt;stroke-linejoin:miter;stroke-opacity:1;\"/>\n<path d=\"M 482.9,194.0 L 484.3,193.3 L 484.1,191.9\" style=\"fill:none;stroke:#000000;stroke-width:0.8px;stroke-linecap:butt;stroke-linejoin:miter;stroke-opacity:1;\"/>\n<path d=\"M 528.7,150.9 L 530.1,151.3 L 531.2,150.3\" style=\"fill:none;stroke:#000000;stroke-width:0.8px;stroke-linecap:butt;stroke-linejoin:miter;stroke-opacity:1;\"/>\n<path d=\"M 550.4,131.6 L 551.5,130.6 L 551.1,129.1\" style=\"fill:none;stroke:#000000;stroke-width:0.8px;stroke-linecap:butt;stroke-linejoin:miter;stroke-opacity:1;\"/>\n<path d=\"M 544.6,103.1 L 544.2,101.7 L 542.8,101.3\" style=\"fill:none;stroke:#000000;stroke-width:0.8px;stroke-linecap:butt;stroke-linejoin:miter;stroke-opacity:1;\"/>\n<path d=\"M 517.0,94.0 L 515.6,93.5 L 514.5,94.6\" style=\"fill:none;stroke:#000000;stroke-width:0.8px;stroke-linecap:butt;stroke-linejoin:miter;stroke-opacity:1;\"/>\n<path d=\"M 495.3,113.2 L 494.2,114.3 L 494.6,115.7\" style=\"fill:none;stroke:#000000;stroke-width:0.8px;stroke-linecap:butt;stroke-linejoin:miter;stroke-opacity:1;\"/>\n<path d=\"M 437.9,132.6 L 437.6,132.0 L 436.2,131.9\" style=\"fill:none;stroke:#000000;stroke-width:0.8px;stroke-linecap:butt;stroke-linejoin:miter;stroke-opacity:1;\"/>\n<path d=\"M 395.5,104.6 L 394.8,103.3 L 393.4,103.2\" style=\"fill:none;stroke:#000000;stroke-width:0.8px;stroke-linecap:butt;stroke-linejoin:miter;stroke-opacity:1;\"/>\n<path d=\"M 366.6,101.3 L 365.1,101.2 L 364.3,102.5\" style=\"fill:none;stroke:#000000;stroke-width:0.8px;stroke-linecap:butt;stroke-linejoin:miter;stroke-opacity:1;\"/>\n<path d=\"M 349.4,124.7 L 348.5,125.9 L 349.2,127.3\" style=\"fill:none;stroke:#000000;stroke-width:0.8px;stroke-linecap:butt;stroke-linejoin:miter;stroke-opacity:1;\"/>\n<path d=\"M 361.0,151.3 L 361.6,152.7 L 363.1,152.8\" style=\"fill:none;stroke:#000000;stroke-width:0.8px;stroke-linecap:butt;stroke-linejoin:miter;stroke-opacity:1;\"/>\n<path d=\"M 389.8,154.6 L 391.3,154.7 L 392.2,153.5\" style=\"fill:none;stroke:#000000;stroke-width:0.8px;stroke-linecap:butt;stroke-linejoin:miter;stroke-opacity:1;\"/>\n<path class=\"atom-10\" d=\"M 448.9 154.5 L 451.7 159.0 Q 451.9 159.5, 452.4 160.3 Q 452.8 161.1, 452.8 161.1 L 452.8 154.5 L 454.0 154.5 L 454.0 163.0 L 452.8 163.0 L 449.8 158.1 Q 449.5 157.5, 449.1 156.8 Q 448.7 156.2, 448.6 156.0 L 448.6 163.0 L 447.5 163.0 L 447.5 154.5 L 448.9 154.5 \" fill=\"#0000FF\"/>\n<path class=\"bond-0 atom-0 atom-1\" d=\"M 620.2,126.8 L 643.8,145.0\" style=\"fill:none;fill-rule:evenodd;stroke:#000000;stroke-width:0.8px;stroke-linecap:butt;stroke-linejoin:miter;stroke-opacity:1\"/>\n<path class=\"bond-1 atom-1 atom-2\" d=\"M 643.8,145.0 L 655.1,140.4\" style=\"fill:none;fill-rule:evenodd;stroke:#000000;stroke-width:0.8px;stroke-linecap:butt;stroke-linejoin:miter;stroke-opacity:1\"/>\n<path class=\"bond-1 atom-1 atom-2\" d=\"M 655.1,140.4 L 666.5,135.8\" style=\"fill:none;fill-rule:evenodd;stroke:#FF0000;stroke-width:0.8px;stroke-linecap:butt;stroke-linejoin:miter;stroke-opacity:1\"/>\n<path class=\"bond-2 atom-2 atom-3\" d=\"M 676.2,137.6 L 685.5,144.8\" style=\"fill:none;fill-rule:evenodd;stroke:#FF0000;stroke-width:0.8px;stroke-linecap:butt;stroke-linejoin:miter;stroke-opacity:1\"/>\n<path class=\"bond-2 atom-2 atom-3\" d=\"M 685.5,144.8 L 694.9,152.1\" style=\"fill:none;fill-rule:evenodd;stroke:#000000;stroke-width:0.8px;stroke-linecap:butt;stroke-linejoin:miter;stroke-opacity:1\"/>\n<path class=\"bond-3 atom-3 atom-4\" d=\"M 692.8,150.5 L 691.1,163.2\" style=\"fill:none;fill-rule:evenodd;stroke:#000000;stroke-width:0.8px;stroke-linecap:butt;stroke-linejoin:miter;stroke-opacity:1\"/>\n<path class=\"bond-3 atom-3 atom-4\" d=\"M 691.1,163.2 L 689.3,176.0\" style=\"fill:none;fill-rule:evenodd;stroke:#FF0000;stroke-width:0.8px;stroke-linecap:butt;stroke-linejoin:miter;stroke-opacity:1\"/>\n<path class=\"bond-3 atom-3 atom-4\" d=\"M 697.2,151.1 L 695.5,163.8\" style=\"fill:none;fill-rule:evenodd;stroke:#000000;stroke-width:0.8px;stroke-linecap:butt;stroke-linejoin:miter;stroke-opacity:1\"/>\n<path class=\"bond-3 atom-3 atom-4\" d=\"M 695.5,163.8 L 693.7,176.6\" style=\"fill:none;fill-rule:evenodd;stroke:#FF0000;stroke-width:0.8px;stroke-linecap:butt;stroke-linejoin:miter;stroke-opacity:1\"/>\n<path class=\"bond-4 atom-3 atom-5\" d=\"M 694.9,152.1 L 722.4,140.8\" style=\"fill:none;fill-rule:evenodd;stroke:#000000;stroke-width:0.8px;stroke-linecap:butt;stroke-linejoin:miter;stroke-opacity:1\"/>\n<path class=\"bond-5 atom-5 atom-6\" d=\"M 722.4,140.8 L 746.0,159.1\" style=\"fill:none;fill-rule:evenodd;stroke:#000000;stroke-width:0.8px;stroke-linecap:butt;stroke-linejoin:miter;stroke-opacity:1\"/>\n<path class=\"bond-6 atom-6 atom-7\" d=\"M 746.0,159.1 L 773.5,147.8\" style=\"fill:none;fill-rule:evenodd;stroke:#000000;stroke-width:0.8px;stroke-linecap:butt;stroke-linejoin:miter;stroke-opacity:1\"/>\n<path class=\"bond-7 atom-7 atom-8\" d=\"M 775.6,149.4 L 777.3,136.7\" style=\"fill:none;fill-rule:evenodd;stroke:#000000;stroke-width:0.8px;stroke-linecap:butt;stroke-linejoin:miter;stroke-opacity:1\"/>\n<path class=\"bond-7 atom-7 atom-8\" d=\"M 777.3,136.7 L 779.0,124.0\" style=\"fill:none;fill-rule:evenodd;stroke:#FF0000;stroke-width:0.8px;stroke-linecap:butt;stroke-linejoin:miter;stroke-opacity:1\"/>\n<path class=\"bond-7 atom-7 atom-8\" d=\"M 771.1,148.8 L 772.9,136.1\" style=\"fill:none;fill-rule:evenodd;stroke:#000000;stroke-width:0.8px;stroke-linecap:butt;stroke-linejoin:miter;stroke-opacity:1\"/>\n<path class=\"bond-7 atom-7 atom-8\" d=\"M 772.9,136.1 L 774.6,123.4\" style=\"fill:none;fill-rule:evenodd;stroke:#FF0000;stroke-width:0.8px;stroke-linecap:butt;stroke-linejoin:miter;stroke-opacity:1\"/>\n<path class=\"bond-8 atom-7 atom-9\" d=\"M 773.5,147.8 L 783.2,155.3\" style=\"fill:none;fill-rule:evenodd;stroke:#000000;stroke-width:0.8px;stroke-linecap:butt;stroke-linejoin:miter;stroke-opacity:1\"/>\n<path class=\"bond-8 atom-7 atom-9\" d=\"M 783.2,155.3 L 792.8,162.8\" style=\"fill:none;fill-rule:evenodd;stroke:#0000FF;stroke-width:0.8px;stroke-linecap:butt;stroke-linejoin:miter;stroke-opacity:1\"/>\n<path class=\"bond-9 atom-9 atom-10\" d=\"M 801.2,164.4 L 812.9,159.6\" style=\"fill:none;fill-rule:evenodd;stroke:#0000FF;stroke-width:0.8px;stroke-linecap:butt;stroke-linejoin:miter;stroke-opacity:1\"/>\n<path class=\"bond-9 atom-9 atom-10\" d=\"M 812.9,159.6 L 824.6,154.8\" style=\"fill:none;fill-rule:evenodd;stroke:#000000;stroke-width:0.8px;stroke-linecap:butt;stroke-linejoin:miter;stroke-opacity:1\"/>\n<path class=\"bond-10 atom-10 atom-11\" d=\"M 824.6,154.8 L 828.7,125.3\" style=\"fill:none;fill-rule:evenodd;stroke:#000000;stroke-width:0.8px;stroke-linecap:butt;stroke-linejoin:miter;stroke-opacity:1\"/>\n<path class=\"bond-10 atom-10 atom-11\" d=\"M 829.4,152.9 L 832.7,128.5\" style=\"fill:none;fill-rule:evenodd;stroke:#000000;stroke-width:0.8px;stroke-linecap:butt;stroke-linejoin:miter;stroke-opacity:1\"/>\n<path class=\"bond-11 atom-11 atom-12\" d=\"M 828.7,125.3 L 856.2,114.1\" style=\"fill:none;fill-rule:evenodd;stroke:#000000;stroke-width:0.8px;stroke-linecap:butt;stroke-linejoin:miter;stroke-opacity:1\"/>\n<path class=\"bond-12 atom-12 atom-13\" d=\"M 856.2,114.1 L 879.8,132.3\" style=\"fill:none;fill-rule:evenodd;stroke:#000000;stroke-width:0.8px;stroke-linecap:butt;stroke-linejoin:miter;stroke-opacity:1\"/>\n<path class=\"bond-12 atom-12 atom-13\" d=\"M 855.5,119.2 L 875.0,134.3\" style=\"fill:none;fill-rule:evenodd;stroke:#000000;stroke-width:0.8px;stroke-linecap:butt;stroke-linejoin:miter;stroke-opacity:1\"/>\n<path class=\"bond-13 atom-13 atom-14\" d=\"M 879.8,132.3 L 875.7,161.8\" style=\"fill:none;fill-rule:evenodd;stroke:#000000;stroke-width:0.8px;stroke-linecap:butt;stroke-linejoin:miter;stroke-opacity:1\"/>\n<path class=\"bond-14 atom-14 atom-15\" d=\"M 875.7,161.8 L 848.1,173.1\" style=\"fill:none;fill-rule:evenodd;stroke:#000000;stroke-width:0.8px;stroke-linecap:butt;stroke-linejoin:miter;stroke-opacity:1\"/>\n<path class=\"bond-14 atom-14 atom-15\" d=\"M 871.6,158.7 L 848.8,168.0\" style=\"fill:none;fill-rule:evenodd;stroke:#000000;stroke-width:0.8px;stroke-linecap:butt;stroke-linejoin:miter;stroke-opacity:1\"/>\n<path class=\"bond-15 atom-15 atom-10\" d=\"M 848.1,173.1 L 824.6,154.8\" style=\"fill:none;fill-rule:evenodd;stroke:#000000;stroke-width:0.8px;stroke-linecap:butt;stroke-linejoin:miter;stroke-opacity:1\"/>\n<path d=\"M 642.6,144.1 L 643.8,145.0 L 644.3,144.8\" style=\"fill:none;stroke:#000000;stroke-width:0.8px;stroke-linecap:butt;stroke-linejoin:miter;stroke-opacity:1;\"/>\n<path d=\"M 694.4,151.7 L 694.9,152.1 L 696.2,151.5\" style=\"fill:none;stroke:#000000;stroke-width:0.8px;stroke-linecap:butt;stroke-linejoin:miter;stroke-opacity:1;\"/>\n<path d=\"M 721.1,141.4 L 722.4,140.8 L 723.6,141.7\" style=\"fill:none;stroke:#000000;stroke-width:0.8px;stroke-linecap:butt;stroke-linejoin:miter;stroke-opacity:1;\"/>\n<path d=\"M 744.8,158.1 L 746.0,159.1 L 747.3,158.5\" style=\"fill:none;stroke:#000000;stroke-width:0.8px;stroke-linecap:butt;stroke-linejoin:miter;stroke-opacity:1;\"/>\n<path d=\"M 772.1,148.4 L 773.5,147.8 L 774.0,148.2\" style=\"fill:none;stroke:#000000;stroke-width:0.8px;stroke-linecap:butt;stroke-linejoin:miter;stroke-opacity:1;\"/>\n<path d=\"M 828.5,126.8 L 828.7,125.3 L 830.0,124.8\" style=\"fill:none;stroke:#000000;stroke-width:0.8px;stroke-linecap:butt;stroke-linejoin:miter;stroke-opacity:1;\"/>\n<path d=\"M 854.9,114.6 L 856.2,114.1 L 857.4,115.0\" style=\"fill:none;stroke:#000000;stroke-width:0.8px;stroke-linecap:butt;stroke-linejoin:miter;stroke-opacity:1;\"/>\n<path d=\"M 878.6,131.4 L 879.8,132.3 L 879.6,133.8\" style=\"fill:none;stroke:#000000;stroke-width:0.8px;stroke-linecap:butt;stroke-linejoin:miter;stroke-opacity:1;\"/>\n<path d=\"M 875.9,160.4 L 875.7,161.8 L 874.3,162.4\" style=\"fill:none;stroke:#000000;stroke-width:0.8px;stroke-linecap:butt;stroke-linejoin:miter;stroke-opacity:1;\"/>\n<path d=\"M 849.5,172.5 L 848.1,173.1 L 847.0,172.2\" style=\"fill:none;stroke:#000000;stroke-width:0.8px;stroke-linecap:butt;stroke-linejoin:miter;stroke-opacity:1;\"/>\n<path class=\"atom-2\" d=\"M 667.4 133.8 Q 667.4 131.8, 668.4 130.6 Q 669.5 129.5, 671.3 129.5 Q 673.2 129.5, 674.2 130.6 Q 675.2 131.8, 675.2 133.8 Q 675.2 135.9, 674.2 137.1 Q 673.2 138.2, 671.3 138.2 Q 669.5 138.2, 668.4 137.1 Q 667.4 135.9, 667.4 133.8 M 671.3 137.3 Q 672.6 137.3, 673.3 136.4 Q 674.0 135.5, 674.0 133.8 Q 674.0 132.2, 673.3 131.3 Q 672.6 130.5, 671.3 130.5 Q 670.0 130.5, 669.3 131.3 Q 668.6 132.1, 668.6 133.8 Q 668.6 135.5, 669.3 136.4 Q 670.0 137.3, 671.3 137.3 \" fill=\"#FF0000\"/>\n<path class=\"atom-4\" d=\"M 686.9 181.6 Q 686.9 179.5, 687.9 178.4 Q 688.9 177.3, 690.8 177.3 Q 692.7 177.3, 693.7 178.4 Q 694.7 179.5, 694.7 181.6 Q 694.7 183.6, 693.7 184.8 Q 692.7 186.0, 690.8 186.0 Q 688.9 186.0, 687.9 184.8 Q 686.9 183.6, 686.9 181.6 M 690.8 185.0 Q 692.1 185.0, 692.8 184.2 Q 693.5 183.3, 693.5 181.6 Q 693.5 179.9, 692.8 179.1 Q 692.1 178.2, 690.8 178.2 Q 689.5 178.2, 688.8 179.1 Q 688.1 179.9, 688.1 181.6 Q 688.1 183.3, 688.8 184.2 Q 689.5 185.0, 690.8 185.0 \" fill=\"#FF0000\"/>\n<path class=\"atom-8\" d=\"M 773.7 118.3 Q 773.7 116.3, 774.7 115.2 Q 775.7 114.0, 777.6 114.0 Q 779.5 114.0, 780.5 115.2 Q 781.5 116.3, 781.5 118.3 Q 781.5 120.4, 780.5 121.6 Q 779.4 122.7, 777.6 122.7 Q 775.7 122.7, 774.7 121.6 Q 773.7 120.4, 773.7 118.3 M 777.6 121.8 Q 778.9 121.8, 779.6 120.9 Q 780.3 120.0, 780.3 118.3 Q 780.3 116.7, 779.6 115.8 Q 778.9 115.0, 777.6 115.0 Q 776.3 115.0, 775.6 115.8 Q 774.9 116.7, 774.9 118.3 Q 774.9 120.1, 775.6 120.9 Q 776.3 121.8, 777.6 121.8 \" fill=\"#FF0000\"/>\n<path class=\"atom-9\" d=\"M 795.2 161.8 L 798.0 166.3 Q 798.2 166.8, 798.7 167.6 Q 799.1 168.4, 799.1 168.4 L 799.1 161.8 L 800.3 161.8 L 800.3 170.3 L 799.1 170.3 L 796.1 165.4 Q 795.8 164.8, 795.4 164.2 Q 795.0 163.5, 794.9 163.3 L 794.9 170.3 L 793.8 170.3 L 793.8 161.8 L 795.2 161.8 \" fill=\"#0000FF\"/>\n<path class=\"atom-9\" d=\"M 793.7 171.2 L 794.9 171.2 L 794.9 174.8 L 799.2 174.8 L 799.2 171.2 L 800.4 171.2 L 800.4 179.7 L 799.2 179.7 L 799.2 175.7 L 794.9 175.7 L 794.9 179.7 L 793.7 179.7 L 793.7 171.2 \" fill=\"#0000FF\"/>\n<path class=\"bond-0 atom-0 atom-1\" d=\"M 1050.9,114.2 L 1046.5,126.1\" style=\"fill:none;fill-rule:evenodd;stroke:#FF0000;stroke-width:0.8px;stroke-linecap:butt;stroke-linejoin:miter;stroke-opacity:1\"/>\n<path class=\"bond-0 atom-0 atom-1\" d=\"M 1046.5,126.1 L 1042.1,138.0\" style=\"fill:none;fill-rule:evenodd;stroke:#000000;stroke-width:0.8px;stroke-linecap:butt;stroke-linejoin:miter;stroke-opacity:1\"/>\n<path class=\"bond-0 atom-0 atom-1\" d=\"M 1046.7,112.7 L 1042.3,124.5\" style=\"fill:none;fill-rule:evenodd;stroke:#FF0000;stroke-width:0.8px;stroke-linecap:butt;stroke-linejoin:miter;stroke-opacity:1\"/>\n<path class=\"bond-0 atom-0 atom-1\" d=\"M 1042.3,124.5 L 1037.9,136.4\" style=\"fill:none;fill-rule:evenodd;stroke:#000000;stroke-width:0.8px;stroke-linecap:butt;stroke-linejoin:miter;stroke-opacity:1\"/>\n<path class=\"bond-1 atom-1 atom-2\" d=\"M 1040.5,136.0 L 1047.8,144.8\" style=\"fill:none;fill-rule:evenodd;stroke:#000000;stroke-width:0.8px;stroke-linecap:butt;stroke-linejoin:miter;stroke-opacity:1\"/>\n<path class=\"bond-1 atom-1 atom-2\" d=\"M 1047.8,144.8 L 1055.2,153.6\" style=\"fill:none;fill-rule:evenodd;stroke:#0000FF;stroke-width:0.8px;stroke-linecap:butt;stroke-linejoin:miter;stroke-opacity:1\"/>\n<path class=\"bond-2 atom-2 atom-3\" d=\"M 1063.7,158.2 L 1076.3,156.0\" style=\"fill:none;fill-rule:evenodd;stroke:#0000FF;stroke-width:0.8px;stroke-linecap:butt;stroke-linejoin:miter;stroke-opacity:1\"/>\n<path class=\"bond-2 atom-2 atom-3\" d=\"M 1076.3,156.0 L 1088.9,153.8\" style=\"fill:none;fill-rule:evenodd;stroke:#000000;stroke-width:0.8px;stroke-linecap:butt;stroke-linejoin:miter;stroke-opacity:1\"/>\n<path class=\"bond-3 atom-3 atom-4\" d=\"M 1088.9,153.8 L 1107.9,176.7\" style=\"fill:none;fill-rule:evenodd;stroke:#000000;stroke-width:0.8px;stroke-linecap:butt;stroke-linejoin:miter;stroke-opacity:1\"/>\n<path class=\"bond-3 atom-3 atom-4\" d=\"M 1093.9,153.0 L 1109.7,171.9\" style=\"fill:none;fill-rule:evenodd;stroke:#000000;stroke-width:0.8px;stroke-linecap:butt;stroke-linejoin:miter;stroke-opacity:1\"/>\n<path class=\"bond-4 atom-4 atom-5\" d=\"M 1107.9,176.7 L 1137.2,171.7\" style=\"fill:none;fill-rule:evenodd;stroke:#000000;stroke-width:0.8px;stroke-linecap:butt;stroke-linejoin:miter;stroke-opacity:1\"/>\n<path class=\"bond-5 atom-5 atom-6\" d=\"M 1137.2,171.7 L 1147.6,143.8\" style=\"fill:none;fill-rule:evenodd;stroke:#000000;stroke-width:0.8px;stroke-linecap:butt;stroke-linejoin:miter;stroke-opacity:1\"/>\n<path class=\"bond-5 atom-5 atom-6\" d=\"M 1133.9,167.8 L 1142.5,144.7\" style=\"fill:none;fill-rule:evenodd;stroke:#000000;stroke-width:0.8px;stroke-linecap:butt;stroke-linejoin:miter;stroke-opacity:1\"/>\n<path class=\"bond-6 atom-6 atom-7\" d=\"M 1147.6,143.8 L 1128.5,120.9\" style=\"fill:none;fill-rule:evenodd;stroke:#000000;stroke-width:0.8px;stroke-linecap:butt;stroke-linejoin:miter;stroke-opacity:1\"/>\n<path class=\"bond-7 atom-7 atom-8\" d=\"M 1128.5,120.9 L 1099.2,125.9\" style=\"fill:none;fill-rule:evenodd;stroke:#000000;stroke-width:0.8px;stroke-linecap:butt;stroke-linejoin:miter;stroke-opacity:1\"/>\n<path class=\"bond-7 atom-7 atom-8\" d=\"M 1126.7,125.7 L 1102.5,129.9\" style=\"fill:none;fill-rule:evenodd;stroke:#000000;stroke-width:0.8px;stroke-linecap:butt;stroke-linejoin:miter;stroke-opacity:1\"/>\n<path class=\"bond-8 atom-1 atom-9\" d=\"M 1040.5,136.0 L 1011.1,141.0\" style=\"fill:none;fill-rule:evenodd;stroke:#000000;stroke-width:0.8px;stroke-linecap:butt;stroke-linejoin:miter;stroke-opacity:1\"/>\n<path class=\"bond-9 atom-9 atom-10\" d=\"M 1011.1,141.0 L 992.1,118.1\" style=\"fill:none;fill-rule:evenodd;stroke:#000000;stroke-width:0.8px;stroke-linecap:butt;stroke-linejoin:miter;stroke-opacity:1\"/>\n<path class=\"bond-9 atom-9 atom-10\" d=\"M 1006.1,141.9 L 990.3,122.9\" style=\"fill:none;fill-rule:evenodd;stroke:#000000;stroke-width:0.8px;stroke-linecap:butt;stroke-linejoin:miter;stroke-opacity:1\"/>\n<path class=\"bond-10 atom-10 atom-11\" d=\"M 992.1,118.1 L 962.8,123.1\" style=\"fill:none;fill-rule:evenodd;stroke:#000000;stroke-width:0.8px;stroke-linecap:butt;stroke-linejoin:miter;stroke-opacity:1\"/>\n<path class=\"bond-11 atom-11 atom-12\" d=\"M 962.8,123.1 L 952.4,151.1\" style=\"fill:none;fill-rule:evenodd;stroke:#000000;stroke-width:0.8px;stroke-linecap:butt;stroke-linejoin:miter;stroke-opacity:1\"/>\n<path class=\"bond-11 atom-11 atom-12\" d=\"M 966.1,127.1 L 957.5,150.2\" style=\"fill:none;fill-rule:evenodd;stroke:#000000;stroke-width:0.8px;stroke-linecap:butt;stroke-linejoin:miter;stroke-opacity:1\"/>\n<path class=\"bond-12 atom-12 atom-13\" d=\"M 952.4,151.1 L 971.5,174.0\" style=\"fill:none;fill-rule:evenodd;stroke:#000000;stroke-width:0.8px;stroke-linecap:butt;stroke-linejoin:miter;stroke-opacity:1\"/>\n<path class=\"bond-13 atom-13 atom-14\" d=\"M 971.5,174.0 L 1000.8,168.9\" style=\"fill:none;fill-rule:evenodd;stroke:#000000;stroke-width:0.8px;stroke-linecap:butt;stroke-linejoin:miter;stroke-opacity:1\"/>\n<path class=\"bond-13 atom-13 atom-14\" d=\"M 973.3,169.1 L 997.5,165.0\" style=\"fill:none;fill-rule:evenodd;stroke:#000000;stroke-width:0.8px;stroke-linecap:butt;stroke-linejoin:miter;stroke-opacity:1\"/>\n<path class=\"bond-14 atom-14 atom-15\" d=\"M 1000.8,168.9 L 1008.1,177.7\" style=\"fill:none;fill-rule:evenodd;stroke:#000000;stroke-width:0.8px;stroke-linecap:butt;stroke-linejoin:miter;stroke-opacity:1\"/>\n<path class=\"bond-14 atom-14 atom-15\" d=\"M 1008.1,177.7 L 1015.5,186.5\" style=\"fill:none;fill-rule:evenodd;stroke:#FF0000;stroke-width:0.8px;stroke-linecap:butt;stroke-linejoin:miter;stroke-opacity:1\"/>\n<path class=\"bond-15 atom-8 atom-3\" d=\"M 1099.2,125.9 L 1088.9,153.8\" style=\"fill:none;fill-rule:evenodd;stroke:#000000;stroke-width:0.8px;stroke-linecap:butt;stroke-linejoin:miter;stroke-opacity:1\"/>\n<path class=\"bond-16 atom-14 atom-9\" d=\"M 1000.8,168.9 L 1011.1,141.0\" style=\"fill:none;fill-rule:evenodd;stroke:#000000;stroke-width:0.8px;stroke-linecap:butt;stroke-linejoin:miter;stroke-opacity:1\"/>\n<path d=\"M 1040.9,136.4 L 1040.5,136.0 L 1039.0,136.2\" style=\"fill:none;stroke:#000000;stroke-width:0.8px;stroke-linecap:butt;stroke-linejoin:miter;stroke-opacity:1;\"/>\n<path d=\"M 1106.9,175.6 L 1107.9,176.7 L 1109.4,176.5\" style=\"fill:none;stroke:#000000;stroke-width:0.8px;stroke-linecap:butt;stroke-linejoin:miter;stroke-opacity:1;\"/>\n<path d=\"M 1135.8,172.0 L 1137.2,171.7 L 1137.8,170.3\" style=\"fill:none;stroke:#000000;stroke-width:0.8px;stroke-linecap:butt;stroke-linejoin:miter;stroke-opacity:1;\"/>\n<path d=\"M 1147.0,145.2 L 1147.6,143.8 L 1146.6,142.6\" style=\"fill:none;stroke:#000000;stroke-width:0.8px;stroke-linecap:butt;stroke-linejoin:miter;stroke-opacity:1;\"/>\n<path d=\"M 1129.5,122.0 L 1128.5,120.9 L 1127.1,121.1\" style=\"fill:none;stroke:#000000;stroke-width:0.8px;stroke-linecap:butt;stroke-linejoin:miter;stroke-opacity:1;\"/>\n<path d=\"M 1100.6,125.7 L 1099.2,125.9 L 1098.7,127.3\" style=\"fill:none;stroke:#000000;stroke-width:0.8px;stroke-linecap:butt;stroke-linejoin:miter;stroke-opacity:1;\"/>\n<path d=\"M 993.1,119.2 L 992.1,118.1 L 990.6,118.3\" style=\"fill:none;stroke:#000000;stroke-width:0.8px;stroke-linecap:butt;stroke-linejoin:miter;stroke-opacity:1;\"/>\n<path d=\"M 964.2,122.9 L 962.8,123.1 L 962.2,124.5\" style=\"fill:none;stroke:#000000;stroke-width:0.8px;stroke-linecap:butt;stroke-linejoin:miter;stroke-opacity:1;\"/>\n<path d=\"M 953.0,149.7 L 952.4,151.1 L 953.4,152.2\" style=\"fill:none;stroke:#000000;stroke-width:0.8px;stroke-linecap:butt;stroke-linejoin:miter;stroke-opacity:1;\"/>\n<path d=\"M 970.5,172.8 L 971.5,174.0 L 972.9,173.7\" style=\"fill:none;stroke:#000000;stroke-width:0.8px;stroke-linecap:butt;stroke-linejoin:miter;stroke-opacity:1;\"/>\n<path class=\"atom-0\" d=\"M 1046.9 108.1 Q 1046.9 106.0, 1047.9 104.9 Q 1048.9 103.7, 1050.8 103.7 Q 1052.7 103.7, 1053.7 104.9 Q 1054.7 106.0, 1054.7 108.1 Q 1054.7 110.1, 1053.7 111.3 Q 1052.7 112.5, 1050.8 112.5 Q 1048.9 112.5, 1047.9 111.3 Q 1046.9 110.1, 1046.9 108.1 M 1050.8 111.5 Q 1052.1 111.5, 1052.8 110.6 Q 1053.5 109.8, 1053.5 108.1 Q 1053.5 106.4, 1052.8 105.6 Q 1052.1 104.7, 1050.8 104.7 Q 1049.5 104.7, 1048.8 105.5 Q 1048.1 106.4, 1048.1 108.1 Q 1048.1 109.8, 1048.8 110.6 Q 1049.5 111.5, 1050.8 111.5 \" fill=\"#FF0000\"/>\n<path class=\"atom-2\" d=\"M 1048.0 154.6 L 1049.1 154.6 L 1049.1 158.2 L 1053.5 158.2 L 1053.5 154.6 L 1054.6 154.6 L 1054.6 163.1 L 1053.5 163.1 L 1053.5 159.2 L 1049.1 159.2 L 1049.1 163.1 L 1048.0 163.1 L 1048.0 154.6 \" fill=\"#0000FF\"/>\n<path class=\"atom-2\" d=\"M 1057.6 154.6 L 1060.4 159.1 Q 1060.7 159.6, 1061.1 160.4 Q 1061.6 161.2, 1061.6 161.2 L 1061.6 154.6 L 1062.7 154.6 L 1062.7 163.1 L 1061.6 163.1 L 1058.6 158.2 Q 1058.2 157.6, 1057.9 157.0 Q 1057.5 156.3, 1057.4 156.1 L 1057.4 163.1 L 1056.3 163.1 L 1056.3 154.6 L 1057.6 154.6 \" fill=\"#0000FF\"/>\n<path class=\"atom-15\" d=\"M 1015.9 191.9 Q 1015.9 189.8, 1017.0 188.7 Q 1018.0 187.5, 1019.8 187.5 Q 1021.7 187.5, 1022.7 188.7 Q 1023.7 189.8, 1023.7 191.9 Q 1023.7 193.9, 1022.7 195.1 Q 1021.7 196.3, 1019.8 196.3 Q 1018.0 196.3, 1017.0 195.1 Q 1015.9 193.9, 1015.9 191.9 M 1019.8 195.3 Q 1021.1 195.3, 1021.8 194.4 Q 1022.5 193.6, 1022.5 191.9 Q 1022.5 190.2, 1021.8 189.3 Q 1021.1 188.5, 1019.8 188.5 Q 1018.5 188.5, 1017.8 189.3 Q 1017.1 190.2, 1017.1 191.9 Q 1017.1 193.6, 1017.8 194.4 Q 1018.5 195.3, 1019.8 195.3 \" fill=\"#FF0000\"/>\n<path class=\"atom-15\" d=\"M 1025.1 187.6 L 1026.2 187.6 L 1026.2 191.2 L 1030.6 191.2 L 1030.6 187.6 L 1031.7 187.6 L 1031.7 196.1 L 1030.6 196.1 L 1030.6 192.2 L 1026.2 192.2 L 1026.2 196.1 L 1025.1 196.1 L 1025.1 187.6 \" fill=\"#FF0000\"/>\n<path class=\"bond-0 atom-0 atom-1\" d=\"M 1439.4,154.2 L 1419.8,176.6\" style=\"fill:none;fill-rule:evenodd;stroke:#000000;stroke-width:0.8px;stroke-linecap:butt;stroke-linejoin:miter;stroke-opacity:1\"/>\n<path class=\"bond-0 atom-0 atom-1\" d=\"M 1434.4,153.2 L 1418.2,171.8\" style=\"fill:none;fill-rule:evenodd;stroke:#000000;stroke-width:0.8px;stroke-linecap:butt;stroke-linejoin:miter;stroke-opacity:1\"/>\n<path class=\"bond-1 atom-1 atom-2\" d=\"M 1419.8,176.6 L 1390.6,170.8\" style=\"fill:none;fill-rule:evenodd;stroke:#000000;stroke-width:0.8px;stroke-linecap:butt;stroke-linejoin:miter;stroke-opacity:1\"/>\n<path class=\"bond-2 atom-2 atom-3\" d=\"M 1390.6,170.8 L 1381.0,142.7\" style=\"fill:none;fill-rule:evenodd;stroke:#000000;stroke-width:0.8px;stroke-linecap:butt;stroke-linejoin:miter;stroke-opacity:1\"/>\n<path class=\"bond-2 atom-2 atom-3\" d=\"M 1394.0,167.0 L 1386.1,143.7\" style=\"fill:none;fill-rule:evenodd;stroke:#000000;stroke-width:0.8px;stroke-linecap:butt;stroke-linejoin:miter;stroke-opacity:1\"/>\n<path class=\"bond-3 atom-3 atom-4\" d=\"M 1381.0,142.7 L 1351.8,136.9\" style=\"fill:none;fill-rule:evenodd;stroke:#000000;stroke-width:0.8px;stroke-linecap:butt;stroke-linejoin:miter;stroke-opacity:1\"/>\n<path class=\"bond-4 atom-4 atom-5\" d=\"M 1351.8,136.9 L 1330.0,157.1\" style=\"fill:none;fill-rule:evenodd;stroke:#000000;stroke-width:0.8px;stroke-linecap:butt;stroke-linejoin:miter;stroke-opacity:1\"/>\n<path class=\"bond-5 atom-5 atom-6\" d=\"M 1330.0,157.1 L 1333.5,186.6\" style=\"fill:none;fill-rule:evenodd;stroke:#000000;stroke-width:0.8px;stroke-linecap:butt;stroke-linejoin:miter;stroke-opacity:1\"/>\n<path class=\"bond-6 atom-6 atom-7\" d=\"M 1333.5,186.6 L 1334.9,198.8\" style=\"fill:none;fill-rule:evenodd;stroke:#000000;stroke-width:0.8px;stroke-linecap:butt;stroke-linejoin:miter;stroke-opacity:1\"/>\n<path class=\"bond-6 atom-6 atom-7\" d=\"M 1334.9,198.8 L 1336.4,211.0\" style=\"fill:none;fill-rule:evenodd;stroke:#0000FF;stroke-width:0.8px;stroke-linecap:butt;stroke-linejoin:miter;stroke-opacity:1\"/>\n<path class=\"bond-6 atom-6 atom-7\" d=\"M 1337.9,186.1 L 1339.4,198.3\" style=\"fill:none;fill-rule:evenodd;stroke:#000000;stroke-width:0.8px;stroke-linecap:butt;stroke-linejoin:miter;stroke-opacity:1\"/>\n<path class=\"bond-6 atom-6 atom-7\" d=\"M 1339.4,198.3 L 1340.8,210.5\" style=\"fill:none;fill-rule:evenodd;stroke:#0000FF;stroke-width:0.8px;stroke-linecap:butt;stroke-linejoin:miter;stroke-opacity:1\"/>\n<path class=\"bond-6 atom-6 atom-7\" d=\"M 1329.1,187.2 L 1330.5,199.3\" style=\"fill:none;fill-rule:evenodd;stroke:#000000;stroke-width:0.8px;stroke-linecap:butt;stroke-linejoin:miter;stroke-opacity:1\"/>\n<path class=\"bond-6 atom-6 atom-7\" d=\"M 1330.5,199.3 L 1331.9,211.5\" style=\"fill:none;fill-rule:evenodd;stroke:#0000FF;stroke-width:0.8px;stroke-linecap:butt;stroke-linejoin:miter;stroke-opacity:1\"/>\n<path class=\"bond-7 atom-5 atom-8\" d=\"M 1330.0,157.1 L 1304.0,142.5\" style=\"fill:none;fill-rule:evenodd;stroke:#000000;stroke-width:0.8px;stroke-linecap:butt;stroke-linejoin:miter;stroke-opacity:1\"/>\n<path class=\"bond-7 atom-5 atom-8\" d=\"M 1329.3,151.6 L 1309.0,140.2\" style=\"fill:none;fill-rule:evenodd;stroke:#000000;stroke-width:0.8px;stroke-linecap:butt;stroke-linejoin:miter;stroke-opacity:1\"/>\n<path class=\"bond-8 atom-8 atom-9\" d=\"M 1304.0,142.5 L 1292.6,147.8\" style=\"fill:none;fill-rule:evenodd;stroke:#000000;stroke-width:0.8px;stroke-linecap:butt;stroke-linejoin:miter;stroke-opacity:1\"/>\n<path class=\"bond-8 atom-8 atom-9\" d=\"M 1292.6,147.8 L 1281.2,153.1\" style=\"fill:none;fill-rule:evenodd;stroke:#0000FF;stroke-width:0.8px;stroke-linecap:butt;stroke-linejoin:miter;stroke-opacity:1\"/>\n<path class=\"bond-9 atom-8 atom-10\" d=\"M 1304.0,142.5 L 1306.3,130.6\" style=\"fill:none;fill-rule:evenodd;stroke:#000000;stroke-width:0.8px;stroke-linecap:butt;stroke-linejoin:miter;stroke-opacity:1\"/>\n<path class=\"bond-9 atom-8 atom-10\" d=\"M 1306.3,130.6 L 1308.7,118.7\" style=\"fill:none;fill-rule:evenodd;stroke:#FF0000;stroke-width:0.8px;stroke-linecap:butt;stroke-linejoin:miter;stroke-opacity:1\"/>\n<path class=\"bond-10 atom-10 atom-11\" d=\"M 1314.7,112.8 L 1327.0,111.3\" style=\"fill:none;fill-rule:evenodd;stroke:#FF0000;stroke-width:0.8px;stroke-linecap:butt;stroke-linejoin:miter;stroke-opacity:1\"/>\n<path class=\"bond-10 atom-10 atom-11\" d=\"M 1327.0,111.3 L 1339.4,109.8\" style=\"fill:none;fill-rule:evenodd;stroke:#000000;stroke-width:0.8px;stroke-linecap:butt;stroke-linejoin:miter;stroke-opacity:1\"/>\n<path class=\"bond-11 atom-11 atom-12\" d=\"M 1340.5,112.3 L 1346.7,101.3\" style=\"fill:none;fill-rule:evenodd;stroke:#000000;stroke-width:0.8px;stroke-linecap:butt;stroke-linejoin:miter;stroke-opacity:1\"/>\n<path class=\"bond-11 atom-11 atom-12\" d=\"M 1346.7,101.3 L 1352.8,90.3\" style=\"fill:none;fill-rule:evenodd;stroke:#FF0000;stroke-width:0.8px;stroke-linecap:butt;stroke-linejoin:miter;stroke-opacity:1\"/>\n<path class=\"bond-11 atom-11 atom-12\" d=\"M 1336.6,110.1 L 1342.8,99.2\" style=\"fill:none;fill-rule:evenodd;stroke:#000000;stroke-width:0.8px;stroke-linecap:butt;stroke-linejoin:miter;stroke-opacity:1\"/>\n<path class=\"bond-11 atom-11 atom-12\" d=\"M 1342.8,99.2 L 1348.9,88.2\" style=\"fill:none;fill-rule:evenodd;stroke:#FF0000;stroke-width:0.8px;stroke-linecap:butt;stroke-linejoin:miter;stroke-opacity:1\"/>\n<path class=\"bond-12 atom-3 atom-13\" d=\"M 1381.0,142.7 L 1400.7,120.3\" style=\"fill:none;fill-rule:evenodd;stroke:#000000;stroke-width:0.8px;stroke-linecap:butt;stroke-linejoin:miter;stroke-opacity:1\"/>\n<path class=\"bond-13 atom-13 atom-14\" d=\"M 1400.7,120.3 L 1429.9,126.1\" style=\"fill:none;fill-rule:evenodd;stroke:#000000;stroke-width:0.8px;stroke-linecap:butt;stroke-linejoin:miter;stroke-opacity:1\"/>\n<path class=\"bond-13 atom-13 atom-14\" d=\"M 1402.3,125.1 L 1426.5,129.9\" style=\"fill:none;fill-rule:evenodd;stroke:#000000;stroke-width:0.8px;stroke-linecap:butt;stroke-linejoin:miter;stroke-opacity:1\"/>\n<path class=\"bond-14 atom-14 atom-0\" d=\"M 1429.9,126.1 L 1439.4,154.2\" style=\"fill:none;fill-rule:evenodd;stroke:#000000;stroke-width:0.8px;stroke-linecap:butt;stroke-linejoin:miter;stroke-opacity:1\"/>\n<path class=\"bond-15 atom-11 atom-4\" d=\"M 1339.4,109.8 L 1351.8,136.9\" style=\"fill:none;fill-rule:evenodd;stroke:#000000;stroke-width:0.8px;stroke-linecap:butt;stroke-linejoin:miter;stroke-opacity:1\"/>\n<path d=\"M 1438.5,155.4 L 1439.4,154.2 L 1439.0,152.8\" style=\"fill:none;stroke:#000000;stroke-width:0.8px;stroke-linecap:butt;stroke-linejoin:miter;stroke-opacity:1;\"/>\n<path d=\"M 1420.8,175.5 L 1419.8,176.6 L 1418.4,176.3\" style=\"fill:none;stroke:#000000;stroke-width:0.8px;stroke-linecap:butt;stroke-linejoin:miter;stroke-opacity:1;\"/>\n<path d=\"M 1392.1,171.1 L 1390.6,170.8 L 1390.1,169.4\" style=\"fill:none;stroke:#000000;stroke-width:0.8px;stroke-linecap:butt;stroke-linejoin:miter;stroke-opacity:1;\"/>\n<path d=\"M 1333.3,185.2 L 1333.5,186.6 L 1333.6,187.3\" style=\"fill:none;stroke:#000000;stroke-width:0.8px;stroke-linecap:butt;stroke-linejoin:miter;stroke-opacity:1;\"/>\n<path d=\"M 1338.7,109.9 L 1339.4,109.8 L 1340.0,111.2\" style=\"fill:none;stroke:#000000;stroke-width:0.8px;stroke-linecap:butt;stroke-linejoin:miter;stroke-opacity:1;\"/>\n<path d=\"M 1399.7,121.4 L 1400.7,120.3 L 1402.1,120.5\" style=\"fill:none;stroke:#000000;stroke-width:0.8px;stroke-linecap:butt;stroke-linejoin:miter;stroke-opacity:1;\"/>\n<path d=\"M 1428.4,125.8 L 1429.9,126.1 L 1430.3,127.5\" style=\"fill:none;stroke:#000000;stroke-width:0.8px;stroke-linecap:butt;stroke-linejoin:miter;stroke-opacity:1;\"/>\n<path class=\"atom-7\" d=\"M 1335.1 212.0 L 1337.9 216.5 Q 1338.2 216.9, 1338.6 217.7 Q 1339.1 218.5, 1339.1 218.6 L 1339.1 212.0 L 1340.2 212.0 L 1340.2 220.5 L 1339.1 220.5 L 1336.1 215.5 Q 1335.7 215.0, 1335.3 214.3 Q 1335.0 213.6, 1334.9 213.4 L 1334.9 220.5 L 1333.8 220.5 L 1333.8 212.0 L 1335.1 212.0 \" fill=\"#0000FF\"/>\n<path class=\"atom-9\" d=\"M 1260.6 150.8 L 1261.7 150.8 L 1261.7 154.4 L 1266.1 154.4 L 1266.1 150.8 L 1267.2 150.8 L 1267.2 159.3 L 1266.1 159.3 L 1266.1 155.3 L 1261.7 155.3 L 1261.7 159.3 L 1260.6 159.3 L 1260.6 150.8 \" fill=\"#0000FF\"/>\n<path class=\"atom-9\" d=\"M 1268.9 159.0 Q 1269.1 158.4, 1269.6 158.1 Q 1270.1 157.8, 1270.7 157.8 Q 1271.6 157.8, 1272.1 158.3 Q 1272.5 158.8, 1272.5 159.6 Q 1272.5 160.4, 1271.9 161.2 Q 1271.3 162.0, 1270.0 162.9 L 1272.6 162.9 L 1272.6 163.5 L 1268.9 163.5 L 1268.9 163.0 Q 1269.9 162.2, 1270.5 161.7 Q 1271.1 161.1, 1271.4 160.6 Q 1271.7 160.1, 1271.7 159.6 Q 1271.7 159.1, 1271.5 158.8 Q 1271.2 158.5, 1270.7 158.5 Q 1270.3 158.5, 1270.0 158.7 Q 1269.7 158.8, 1269.5 159.2 L 1268.9 159.0 \" fill=\"#0000FF\"/>\n<path class=\"atom-9\" d=\"M 1275.1 150.8 L 1277.9 155.3 Q 1278.1 155.7, 1278.6 156.5 Q 1279.0 157.3, 1279.0 157.4 L 1279.0 150.8 L 1280.2 150.8 L 1280.2 159.3 L 1279.0 159.3 L 1276.0 154.3 Q 1275.7 153.8, 1275.3 153.1 Q 1274.9 152.4, 1274.8 152.2 L 1274.8 159.3 L 1273.7 159.3 L 1273.7 150.8 L 1275.1 150.8 \" fill=\"#0000FF\"/>\n<path class=\"atom-10\" d=\"M 1305.9 113.4 Q 1305.9 111.3, 1306.9 110.2 Q 1307.9 109.0, 1309.8 109.0 Q 1311.7 109.0, 1312.7 110.2 Q 1313.7 111.3, 1313.7 113.4 Q 1313.7 115.4, 1312.7 116.6 Q 1311.6 117.8, 1309.8 117.8 Q 1307.9 117.8, 1306.9 116.6 Q 1305.9 115.4, 1305.9 113.4 M 1309.8 116.8 Q 1311.1 116.8, 1311.8 115.9 Q 1312.5 115.1, 1312.5 113.4 Q 1312.5 111.7, 1311.8 110.9 Q 1311.1 110.0, 1309.8 110.0 Q 1308.5 110.0, 1307.8 110.8 Q 1307.1 111.7, 1307.1 113.4 Q 1307.1 115.1, 1307.8 115.9 Q 1308.5 116.8, 1309.8 116.8 \" fill=\"#FF0000\"/>\n<path class=\"atom-12\" d=\"M 1350.0 83.9 Q 1350.0 81.8, 1351.0 80.7 Q 1352.0 79.5, 1353.9 79.5 Q 1355.8 79.5, 1356.8 80.7 Q 1357.8 81.8, 1357.8 83.9 Q 1357.8 85.9, 1356.8 87.1 Q 1355.7 88.3, 1353.9 88.3 Q 1352.0 88.3, 1351.0 87.1 Q 1350.0 85.9, 1350.0 83.9 M 1353.9 87.3 Q 1355.2 87.3, 1355.9 86.4 Q 1356.6 85.6, 1356.6 83.9 Q 1356.6 82.2, 1355.9 81.4 Q 1355.2 80.5, 1353.9 80.5 Q 1352.6 80.5, 1351.9 81.3 Q 1351.2 82.2, 1351.2 83.9 Q 1351.2 85.6, 1351.9 86.4 Q 1352.6 87.3, 1353.9 87.3 \" fill=\"#FF0000\"/>\n<path class=\"bond-0 atom-0 atom-1\" d=\"M 143.1,447.7 L 153.5,447.7\" style=\"fill:none;fill-rule:evenodd;stroke:#0000FF;stroke-width:0.8px;stroke-linecap:butt;stroke-linejoin:miter;stroke-opacity:1\"/>\n<path class=\"bond-0 atom-0 atom-1\" d=\"M 153.5,447.7 L 163.8,447.7\" style=\"fill:none;fill-rule:evenodd;stroke:#FF0000;stroke-width:0.8px;stroke-linecap:butt;stroke-linejoin:miter;stroke-opacity:1\"/>\n<path class=\"bond-0 atom-0 atom-1\" d=\"M 143.1,452.2 L 153.5,452.2\" style=\"fill:none;fill-rule:evenodd;stroke:#0000FF;stroke-width:0.8px;stroke-linecap:butt;stroke-linejoin:miter;stroke-opacity:1\"/>\n<path class=\"bond-0 atom-0 atom-1\" d=\"M 153.5,452.2 L 163.8,452.2\" style=\"fill:none;fill-rule:evenodd;stroke:#FF0000;stroke-width:0.8px;stroke-linecap:butt;stroke-linejoin:miter;stroke-opacity:1\"/>\n<path class=\"atom-0\" d=\"M 127.4 445.7 L 128.5 445.7 L 128.5 449.3 L 132.9 449.3 L 132.9 445.7 L 134.0 445.7 L 134.0 454.2 L 132.9 454.2 L 132.9 450.3 L 128.5 450.3 L 128.5 454.2 L 127.4 454.2 L 127.4 445.7 \" fill=\"#0000FF\"/>\n<path class=\"atom-0\" d=\"M 137.1 445.7 L 139.8 450.2 Q 140.1 450.6, 140.6 451.4 Q 141.0 452.2, 141.0 452.3 L 141.0 445.7 L 142.2 445.7 L 142.2 454.2 L 141.0 454.2 L 138.0 449.3 Q 137.7 448.7, 137.3 448.0 Q 136.9 447.4, 136.8 447.2 L 136.8 454.2 L 135.7 454.2 L 135.7 445.7 L 137.1 445.7 \" fill=\"#0000FF\"/>\n<path class=\"atom-1\" d=\"M 164.8 450.0 Q 164.8 447.9, 165.8 446.8 Q 166.8 445.6, 168.7 445.6 Q 170.6 445.6, 171.6 446.8 Q 172.6 447.9, 172.6 450.0 Q 172.6 452.0, 171.6 453.2 Q 170.6 454.4, 168.7 454.4 Q 166.8 454.4, 165.8 453.2 Q 164.8 452.0, 164.8 450.0 M 168.7 453.4 Q 170.0 453.4, 170.7 452.5 Q 171.4 451.7, 171.4 450.0 Q 171.4 448.3, 170.7 447.4 Q 170.0 446.6, 168.7 446.6 Q 167.4 446.6, 166.7 447.4 Q 166.0 448.3, 166.0 450.0 Q 166.0 451.7, 166.7 452.5 Q 167.4 453.4, 168.7 453.4 \" fill=\"#FF0000\"/>\n<path class=\"bond-0 atom-0 atom-1\" d=\"M 313.6,456.9 L 342.7,450.2\" style=\"fill:none;fill-rule:evenodd;stroke:#000000;stroke-width:0.8px;stroke-linecap:butt;stroke-linejoin:miter;stroke-opacity:1\"/>\n<path class=\"bond-1 atom-1 atom-2\" d=\"M 344.4,452.1 L 348.2,440.0\" style=\"fill:none;fill-rule:evenodd;stroke:#000000;stroke-width:0.8px;stroke-linecap:butt;stroke-linejoin:miter;stroke-opacity:1\"/>\n<path class=\"bond-1 atom-1 atom-2\" d=\"M 348.2,440.0 L 351.9,427.8\" style=\"fill:none;fill-rule:evenodd;stroke:#FF0000;stroke-width:0.8px;stroke-linecap:butt;stroke-linejoin:miter;stroke-opacity:1\"/>\n<path class=\"bond-1 atom-1 atom-2\" d=\"M 340.1,450.8 L 343.9,438.7\" style=\"fill:none;fill-rule:evenodd;stroke:#000000;stroke-width:0.8px;stroke-linecap:butt;stroke-linejoin:miter;stroke-opacity:1\"/>\n<path class=\"bond-1 atom-1 atom-2\" d=\"M 343.9,438.7 L 347.6,426.5\" style=\"fill:none;fill-rule:evenodd;stroke:#FF0000;stroke-width:0.8px;stroke-linecap:butt;stroke-linejoin:miter;stroke-opacity:1\"/>\n<path class=\"bond-2 atom-1 atom-3\" d=\"M 342.7,450.2 L 350.7,458.9\" style=\"fill:none;fill-rule:evenodd;stroke:#000000;stroke-width:0.8px;stroke-linecap:butt;stroke-linejoin:miter;stroke-opacity:1\"/>\n<path class=\"bond-2 atom-1 atom-3\" d=\"M 350.7,458.9 L 358.7,467.5\" style=\"fill:none;fill-rule:evenodd;stroke:#0000FF;stroke-width:0.8px;stroke-linecap:butt;stroke-linejoin:miter;stroke-opacity:1\"/>\n<path class=\"bond-3 atom-3 atom-4\" d=\"M 367.1,471.1 L 379.5,468.2\" style=\"fill:none;fill-rule:evenodd;stroke:#0000FF;stroke-width:0.8px;stroke-linecap:butt;stroke-linejoin:miter;stroke-opacity:1\"/>\n<path class=\"bond-3 atom-3 atom-4\" d=\"M 379.5,468.2 L 391.9,465.4\" style=\"fill:none;fill-rule:evenodd;stroke:#000000;stroke-width:0.8px;stroke-linecap:butt;stroke-linejoin:miter;stroke-opacity:1\"/>\n<path class=\"bond-4 atom-4 atom-5\" d=\"M 391.9,465.4 L 400.7,437.0\" style=\"fill:none;fill-rule:evenodd;stroke:#000000;stroke-width:0.8px;stroke-linecap:butt;stroke-linejoin:miter;stroke-opacity:1\"/>\n<path class=\"bond-4 atom-4 atom-5\" d=\"M 397.0,464.3 L 404.2,440.7\" style=\"fill:none;fill-rule:evenodd;stroke:#000000;stroke-width:0.8px;stroke-linecap:butt;stroke-linejoin:miter;stroke-opacity:1\"/>\n<path class=\"bond-5 atom-5 atom-6\" d=\"M 400.7,437.0 L 429.7,430.3\" style=\"fill:none;fill-rule:evenodd;stroke:#000000;stroke-width:0.8px;stroke-linecap:butt;stroke-linejoin:miter;stroke-opacity:1\"/>\n<path class=\"bond-6 atom-6 atom-7\" d=\"M 429.7,430.3 L 450.0,452.1\" style=\"fill:none;fill-rule:evenodd;stroke:#000000;stroke-width:0.8px;stroke-linecap:butt;stroke-linejoin:miter;stroke-opacity:1\"/>\n<path class=\"bond-6 atom-6 atom-7\" d=\"M 428.2,435.3 L 445.0,453.3\" style=\"fill:none;fill-rule:evenodd;stroke:#000000;stroke-width:0.8px;stroke-linecap:butt;stroke-linejoin:miter;stroke-opacity:1\"/>\n<path class=\"bond-7 atom-7 atom-8\" d=\"M 450.0,452.1 L 479.0,445.5\" style=\"fill:none;fill-rule:evenodd;stroke:#000000;stroke-width:0.8px;stroke-linecap:butt;stroke-linejoin:miter;stroke-opacity:1\"/>\n<path class=\"bond-8 atom-8 atom-9\" d=\"M 480.8,447.4 L 484.5,435.3\" style=\"fill:none;fill-rule:evenodd;stroke:#000000;stroke-width:0.8px;stroke-linecap:butt;stroke-linejoin:miter;stroke-opacity:1\"/>\n<path class=\"bond-8 atom-8 atom-9\" d=\"M 484.5,435.3 L 488.3,423.1\" style=\"fill:none;fill-rule:evenodd;stroke:#FF0000;stroke-width:0.8px;stroke-linecap:butt;stroke-linejoin:miter;stroke-opacity:1\"/>\n<path class=\"bond-8 atom-8 atom-9\" d=\"M 476.5,446.1 L 480.3,434.0\" style=\"fill:none;fill-rule:evenodd;stroke:#000000;stroke-width:0.8px;stroke-linecap:butt;stroke-linejoin:miter;stroke-opacity:1\"/>\n<path class=\"bond-8 atom-8 atom-9\" d=\"M 480.3,434.0 L 484.0,421.8\" style=\"fill:none;fill-rule:evenodd;stroke:#FF0000;stroke-width:0.8px;stroke-linecap:butt;stroke-linejoin:miter;stroke-opacity:1\"/>\n<path class=\"bond-9 atom-8 atom-10\" d=\"M 479.0,445.5 L 487.1,454.2\" style=\"fill:none;fill-rule:evenodd;stroke:#000000;stroke-width:0.8px;stroke-linecap:butt;stroke-linejoin:miter;stroke-opacity:1\"/>\n<path class=\"bond-9 atom-8 atom-10\" d=\"M 487.1,454.2 L 495.1,462.8\" style=\"fill:none;fill-rule:evenodd;stroke:#0000FF;stroke-width:0.8px;stroke-linecap:butt;stroke-linejoin:miter;stroke-opacity:1\"/>\n<path class=\"bond-10 atom-10 atom-11\" d=\"M 503.5,466.4 L 515.9,463.5\" style=\"fill:none;fill-rule:evenodd;stroke:#0000FF;stroke-width:0.8px;stroke-linecap:butt;stroke-linejoin:miter;stroke-opacity:1\"/>\n<path class=\"bond-10 atom-10 atom-11\" d=\"M 515.9,463.5 L 528.3,460.7\" style=\"fill:none;fill-rule:evenodd;stroke:#000000;stroke-width:0.8px;stroke-linecap:butt;stroke-linejoin:miter;stroke-opacity:1\"/>\n<path class=\"bond-11 atom-11 atom-12\" d=\"M 528.3,460.7 L 548.6,482.5\" style=\"fill:none;fill-rule:evenodd;stroke:#000000;stroke-width:0.8px;stroke-linecap:butt;stroke-linejoin:miter;stroke-opacity:1\"/>\n<path class=\"bond-11 atom-11 atom-12\" d=\"M 533.3,459.6 L 550.1,477.6\" style=\"fill:none;fill-rule:evenodd;stroke:#000000;stroke-width:0.8px;stroke-linecap:butt;stroke-linejoin:miter;stroke-opacity:1\"/>\n<path class=\"bond-12 atom-12 atom-13\" d=\"M 548.6,482.5 L 577.6,475.9\" style=\"fill:none;fill-rule:evenodd;stroke:#000000;stroke-width:0.8px;stroke-linecap:butt;stroke-linejoin:miter;stroke-opacity:1\"/>\n<path class=\"bond-13 atom-13 atom-14\" d=\"M 577.6,475.9 L 586.4,447.4\" style=\"fill:none;fill-rule:evenodd;stroke:#000000;stroke-width:0.8px;stroke-linecap:butt;stroke-linejoin:miter;stroke-opacity:1\"/>\n<path class=\"bond-13 atom-13 atom-14\" d=\"M 574.1,472.1 L 581.3,448.6\" style=\"fill:none;fill-rule:evenodd;stroke:#000000;stroke-width:0.8px;stroke-linecap:butt;stroke-linejoin:miter;stroke-opacity:1\"/>\n<path class=\"bond-14 atom-14 atom-15\" d=\"M 586.4,447.4 L 566.1,425.6\" style=\"fill:none;fill-rule:evenodd;stroke:#000000;stroke-width:0.8px;stroke-linecap:butt;stroke-linejoin:miter;stroke-opacity:1\"/>\n<path class=\"bond-15 atom-15 atom-16\" d=\"M 566.1,425.6 L 537.1,432.3\" style=\"fill:none;fill-rule:evenodd;stroke:#000000;stroke-width:0.8px;stroke-linecap:butt;stroke-linejoin:miter;stroke-opacity:1\"/>\n<path class=\"bond-15 atom-15 atom-16\" d=\"M 564.6,430.5 L 540.6,436.0\" style=\"fill:none;fill-rule:evenodd;stroke:#000000;stroke-width:0.8px;stroke-linecap:butt;stroke-linejoin:miter;stroke-opacity:1\"/>\n<path class=\"bond-16 atom-7 atom-17\" d=\"M 450.0,452.1 L 441.2,480.6\" style=\"fill:none;fill-rule:evenodd;stroke:#000000;stroke-width:0.8px;stroke-linecap:butt;stroke-linejoin:miter;stroke-opacity:1\"/>\n<path class=\"bond-17 atom-17 atom-18\" d=\"M 441.2,480.6 L 412.2,487.2\" style=\"fill:none;fill-rule:evenodd;stroke:#000000;stroke-width:0.8px;stroke-linecap:butt;stroke-linejoin:miter;stroke-opacity:1\"/>\n<path class=\"bond-17 atom-17 atom-18\" d=\"M 437.7,476.8 L 413.7,482.3\" style=\"fill:none;fill-rule:evenodd;stroke:#000000;stroke-width:0.8px;stroke-linecap:butt;stroke-linejoin:miter;stroke-opacity:1\"/>\n<path class=\"bond-18 atom-18 atom-4\" d=\"M 412.2,487.2 L 391.9,465.4\" style=\"fill:none;fill-rule:evenodd;stroke:#000000;stroke-width:0.8px;stroke-linecap:butt;stroke-linejoin:miter;stroke-opacity:1\"/>\n<path class=\"bond-19 atom-16 atom-11\" d=\"M 537.1,432.3 L 528.3,460.7\" style=\"fill:none;fill-rule:evenodd;stroke:#000000;stroke-width:0.8px;stroke-linecap:butt;stroke-linejoin:miter;stroke-opacity:1\"/>\n<path d=\"M 341.2,450.6 L 342.7,450.2 L 343.1,450.7\" style=\"fill:none;stroke:#000000;stroke-width:0.8px;stroke-linecap:butt;stroke-linejoin:miter;stroke-opacity:1;\"/>\n<path d=\"M 400.3,438.4 L 400.7,437.0 L 402.2,436.6\" style=\"fill:none;stroke:#000000;stroke-width:0.8px;stroke-linecap:butt;stroke-linejoin:miter;stroke-opacity:1;\"/>\n<path d=\"M 428.3,430.7 L 429.7,430.3 L 430.8,431.4\" style=\"fill:none;stroke:#000000;stroke-width:0.8px;stroke-linecap:butt;stroke-linejoin:miter;stroke-opacity:1;\"/>\n<path d=\"M 477.6,445.8 L 479.0,445.5 L 479.4,445.9\" style=\"fill:none;stroke:#000000;stroke-width:0.8px;stroke-linecap:butt;stroke-linejoin:miter;stroke-opacity:1;\"/>\n<path d=\"M 547.6,481.4 L 548.6,482.5 L 550.0,482.2\" style=\"fill:none;stroke:#000000;stroke-width:0.8px;stroke-linecap:butt;stroke-linejoin:miter;stroke-opacity:1;\"/>\n<path d=\"M 576.1,476.2 L 577.6,475.9 L 578.0,474.5\" style=\"fill:none;stroke:#000000;stroke-width:0.8px;stroke-linecap:butt;stroke-linejoin:miter;stroke-opacity:1;\"/>\n<path d=\"M 585.9,448.9 L 586.4,447.4 L 585.4,446.3\" style=\"fill:none;stroke:#000000;stroke-width:0.8px;stroke-linecap:butt;stroke-linejoin:miter;stroke-opacity:1;\"/>\n<path d=\"M 567.1,426.7 L 566.1,425.6 L 564.7,426.0\" style=\"fill:none;stroke:#000000;stroke-width:0.8px;stroke-linecap:butt;stroke-linejoin:miter;stroke-opacity:1;\"/>\n<path d=\"M 538.5,431.9 L 537.1,432.3 L 536.6,433.7\" style=\"fill:none;stroke:#000000;stroke-width:0.8px;stroke-linecap:butt;stroke-linejoin:miter;stroke-opacity:1;\"/>\n<path d=\"M 441.7,479.2 L 441.2,480.6 L 439.8,480.9\" style=\"fill:none;stroke:#000000;stroke-width:0.8px;stroke-linecap:butt;stroke-linejoin:miter;stroke-opacity:1;\"/>\n<path d=\"M 413.7,486.9 L 412.2,487.2 L 411.2,486.1\" style=\"fill:none;stroke:#000000;stroke-width:0.8px;stroke-linecap:butt;stroke-linejoin:miter;stroke-opacity:1;\"/>\n<path class=\"atom-2\" d=\"M 347.5 421.8 Q 347.5 419.8, 348.5 418.6 Q 349.5 417.5, 351.4 417.5 Q 353.3 417.5, 354.3 418.6 Q 355.3 419.8, 355.3 421.8 Q 355.3 423.9, 354.3 425.0 Q 353.3 426.2, 351.4 426.2 Q 349.6 426.2, 348.5 425.0 Q 347.5 423.9, 347.5 421.8 M 351.4 425.2 Q 352.7 425.2, 353.4 424.4 Q 354.1 423.5, 354.1 421.8 Q 354.1 420.1, 353.4 419.3 Q 352.7 418.4, 351.4 418.4 Q 350.1 418.4, 349.4 419.3 Q 348.7 420.1, 348.7 421.8 Q 348.7 423.5, 349.4 424.4 Q 350.1 425.2, 351.4 425.2 \" fill=\"#FF0000\"/>\n<path class=\"atom-3\" d=\"M 361.0 467.8 L 363.8 472.3 Q 364.1 472.7, 364.5 473.5 Q 365.0 474.3, 365.0 474.4 L 365.0 467.8 L 366.1 467.8 L 366.1 476.3 L 365.0 476.3 L 362.0 471.4 Q 361.6 470.8, 361.3 470.1 Q 360.9 469.5, 360.8 469.3 L 360.8 476.3 L 359.7 476.3 L 359.7 467.8 L 361.0 467.8 \" fill=\"#0000FF\"/>\n<path class=\"atom-3\" d=\"M 359.6 477.1 L 360.7 477.1 L 360.7 480.8 L 365.1 480.8 L 365.1 477.1 L 366.2 477.1 L 366.2 485.6 L 365.1 485.6 L 365.1 481.7 L 360.7 481.7 L 360.7 485.6 L 359.6 485.6 L 359.6 477.1 \" fill=\"#0000FF\"/>\n<path class=\"atom-9\" d=\"M 483.9 417.1 Q 483.9 415.0, 484.9 413.9 Q 485.9 412.8, 487.8 412.8 Q 489.7 412.8, 490.7 413.9 Q 491.7 415.0, 491.7 417.1 Q 491.7 419.1, 490.7 420.3 Q 489.7 421.5, 487.8 421.5 Q 485.9 421.5, 484.9 420.3 Q 483.9 419.2, 483.9 417.1 M 487.8 420.5 Q 489.1 420.5, 489.8 419.7 Q 490.5 418.8, 490.5 417.1 Q 490.5 415.4, 489.8 414.6 Q 489.1 413.7, 487.8 413.7 Q 486.5 413.7, 485.8 414.6 Q 485.1 415.4, 485.1 417.1 Q 485.1 418.8, 485.8 419.7 Q 486.5 420.5, 487.8 420.5 \" fill=\"#FF0000\"/>\n<path class=\"atom-10\" d=\"M 497.4 463.1 L 500.2 467.6 Q 500.5 468.0, 500.9 468.8 Q 501.4 469.6, 501.4 469.7 L 501.4 463.1 L 502.5 463.1 L 502.5 471.6 L 501.3 471.6 L 498.4 466.7 Q 498.0 466.1, 497.6 465.4 Q 497.3 464.8, 497.2 464.6 L 497.2 471.6 L 496.1 471.6 L 496.1 463.1 L 497.4 463.1 \" fill=\"#0000FF\"/>\n<path class=\"atom-10\" d=\"M 496.0 472.4 L 497.1 472.4 L 497.1 476.0 L 501.5 476.0 L 501.5 472.4 L 502.6 472.4 L 502.6 480.9 L 501.5 480.9 L 501.5 477.0 L 497.1 477.0 L 497.1 480.9 L 496.0 480.9 L 496.0 472.4 \" fill=\"#0000FF\"/>\n<path class=\"bond-0 atom-0 atom-1\" d=\"M 632.9,453.1 L 659.5,439.6\" style=\"fill:none;fill-rule:evenodd;stroke:#000000;stroke-width:0.8px;stroke-linecap:butt;stroke-linejoin:miter;stroke-opacity:1\"/>\n<path class=\"bond-1 atom-1 atom-2\" d=\"M 659.5,439.6 L 661.1,409.9\" style=\"fill:none;fill-rule:evenodd;stroke:#000000;stroke-width:0.8px;stroke-linecap:butt;stroke-linejoin:miter;stroke-opacity:1\"/>\n<path class=\"bond-2 atom-1 atom-3\" d=\"M 659.5,439.6 L 684.4,455.9\" style=\"fill:none;fill-rule:evenodd;stroke:#000000;stroke-width:0.8px;stroke-linecap:butt;stroke-linejoin:miter;stroke-opacity:1\"/>\n<path class=\"bond-3 atom-3 atom-4\" d=\"M 684.4,455.9 L 711.0,442.4\" style=\"fill:none;fill-rule:evenodd;stroke:#000000;stroke-width:0.8px;stroke-linecap:butt;stroke-linejoin:miter;stroke-opacity:1\"/>\n<path class=\"bond-4 atom-4 atom-5\" d=\"M 713.1,443.8 L 713.8,431.0\" style=\"fill:none;fill-rule:evenodd;stroke:#000000;stroke-width:0.8px;stroke-linecap:butt;stroke-linejoin:miter;stroke-opacity:1\"/>\n<path class=\"bond-4 atom-4 atom-5\" d=\"M 713.8,431.0 L 714.5,418.1\" style=\"fill:none;fill-rule:evenodd;stroke:#FF0000;stroke-width:0.8px;stroke-linecap:butt;stroke-linejoin:miter;stroke-opacity:1\"/>\n<path class=\"bond-4 atom-4 atom-5\" d=\"M 708.7,443.5 L 709.4,430.7\" style=\"fill:none;fill-rule:evenodd;stroke:#000000;stroke-width:0.8px;stroke-linecap:butt;stroke-linejoin:miter;stroke-opacity:1\"/>\n<path class=\"bond-4 atom-4 atom-5\" d=\"M 709.4,430.7 L 710.0,417.9\" style=\"fill:none;fill-rule:evenodd;stroke:#FF0000;stroke-width:0.8px;stroke-linecap:butt;stroke-linejoin:miter;stroke-opacity:1\"/>\n<path class=\"bond-5 atom-4 atom-6\" d=\"M 711.0,442.4 L 721.4,449.1\" style=\"fill:none;fill-rule:evenodd;stroke:#000000;stroke-width:0.8px;stroke-linecap:butt;stroke-linejoin:miter;stroke-opacity:1\"/>\n<path class=\"bond-5 atom-4 atom-6\" d=\"M 721.4,449.1 L 731.7,455.8\" style=\"fill:none;fill-rule:evenodd;stroke:#0000FF;stroke-width:0.8px;stroke-linecap:butt;stroke-linejoin:miter;stroke-opacity:1\"/>\n<path class=\"bond-6 atom-6 atom-7\" d=\"M 740.2,456.4 L 758.3,447.2\" style=\"fill:none;fill-rule:evenodd;stroke:#0000FF;stroke-width:0.8px;stroke-linecap:butt;stroke-linejoin:miter;stroke-opacity:1\"/>\n<path class=\"bond-7 atom-7 atom-8\" d=\"M 766.7,447.8 L 777.1,454.5\" style=\"fill:none;fill-rule:evenodd;stroke:#0000FF;stroke-width:0.8px;stroke-linecap:butt;stroke-linejoin:miter;stroke-opacity:1\"/>\n<path class=\"bond-7 atom-7 atom-8\" d=\"M 777.1,454.5 L 787.4,461.3\" style=\"fill:none;fill-rule:evenodd;stroke:#000000;stroke-width:0.8px;stroke-linecap:butt;stroke-linejoin:miter;stroke-opacity:1\"/>\n<path class=\"bond-8 atom-8 atom-9\" d=\"M 785.3,459.9 L 784.6,472.8\" style=\"fill:none;fill-rule:evenodd;stroke:#000000;stroke-width:0.8px;stroke-linecap:butt;stroke-linejoin:miter;stroke-opacity:1\"/>\n<path class=\"bond-8 atom-8 atom-9\" d=\"M 784.6,472.8 L 783.9,485.6\" style=\"fill:none;fill-rule:evenodd;stroke:#FF0000;stroke-width:0.8px;stroke-linecap:butt;stroke-linejoin:miter;stroke-opacity:1\"/>\n<path class=\"bond-8 atom-8 atom-9\" d=\"M 789.7,460.1 L 789.1,473.0\" style=\"fill:none;fill-rule:evenodd;stroke:#000000;stroke-width:0.8px;stroke-linecap:butt;stroke-linejoin:miter;stroke-opacity:1\"/>\n<path class=\"bond-8 atom-8 atom-9\" d=\"M 789.1,473.0 L 788.4,485.9\" style=\"fill:none;fill-rule:evenodd;stroke:#FF0000;stroke-width:0.8px;stroke-linecap:butt;stroke-linejoin:miter;stroke-opacity:1\"/>\n<path class=\"bond-9 atom-8 atom-10\" d=\"M 787.4,461.3 L 814.0,447.8\" style=\"fill:none;fill-rule:evenodd;stroke:#000000;stroke-width:0.8px;stroke-linecap:butt;stroke-linejoin:miter;stroke-opacity:1\"/>\n<path class=\"bond-10 atom-10 atom-11\" d=\"M 814.0,447.8 L 815.6,418.1\" style=\"fill:none;fill-rule:evenodd;stroke:#000000;stroke-width:0.8px;stroke-linecap:butt;stroke-linejoin:miter;stroke-opacity:1\"/>\n<path class=\"bond-10 atom-10 atom-11\" d=\"M 818.6,445.4 L 819.9,420.9\" style=\"fill:none;fill-rule:evenodd;stroke:#000000;stroke-width:0.8px;stroke-linecap:butt;stroke-linejoin:miter;stroke-opacity:1\"/>\n<path class=\"bond-11 atom-11 atom-12\" d=\"M 815.6,418.1 L 842.1,404.5\" style=\"fill:none;fill-rule:evenodd;stroke:#000000;stroke-width:0.8px;stroke-linecap:butt;stroke-linejoin:miter;stroke-opacity:1\"/>\n<path class=\"bond-12 atom-12 atom-13\" d=\"M 842.1,404.5 L 867.1,420.8\" style=\"fill:none;fill-rule:evenodd;stroke:#000000;stroke-width:0.8px;stroke-linecap:butt;stroke-linejoin:miter;stroke-opacity:1\"/>\n<path class=\"bond-12 atom-12 atom-13\" d=\"M 841.8,409.7 L 862.5,423.1\" style=\"fill:none;fill-rule:evenodd;stroke:#000000;stroke-width:0.8px;stroke-linecap:butt;stroke-linejoin:miter;stroke-opacity:1\"/>\n<path class=\"bond-13 atom-13 atom-14\" d=\"M 867.1,420.8 L 865.5,450.5\" style=\"fill:none;fill-rule:evenodd;stroke:#000000;stroke-width:0.8px;stroke-linecap:butt;stroke-linejoin:miter;stroke-opacity:1\"/>\n<path class=\"bond-14 atom-14 atom-15\" d=\"M 865.5,450.5 L 838.9,464.0\" style=\"fill:none;fill-rule:evenodd;stroke:#000000;stroke-width:0.8px;stroke-linecap:butt;stroke-linejoin:miter;stroke-opacity:1\"/>\n<path class=\"bond-14 atom-14 atom-15\" d=\"M 861.2,447.7 L 839.2,458.9\" style=\"fill:none;fill-rule:evenodd;stroke:#000000;stroke-width:0.8px;stroke-linecap:butt;stroke-linejoin:miter;stroke-opacity:1\"/>\n<path class=\"bond-15 atom-15 atom-10\" d=\"M 838.9,464.0 L 814.0,447.8\" style=\"fill:none;fill-rule:evenodd;stroke:#000000;stroke-width:0.8px;stroke-linecap:butt;stroke-linejoin:miter;stroke-opacity:1\"/>\n<path d=\"M 683.2,455.1 L 684.4,455.9 L 685.8,455.2\" style=\"fill:none;stroke:#000000;stroke-width:0.8px;stroke-linecap:butt;stroke-linejoin:miter;stroke-opacity:1;\"/>\n<path d=\"M 709.7,443.0 L 711.0,442.4 L 711.5,442.7\" style=\"fill:none;stroke:#000000;stroke-width:0.8px;stroke-linecap:butt;stroke-linejoin:miter;stroke-opacity:1;\"/>\n<path d=\"M 786.9,461.0 L 787.4,461.3 L 788.8,460.6\" style=\"fill:none;stroke:#000000;stroke-width:0.8px;stroke-linecap:butt;stroke-linejoin:miter;stroke-opacity:1;\"/>\n<path d=\"M 815.5,419.5 L 815.6,418.1 L 816.9,417.4\" style=\"fill:none;stroke:#000000;stroke-width:0.8px;stroke-linecap:butt;stroke-linejoin:miter;stroke-opacity:1;\"/>\n<path d=\"M 840.8,405.2 L 842.1,404.5 L 843.3,405.4\" style=\"fill:none;stroke:#000000;stroke-width:0.8px;stroke-linecap:butt;stroke-linejoin:miter;stroke-opacity:1;\"/>\n<path d=\"M 865.8,420.0 L 867.1,420.8 L 867.0,422.3\" style=\"fill:none;stroke:#000000;stroke-width:0.8px;stroke-linecap:butt;stroke-linejoin:miter;stroke-opacity:1;\"/>\n<path d=\"M 865.6,449.0 L 865.5,450.5 L 864.2,451.2\" style=\"fill:none;stroke:#000000;stroke-width:0.8px;stroke-linecap:butt;stroke-linejoin:miter;stroke-opacity:1;\"/>\n<path d=\"M 840.3,463.3 L 838.9,464.0 L 837.7,463.2\" style=\"fill:none;stroke:#000000;stroke-width:0.8px;stroke-linecap:butt;stroke-linejoin:miter;stroke-opacity:1;\"/>\n<path class=\"atom-5\" d=\"M 708.7 412.6 Q 708.7 410.6, 709.7 409.5 Q 710.7 408.3, 712.6 408.3 Q 714.4 408.3, 715.4 409.5 Q 716.5 410.6, 716.5 412.6 Q 716.5 414.7, 715.4 415.9 Q 714.4 417.0, 712.6 417.0 Q 710.7 417.0, 709.7 415.9 Q 708.7 414.7, 708.7 412.6 M 712.6 416.1 Q 713.8 416.1, 714.5 415.2 Q 715.3 414.3, 715.3 412.6 Q 715.3 411.0, 714.5 410.1 Q 713.8 409.3, 712.6 409.3 Q 711.3 409.3, 710.5 410.1 Q 709.9 411.0, 709.9 412.6 Q 709.9 414.4, 710.5 415.2 Q 711.3 416.1, 712.6 416.1 \" fill=\"#FF0000\"/>\n<path class=\"atom-6\" d=\"M 734.1 454.3 L 736.9 458.8 Q 737.1 459.3, 737.6 460.1 Q 738.0 460.9, 738.0 460.9 L 738.0 454.3 L 739.2 454.3 L 739.2 462.8 L 738.0 462.8 L 735.0 457.9 Q 734.7 457.3, 734.3 456.7 Q 733.9 456.0, 733.8 455.8 L 733.8 462.8 L 732.7 462.8 L 732.7 454.3 L 734.1 454.3 \" fill=\"#0000FF\"/>\n<path class=\"atom-6\" d=\"M 732.6 463.7 L 733.8 463.7 L 733.8 467.3 L 738.1 467.3 L 738.1 463.7 L 739.3 463.7 L 739.3 472.2 L 738.1 472.2 L 738.1 468.2 L 733.8 468.2 L 733.8 472.2 L 732.6 472.2 L 732.6 463.7 \" fill=\"#0000FF\"/>\n<path class=\"atom-7\" d=\"M 760.6 440.8 L 763.4 445.3 Q 763.7 445.8, 764.1 446.6 Q 764.6 447.4, 764.6 447.4 L 764.6 440.8 L 765.7 440.8 L 765.7 449.3 L 764.5 449.3 L 761.6 444.4 Q 761.2 443.8, 760.8 443.2 Q 760.5 442.5, 760.4 442.3 L 760.4 449.3 L 759.3 449.3 L 759.3 440.8 L 760.6 440.8 \" fill=\"#0000FF\"/>\n<path class=\"atom-7\" d=\"M 759.2 431.5 L 760.3 431.5 L 760.3 435.1 L 764.7 435.1 L 764.7 431.5 L 765.8 431.5 L 765.8 440.0 L 764.7 440.0 L 764.7 436.0 L 760.3 436.0 L 760.3 440.0 L 759.2 440.0 L 759.2 431.5 \" fill=\"#0000FF\"/>\n<path class=\"atom-9\" d=\"M 782.0 491.1 Q 782.0 489.0, 783.0 487.9 Q 784.0 486.7, 785.9 486.7 Q 787.8 486.7, 788.8 487.9 Q 789.8 489.0, 789.8 491.1 Q 789.8 493.1, 788.8 494.3 Q 787.7 495.5, 785.9 495.5 Q 784.0 495.5, 783.0 494.3 Q 782.0 493.1, 782.0 491.1 M 785.9 494.5 Q 787.2 494.5, 787.9 493.6 Q 788.6 492.8, 788.6 491.1 Q 788.6 489.4, 787.9 488.5 Q 787.2 487.7, 785.9 487.7 Q 784.6 487.7, 783.9 488.5 Q 783.2 489.4, 783.2 491.1 Q 783.2 492.8, 783.9 493.6 Q 784.6 494.5, 785.9 494.5 \" fill=\"#FF0000\"/>\n<path class=\"bond-0 atom-0 atom-1\" d=\"M 967.8,473.5 L 970.2,460.9\" style=\"fill:none;fill-rule:evenodd;stroke:#FF0000;stroke-width:0.8px;stroke-linecap:butt;stroke-linejoin:miter;stroke-opacity:1\"/>\n<path class=\"bond-0 atom-0 atom-1\" d=\"M 970.2,460.9 L 972.6,448.2\" style=\"fill:none;fill-rule:evenodd;stroke:#000000;stroke-width:0.8px;stroke-linecap:butt;stroke-linejoin:miter;stroke-opacity:1\"/>\n<path class=\"bond-0 atom-0 atom-1\" d=\"M 972.1,474.3 L 974.6,461.7\" style=\"fill:none;fill-rule:evenodd;stroke:#FF0000;stroke-width:0.8px;stroke-linecap:butt;stroke-linejoin:miter;stroke-opacity:1\"/>\n<path class=\"bond-0 atom-0 atom-1\" d=\"M 974.6,461.7 L 977.0,449.1\" style=\"fill:none;fill-rule:evenodd;stroke:#000000;stroke-width:0.8px;stroke-linecap:butt;stroke-linejoin:miter;stroke-opacity:1\"/>\n<path class=\"bond-1 atom-1 atom-2\" d=\"M 974.6,449.9 L 965.7,442.3\" style=\"fill:none;fill-rule:evenodd;stroke:#000000;stroke-width:0.8px;stroke-linecap:butt;stroke-linejoin:miter;stroke-opacity:1\"/>\n<path class=\"bond-1 atom-1 atom-2\" d=\"M 965.7,442.3 L 956.9,434.7\" style=\"fill:none;fill-rule:evenodd;stroke:#FF0000;stroke-width:0.8px;stroke-linecap:butt;stroke-linejoin:miter;stroke-opacity:1\"/>\n<path class=\"bond-2 atom-1 atom-3\" d=\"M 974.6,449.9 L 1002.7,440.2\" style=\"fill:none;fill-rule:evenodd;stroke:#000000;stroke-width:0.8px;stroke-linecap:butt;stroke-linejoin:miter;stroke-opacity:1\"/>\n<path class=\"bond-3 atom-3 atom-4\" d=\"M 1002.7,440.2 L 1025.2,459.7\" style=\"fill:none;fill-rule:evenodd;stroke:#000000;stroke-width:0.8px;stroke-linecap:butt;stroke-linejoin:miter;stroke-opacity:1\"/>\n<path class=\"bond-4 atom-4 atom-5\" d=\"M 1025.2,459.7 L 1053.3,449.9\" style=\"fill:none;fill-rule:evenodd;stroke:#000000;stroke-width:0.8px;stroke-linecap:butt;stroke-linejoin:miter;stroke-opacity:1\"/>\n<path class=\"bond-5 atom-5 atom-6\" d=\"M 1055.3,451.6 L 1057.7,439.1\" style=\"fill:none;fill-rule:evenodd;stroke:#000000;stroke-width:0.8px;stroke-linecap:butt;stroke-linejoin:miter;stroke-opacity:1\"/>\n<path class=\"bond-5 atom-5 atom-6\" d=\"M 1057.7,439.1 L 1060.1,426.5\" style=\"fill:none;fill-rule:evenodd;stroke:#FF0000;stroke-width:0.8px;stroke-linecap:butt;stroke-linejoin:miter;stroke-opacity:1\"/>\n<path class=\"bond-5 atom-5 atom-6\" d=\"M 1050.9,450.8 L 1053.3,438.2\" style=\"fill:none;fill-rule:evenodd;stroke:#000000;stroke-width:0.8px;stroke-linecap:butt;stroke-linejoin:miter;stroke-opacity:1\"/>\n<path class=\"bond-5 atom-5 atom-6\" d=\"M 1053.3,438.2 L 1055.7,425.7\" style=\"fill:none;fill-rule:evenodd;stroke:#FF0000;stroke-width:0.8px;stroke-linecap:butt;stroke-linejoin:miter;stroke-opacity:1\"/>\n<path class=\"bond-6 atom-5 atom-7\" d=\"M 1053.3,449.9 L 1062.5,457.9\" style=\"fill:none;fill-rule:evenodd;stroke:#000000;stroke-width:0.8px;stroke-linecap:butt;stroke-linejoin:miter;stroke-opacity:1\"/>\n<path class=\"bond-6 atom-5 atom-7\" d=\"M 1062.5,457.9 L 1071.6,465.8\" style=\"fill:none;fill-rule:evenodd;stroke:#0000FF;stroke-width:0.8px;stroke-linecap:butt;stroke-linejoin:miter;stroke-opacity:1\"/>\n<path class=\"bond-7 atom-7 atom-8\" d=\"M 1080.0,468.0 L 1092.0,463.8\" style=\"fill:none;fill-rule:evenodd;stroke:#0000FF;stroke-width:0.8px;stroke-linecap:butt;stroke-linejoin:miter;stroke-opacity:1\"/>\n<path class=\"bond-7 atom-7 atom-8\" d=\"M 1092.0,463.8 L 1104.0,459.7\" style=\"fill:none;fill-rule:evenodd;stroke:#000000;stroke-width:0.8px;stroke-linecap:butt;stroke-linejoin:miter;stroke-opacity:1\"/>\n<path class=\"bond-8 atom-8 atom-9\" d=\"M 1104.0,459.7 L 1109.6,430.4\" style=\"fill:none;fill-rule:evenodd;stroke:#000000;stroke-width:0.8px;stroke-linecap:butt;stroke-linejoin:miter;stroke-opacity:1\"/>\n<path class=\"bond-8 atom-8 atom-9\" d=\"M 1108.8,458.0 L 1113.5,433.8\" style=\"fill:none;fill-rule:evenodd;stroke:#000000;stroke-width:0.8px;stroke-linecap:butt;stroke-linejoin:miter;stroke-opacity:1\"/>\n<path class=\"bond-9 atom-9 atom-10\" d=\"M 1109.6,430.4 L 1137.7,420.7\" style=\"fill:none;fill-rule:evenodd;stroke:#000000;stroke-width:0.8px;stroke-linecap:butt;stroke-linejoin:miter;stroke-opacity:1\"/>\n<path class=\"bond-10 atom-10 atom-11\" d=\"M 1137.7,420.7 L 1160.2,440.2\" style=\"fill:none;fill-rule:evenodd;stroke:#000000;stroke-width:0.8px;stroke-linecap:butt;stroke-linejoin:miter;stroke-opacity:1\"/>\n<path class=\"bond-10 atom-10 atom-11\" d=\"M 1136.8,425.8 L 1155.4,441.9\" style=\"fill:none;fill-rule:evenodd;stroke:#000000;stroke-width:0.8px;stroke-linecap:butt;stroke-linejoin:miter;stroke-opacity:1\"/>\n<path class=\"bond-11 atom-11 atom-12\" d=\"M 1160.2,440.2 L 1154.6,469.4\" style=\"fill:none;fill-rule:evenodd;stroke:#000000;stroke-width:0.8px;stroke-linecap:butt;stroke-linejoin:miter;stroke-opacity:1\"/>\n<path class=\"bond-12 atom-12 atom-13\" d=\"M 1154.6,469.4 L 1126.5,479.2\" style=\"fill:none;fill-rule:evenodd;stroke:#000000;stroke-width:0.8px;stroke-linecap:butt;stroke-linejoin:miter;stroke-opacity:1\"/>\n<path class=\"bond-12 atom-12 atom-13\" d=\"M 1150.7,466.0 L 1127.5,474.1\" style=\"fill:none;fill-rule:evenodd;stroke:#000000;stroke-width:0.8px;stroke-linecap:butt;stroke-linejoin:miter;stroke-opacity:1\"/>\n<path class=\"bond-13 atom-13 atom-8\" d=\"M 1126.5,479.2 L 1104.0,459.7\" style=\"fill:none;fill-rule:evenodd;stroke:#000000;stroke-width:0.8px;stroke-linecap:butt;stroke-linejoin:miter;stroke-opacity:1\"/>\n<path d=\"M 974.1,449.6 L 974.6,449.9 L 976.0,449.4\" style=\"fill:none;stroke:#000000;stroke-width:0.8px;stroke-linecap:butt;stroke-linejoin:miter;stroke-opacity:1;\"/>\n<path d=\"M 1001.3,440.7 L 1002.7,440.2 L 1003.8,441.2\" style=\"fill:none;stroke:#000000;stroke-width:0.8px;stroke-linecap:butt;stroke-linejoin:miter;stroke-opacity:1;\"/>\n<path d=\"M 1024.1,458.7 L 1025.2,459.7 L 1026.6,459.2\" style=\"fill:none;stroke:#000000;stroke-width:0.8px;stroke-linecap:butt;stroke-linejoin:miter;stroke-opacity:1;\"/>\n<path d=\"M 1051.9,450.4 L 1053.3,449.9 L 1053.8,450.3\" style=\"fill:none;stroke:#000000;stroke-width:0.8px;stroke-linecap:butt;stroke-linejoin:miter;stroke-opacity:1;\"/>\n<path d=\"M 1109.3,431.9 L 1109.6,430.4 L 1111.0,430.0\" style=\"fill:none;stroke:#000000;stroke-width:0.8px;stroke-linecap:butt;stroke-linejoin:miter;stroke-opacity:1;\"/>\n<path d=\"M 1136.3,421.2 L 1137.7,420.7 L 1138.9,421.7\" style=\"fill:none;stroke:#000000;stroke-width:0.8px;stroke-linecap:butt;stroke-linejoin:miter;stroke-opacity:1;\"/>\n<path d=\"M 1159.1,439.2 L 1160.2,440.2 L 1160.0,441.6\" style=\"fill:none;stroke:#000000;stroke-width:0.8px;stroke-linecap:butt;stroke-linejoin:miter;stroke-opacity:1;\"/>\n<path d=\"M 1154.9,468.0 L 1154.6,469.4 L 1153.2,469.9\" style=\"fill:none;stroke:#000000;stroke-width:0.8px;stroke-linecap:butt;stroke-linejoin:miter;stroke-opacity:1;\"/>\n<path d=\"M 1127.9,478.7 L 1126.5,479.2 L 1125.4,478.2\" style=\"fill:none;stroke:#000000;stroke-width:0.8px;stroke-linecap:butt;stroke-linejoin:miter;stroke-opacity:1;\"/>\n<path class=\"atom-0\" d=\"M 965.0 479.2 Q 965.0 477.2, 966.0 476.0 Q 967.0 474.9, 968.9 474.9 Q 970.8 474.9, 971.8 476.0 Q 972.8 477.2, 972.8 479.2 Q 972.8 481.3, 971.8 482.4 Q 970.8 483.6, 968.9 483.6 Q 967.1 483.6, 966.0 482.4 Q 965.0 481.3, 965.0 479.2 M 968.9 482.6 Q 970.2 482.6, 970.9 481.8 Q 971.6 480.9, 971.6 479.2 Q 971.6 477.5, 970.9 476.7 Q 970.2 475.8, 968.9 475.8 Q 967.6 475.8, 966.9 476.7 Q 966.2 477.5, 966.2 479.2 Q 966.2 480.9, 966.9 481.8 Q 967.6 482.6, 968.9 482.6 \" fill=\"#FF0000\"/>\n<path class=\"atom-2\" d=\"M 939.8 426.2 L 940.9 426.2 L 940.9 429.9 L 945.3 429.9 L 945.3 426.2 L 946.4 426.2 L 946.4 434.7 L 945.3 434.7 L 945.3 430.8 L 940.9 430.8 L 940.9 434.7 L 939.8 434.7 L 939.8 426.2 \" fill=\"#FF0000\"/>\n<path class=\"atom-2\" d=\"M 948.1 430.5 Q 948.1 428.4, 949.2 427.3 Q 950.2 426.1, 952.0 426.1 Q 953.9 426.1, 954.9 427.3 Q 955.9 428.4, 955.9 430.5 Q 955.9 432.5, 954.9 433.7 Q 953.9 434.9, 952.0 434.9 Q 950.2 434.9, 949.2 433.7 Q 948.1 432.5, 948.1 430.5 M 952.0 433.9 Q 953.3 433.9, 954.0 433.0 Q 954.7 432.2, 954.7 430.5 Q 954.7 428.8, 954.0 428.0 Q 953.3 427.1, 952.0 427.1 Q 950.8 427.1, 950.0 427.9 Q 949.3 428.8, 949.3 430.5 Q 949.3 432.2, 950.0 433.0 Q 950.8 433.9, 952.0 433.9 \" fill=\"#FF0000\"/>\n<path class=\"atom-6\" d=\"M 1055.1 420.7 Q 1055.1 418.7, 1056.1 417.5 Q 1057.1 416.4, 1059.0 416.4 Q 1060.8 416.4, 1061.9 417.5 Q 1062.9 418.7, 1062.9 420.7 Q 1062.9 422.8, 1061.8 424.0 Q 1060.8 425.1, 1059.0 425.1 Q 1057.1 425.1, 1056.1 424.0 Q 1055.1 422.8, 1055.1 420.7 M 1059.0 424.2 Q 1060.3 424.2, 1061.0 423.3 Q 1061.7 422.4, 1061.7 420.7 Q 1061.7 419.1, 1061.0 418.2 Q 1060.3 417.4, 1059.0 417.4 Q 1057.7 417.4, 1057.0 418.2 Q 1056.3 419.0, 1056.3 420.7 Q 1056.3 422.4, 1057.0 423.3 Q 1057.7 424.2, 1059.0 424.2 \" fill=\"#FF0000\"/>\n<path class=\"atom-7\" d=\"M 1074.0 465.2 L 1076.7 469.7 Q 1077.0 470.1, 1077.5 470.9 Q 1077.9 471.7, 1077.9 471.8 L 1077.9 465.2 L 1079.1 465.2 L 1079.1 473.7 L 1077.9 473.7 L 1074.9 468.8 Q 1074.6 468.2, 1074.2 467.5 Q 1073.8 466.9, 1073.7 466.7 L 1073.7 473.7 L 1072.6 473.7 L 1072.6 465.2 L 1074.0 465.2 \" fill=\"#0000FF\"/>\n<path class=\"atom-7\" d=\"M 1072.5 474.5 L 1073.7 474.5 L 1073.7 478.1 L 1078.0 478.1 L 1078.0 474.5 L 1079.2 474.5 L 1079.2 483.0 L 1078.0 483.0 L 1078.0 479.1 L 1073.7 479.1 L 1073.7 483.0 L 1072.5 483.0 L 1072.5 474.5 \" fill=\"#0000FF\"/>\n<path class=\"bond-0 atom-0 atom-1\" d=\"M 1387.8,452.2 L 1374.7,452.2\" style=\"fill:none;fill-rule:evenodd;stroke:#FF0000;stroke-width:0.8px;stroke-linecap:butt;stroke-linejoin:miter;stroke-opacity:1\"/>\n<path class=\"bond-0 atom-0 atom-1\" d=\"M 1374.7,452.2 L 1361.6,452.2\" style=\"fill:none;fill-rule:evenodd;stroke:#000000;stroke-width:0.8px;stroke-linecap:butt;stroke-linejoin:miter;stroke-opacity:1\"/>\n<path class=\"bond-0 atom-0 atom-1\" d=\"M 1387.8,447.8 L 1374.7,447.8\" style=\"fill:none;fill-rule:evenodd;stroke:#FF0000;stroke-width:0.8px;stroke-linecap:butt;stroke-linejoin:miter;stroke-opacity:1\"/>\n<path class=\"bond-0 atom-0 atom-1\" d=\"M 1374.7,447.8 L 1361.6,447.8\" style=\"fill:none;fill-rule:evenodd;stroke:#000000;stroke-width:0.8px;stroke-linecap:butt;stroke-linejoin:miter;stroke-opacity:1\"/>\n<path class=\"bond-1 atom-1 atom-2\" d=\"M 1362.9,450.0 L 1348.0,475.8\" style=\"fill:none;fill-rule:evenodd;stroke:#000000;stroke-width:0.8px;stroke-linecap:butt;stroke-linejoin:miter;stroke-opacity:1\"/>\n<path class=\"bond-2 atom-2 atom-3\" d=\"M 1348.0,475.8 L 1318.3,475.8\" style=\"fill:none;fill-rule:evenodd;stroke:#000000;stroke-width:0.8px;stroke-linecap:butt;stroke-linejoin:miter;stroke-opacity:1\"/>\n<path class=\"bond-3 atom-3 atom-4\" d=\"M 1318.3,475.8 L 1303.4,450.0\" style=\"fill:none;fill-rule:evenodd;stroke:#000000;stroke-width:0.8px;stroke-linecap:butt;stroke-linejoin:miter;stroke-opacity:1\"/>\n<path class=\"bond-4 atom-4 atom-5\" d=\"M 1303.4,450.0 L 1318.3,424.2\" style=\"fill:none;fill-rule:evenodd;stroke:#000000;stroke-width:0.8px;stroke-linecap:butt;stroke-linejoin:miter;stroke-opacity:1\"/>\n<path class=\"bond-5 atom-5 atom-6\" d=\"M 1318.3,424.2 L 1348.0,424.2\" style=\"fill:none;fill-rule:evenodd;stroke:#000000;stroke-width:0.8px;stroke-linecap:butt;stroke-linejoin:miter;stroke-opacity:1\"/>\n<path class=\"bond-6 atom-6 atom-1\" d=\"M 1348.0,424.2 L 1362.9,450.0\" style=\"fill:none;fill-rule:evenodd;stroke:#000000;stroke-width:0.8px;stroke-linecap:butt;stroke-linejoin:miter;stroke-opacity:1\"/>\n<path d=\"M 1362.2,451.3 L 1362.9,450.0 L 1362.2,448.7\" style=\"fill:none;stroke:#000000;stroke-width:0.8px;stroke-linecap:butt;stroke-linejoin:miter;stroke-opacity:1;\"/>\n<path d=\"M 1348.8,474.5 L 1348.0,475.8 L 1346.6,475.8\" style=\"fill:none;stroke:#000000;stroke-width:0.8px;stroke-linecap:butt;stroke-linejoin:miter;stroke-opacity:1;\"/>\n<path d=\"M 1319.8,475.8 L 1318.3,475.8 L 1317.5,474.5\" style=\"fill:none;stroke:#000000;stroke-width:0.8px;stroke-linecap:butt;stroke-linejoin:miter;stroke-opacity:1;\"/>\n<path d=\"M 1304.1,451.3 L 1303.4,450.0 L 1304.1,448.7\" style=\"fill:none;stroke:#000000;stroke-width:0.8px;stroke-linecap:butt;stroke-linejoin:miter;stroke-opacity:1;\"/>\n<path d=\"M 1317.5,425.5 L 1318.3,424.2 L 1319.8,424.2\" style=\"fill:none;stroke:#000000;stroke-width:0.8px;stroke-linecap:butt;stroke-linejoin:miter;stroke-opacity:1;\"/>\n<path d=\"M 1346.6,424.2 L 1348.0,424.2 L 1348.8,425.5\" style=\"fill:none;stroke:#000000;stroke-width:0.8px;stroke-linecap:butt;stroke-linejoin:miter;stroke-opacity:1;\"/>\n<path class=\"atom-0\" d=\"M 1388.8 450.0 Q 1388.8 448.0, 1389.8 446.8 Q 1390.8 445.7, 1392.7 445.7 Q 1394.6 445.7, 1395.6 446.8 Q 1396.6 448.0, 1396.6 450.0 Q 1396.6 452.1, 1395.6 453.3 Q 1394.6 454.4, 1392.7 454.4 Q 1390.8 454.4, 1389.8 453.3 Q 1388.8 452.1, 1388.8 450.0 M 1392.7 453.5 Q 1394.0 453.5, 1394.7 452.6 Q 1395.4 451.7, 1395.4 450.0 Q 1395.4 448.4, 1394.7 447.5 Q 1394.0 446.7, 1392.7 446.7 Q 1391.4 446.7, 1390.7 447.5 Q 1390.0 448.3, 1390.0 450.0 Q 1390.0 451.7, 1390.7 452.6 Q 1391.4 453.5, 1392.7 453.5 \" fill=\"#FF0000\"/>\n</svg>"
          },
          "metadata": {},
          "execution_count": 21
        }
      ]
    },
    {
      "cell_type": "code",
      "source": [
        "print(\"validity = \", len(filtered_gen_smis_val)/len(gen_smis) )\n",
        "print(\"uniqueness = \", len(filtered_gen_smis_uni)/len(filtered_gen_smis_val))\n",
        "print(\"novelty = \", len(filtered_gen_smis_nov)/len(filtered_gen_smis_uni))"
      ],
      "metadata": {
        "id": "yqww1CcAQYQw",
        "colab": {
          "base_uri": "https://localhost:8080/"
        },
        "outputId": "92693a3b-bb18-4083-b7e1-6843785379eb"
      },
      "execution_count": null,
      "outputs": [
        {
          "output_type": "stream",
          "name": "stdout",
          "text": [
            "validity =  0.415\n",
            "uniqueness =  0.6626506024096386\n",
            "novelty =  0.9818181818181818\n"
          ]
        }
      ]
    },
    {
      "cell_type": "code",
      "source": [],
      "metadata": {
        "id": "UJDD2aZdJLg6"
      },
      "execution_count": null,
      "outputs": []
    }
  ]
}