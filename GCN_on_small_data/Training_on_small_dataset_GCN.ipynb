{
  "nbformat": 4,
  "nbformat_minor": 0,
  "metadata": {
    "colab": {
      "provenance": []
    },
    "kernelspec": {
      "name": "python3",
      "display_name": "Python 3"
    },
    "language_info": {
      "name": "python"
    }
  },
  "cells": [
    {
      "cell_type": "markdown",
      "source": [
        "# **0. Initial Settings**"
      ],
      "metadata": {
        "id": "GMQRJ1yAf-G3"
      }
    },
    {
      "cell_type": "code",
      "execution_count": 1,
      "metadata": {
        "id": "j72EwKTQfySr",
        "colab": {
          "base_uri": "https://localhost:8080/"
        },
        "outputId": "2a894f4a-b89c-4688-fb4e-d3826e0f06c9"
      },
      "outputs": [
        {
          "output_type": "stream",
          "name": "stdout",
          "text": [
            "Mounted at /content/gdrive\n"
          ]
        }
      ],
      "source": [
        "#Set google drive\n",
        "from google.colab import auth\n",
        "auth.authenticate_user()\n",
        "\n",
        "from google.colab import drive\n",
        "drive.mount('/content/gdrive')"
      ]
    },
    {
      "cell_type": "code",
      "source": [
        "import os\n",
        "dir_name = 'AI_Chem/Final_project'  # path to the folder you made starting from your google drive home directory.\n",
        "if dir_name[0] == '/': dir_name = dir_name[1:]\n",
        "if dir_name[-1] == '/': dir_name = dir_name[:-1]\n",
        "os.chdir(f'/content/gdrive/MyDrive/{dir_name}/')\n"
      ],
      "metadata": {
        "id": "34aeALN1gJgS"
      },
      "execution_count": 2,
      "outputs": []
    },
    {
      "cell_type": "code",
      "source": [
        "!pip install rdkit"
      ],
      "metadata": {
        "id": "hfwMGxCOgNMa",
        "colab": {
          "base_uri": "https://localhost:8080/"
        },
        "outputId": "2649cf8d-a9a5-4c10-d650-ce10d1a50d95"
      },
      "execution_count": 3,
      "outputs": [
        {
          "output_type": "stream",
          "name": "stdout",
          "text": [
            "Looking in indexes: https://pypi.org/simple, https://us-python.pkg.dev/colab-wheels/public/simple/\n",
            "Collecting rdkit\n",
            "  Downloading rdkit-2022.9.5-cp39-cp39-manylinux_2_17_x86_64.manylinux2014_x86_64.whl (29.4 MB)\n",
            "\u001b[2K     \u001b[90m━━━━━━━━━━━━━━━━━━━━━━━━━━━━━━━━━━━━━━━━\u001b[0m \u001b[32m29.4/29.4 MB\u001b[0m \u001b[31m48.6 MB/s\u001b[0m eta \u001b[36m0:00:00\u001b[0m\n",
            "\u001b[?25hRequirement already satisfied: numpy in /usr/local/lib/python3.9/dist-packages (from rdkit) (1.22.4)\n",
            "Requirement already satisfied: Pillow in /usr/local/lib/python3.9/dist-packages (from rdkit) (8.4.0)\n",
            "Installing collected packages: rdkit\n",
            "Successfully installed rdkit-2022.9.5\n"
          ]
        }
      ]
    },
    {
      "cell_type": "code",
      "source": [
        "import os\n",
        "import torch\n",
        "import torch.nn as nn\n",
        "from torch.utils.data import Dataset, DataLoader\n",
        "from rdkit import Chem\n",
        "from rdkit.Chem import AllChem\n",
        "import numpy as np\n",
        "import pandas as pd\n"
      ],
      "metadata": {
        "id": "-ye9ksxVgSKK"
      },
      "execution_count": 5,
      "outputs": []
    },
    {
      "cell_type": "code",
      "source": [
        "### Device Setting\n",
        "os.environ[\"CUDA_VISIBLE_DEVICES\"] = \"0\"\n",
        "device = torch.device(\"cuda:0\" if torch.cuda.is_available() else \"cpu\")\n",
        "print(f\"Device is set as: {device}\")"
      ],
      "metadata": {
        "id": "wsL7RjnIgpBP",
        "colab": {
          "base_uri": "https://localhost:8080/"
        },
        "outputId": "ab08d2c3-4014-4c1a-db1a-39f16828f467"
      },
      "execution_count": null,
      "outputs": [
        {
          "output_type": "stream",
          "name": "stdout",
          "text": [
            "Device is set as: cpu\n"
          ]
        }
      ]
    },
    {
      "cell_type": "markdown",
      "source": [
        "# **1. Reading the CSV File and Implementing Dataset**"
      ],
      "metadata": {
        "id": "T4tXAQ2Xg_Dz"
      }
    },
    {
      "cell_type": "code",
      "source": [
        "def csv_to_data(path, data_type=\"train\"):\n",
        "    df = pd.read_csv(path)\n",
        "    data = {\n",
        "        \"index\": df[\"index\"].to_numpy(),\n",
        "        \"smiles\": df[\"smiles\"].to_numpy()\n",
        "    }\n",
        "    if data_type == \"train\" or data_type == \"validation\":\n",
        "        data[\"label\"] = df[\"pkbhx\"].to_numpy()\n",
        "        return data\n",
        "    elif data_type == \"test\":\n",
        "        return data\n",
        "    else:\n",
        "        print(\"Wrong data type, it should be one of [train, test].\")\n",
        "        return None"
      ],
      "metadata": {
        "id": "7Htab2gAhRNk"
      },
      "execution_count": null,
      "outputs": []
    },
    {
      "cell_type": "code",
      "source": [
        "\n",
        "#random splitter\n",
        "def random_splitter(dataset, train_ratio, validation_ratio):\n",
        "  import random\n",
        "  import copy\n",
        "  assert train_ratio + validation_ratio == 1.0\n",
        "  N = len(dataset)\n",
        "  all_idx = list(range(N))\n",
        "  random.shuffle(all_idx)\n",
        "\n",
        "  train_idx = all_idx[:int(train_ratio * N)]\n",
        "  print('tr_idx=', len(train_idx))\n",
        "  valid_idx = all_idx[int(train_ratio * N):]\n",
        "  print(len(valid_idx),'valid_idx')\n",
        "  #test_idx = all_idx[int(validation_ratio * N) + int(train_ratio * N):]\n",
        "  train_dataset = copy.deepcopy(dataset)\n",
        "  valid_dataset = copy.deepcopy(dataset)\n",
        "  #test_dataset  = copy.deepcopy(dataset)\n",
        "  train_dataset.smi_list = [dataset.smi_list[i] for i in train_idx]\n",
        "  train_dataset.id_list = train_idx\n",
        "  train_dataset.label_list= dataset.label_list[train_idx]\n",
        "  valid_dataset.smi_list = [dataset.smi_list[i] for i in valid_idx]\n",
        "  valid_dataset.id_list= valid_idx\n",
        "  valid_dataset.label_list= dataset.label_list[valid_idx]\n",
        "  \n",
        "  return train_dataset, valid_dataset"
      ],
      "metadata": {
        "id": "Z_l_hJuiXOxB"
      },
      "execution_count": null,
      "outputs": []
    },
    {
      "cell_type": "code",
      "source": [
        "# Set the csv path\n",
        "train_csv_path = \"/content/gdrive/MyDrive/AI_Chem/Final_project/train_set.csv\"\n",
        "valid_csv_path = \"/content/gdrive/MyDrive/AI_Chem/Final_project/train_set.csv\""
      ],
      "metadata": {
        "id": "ueh8ZJdmjT8u"
      },
      "execution_count": null,
      "outputs": []
    },
    {
      "cell_type": "code",
      "source": [
        "class SampleDataset(Dataset):\n",
        "\n",
        "    def __init__(self, path, data_type=\"train\"):\n",
        "        super().__init__()\n",
        "\n",
        "        self.data = csv_to_data(path, data_type=data_type)\n",
        "        self.id_list = self.data[\"index\"]\n",
        "        self.smi_list = self.data[\"smiles\"]\n",
        "        if data_type == \"train\" or data_type == \"validation\":\n",
        "            self.label_list = self.data[\"label\"]\n",
        "        elif data_type == \"test\":\n",
        "            self.label_list = None\n",
        "        else:\n",
        "            print(\"Wrong data type, it should be one of [train, test].\")\n",
        "\n",
        "    def __len__(self):\n",
        "        return len(self.id_list)\n",
        "\n",
        "    def __getitem__(self, idx):\n",
        "        id = self.id_list[idx]\n",
        "        smi = self.smi_list[idx]\n",
        "        if self.label_list is not None:\n",
        "            label = self.label_list[idx]\n",
        "        else:\n",
        "            label = 0.\n",
        "        \n",
        "        sample = dict()\n",
        "    \n",
        "        mol = Chem.MolFromSmiles(smi)\n",
        "        fp = AllChem.GetMorganFingerprintAsBitVect(mol, 2, 1024)\n",
        "        sample[\"id\"] = id\n",
        "        sample[\"fp\"] = torch.FloatTensor(fp)\n",
        "        sample[\"label\"] = torch.FloatTensor([label])\n",
        "        \n",
        "        return sample"
      ],
      "metadata": {
        "id": "kNOyyi5kjdvU"
      },
      "execution_count": null,
      "outputs": []
    },
    {
      "cell_type": "code",
      "source": [
        "train_ratio= 0.8\n",
        "valid_ratio= 0.2\n",
        "train_dataset, valid_dataset = random_splitter(SampleDataset(train_csv_path, \"train\"), train_ratio, valid_ratio)\n",
        "#valid_dataset = SampleDataset(valid_csv_path, \"validation\")"
      ],
      "metadata": {
        "id": "d4SWZFvumqZi",
        "colab": {
          "base_uri": "https://localhost:8080/"
        },
        "outputId": "0b09efb5-76b7-4a02-e4ba-3422d2c6b58b"
      },
      "execution_count": null,
      "outputs": [
        {
          "output_type": "stream",
          "name": "stdout",
          "text": [
            "tr_idx= 308\n",
            "78 valid_idx\n"
          ]
        }
      ]
    },
    {
      "cell_type": "code",
      "source": [
        "dataloader = DataLoader(train_dataset, batch_size=2, shuffle=True)\n",
        "dataiter = iter(dataloader)\n",
        "\n",
        "next(dataiter)\n"
      ],
      "metadata": {
        "id": "i9Tv2mCm_tUx",
        "colab": {
          "base_uri": "https://localhost:8080/"
        },
        "outputId": "52ad5e95-0c47-4d30-d34a-60e9209e1072"
      },
      "execution_count": null,
      "outputs": [
        {
          "output_type": "execute_result",
          "data": {
            "text/plain": [
              "{'id': tensor([263, 211]), 'fp': tensor([[0., 0., 0.,  ..., 0., 0., 0.],\n",
              "         [0., 0., 0.,  ..., 0., 0., 0.]]), 'label': tensor([[1.7400],\n",
              "         [3.6600]])}"
            ]
          },
          "metadata": {},
          "execution_count": 13
        }
      ]
    },
    {
      "cell_type": "markdown",
      "source": [
        "# **2. Implementing Model**"
      ],
      "metadata": {
        "id": "34FpQcM9nXyn"
      }
    },
    {
      "cell_type": "code",
      "source": [
        "class SampleModel(nn.Module):\n",
        "\n",
        "    def __init__(self, ):\n",
        "        super().__init__()\n",
        "        \n",
        "        self.layers = nn.Sequential(\n",
        "              nn.Linear(1024, 128),\n",
        "              nn.ReLU(),\n",
        "              nn.Linear(128, 128),\n",
        "              nn.ReLU(),\n",
        "              nn.Linear(128, 1)\n",
        "        )\n",
        "        \n",
        "    def forward(self, x,):\n",
        "        h = self.layers(x)\n",
        "        return h"
      ],
      "metadata": {
        "id": "IPGpp7N5nW3B"
      },
      "execution_count": null,
      "outputs": []
    },
    {
      "cell_type": "markdown",
      "source": [
        "# **3. Hyperparameter Settings**"
      ],
      "metadata": {
        "id": "d5wc7xrAn8gN"
      }
    },
    {
      "cell_type": "code",
      "source": [
        "\n",
        "SAVE_DIR = \"/content/gdrive/MyDrive/AI_Chem/Final_project/results\"\n",
        "BATCH_SIZE = 16\n",
        "LR = 1e-3\n",
        "NUM_EPOCH = 50\n",
        "N_HIDDEN = 1#None\n",
        "N_LAYERS = 2#None\n",
        "LOSS_FN = nn.MSELoss(reduction=\"sum\") ### Don't change\n"
      ],
      "metadata": {
        "id": "uTkCKsdyoE-8"
      },
      "execution_count": null,
      "outputs": []
    },
    {
      "cell_type": "markdown",
      "source": [
        "# **4. Training and Validation**"
      ],
      "metadata": {
        "id": "xyLH6yJOoaP0"
      }
    },
    {
      "cell_type": "code",
      "source": [
        "train_dataloader = DataLoader(train_dataset, batch_size=BATCH_SIZE, shuffle=True)\n",
        "iter(train_dataloader)\n",
        "valid_dataloader = DataLoader(valid_dataset, batch_size=BATCH_SIZE, \\\n",
        "                              shuffle=False,)"
      ],
      "metadata": {
        "id": "ORh4pzZv6XbM"
      },
      "execution_count": null,
      "outputs": []
    },
    {
      "cell_type": "code",
      "source": [
        "model = SampleModel()#.to(device)\n",
        "optimizer = torch.optim.Adam(model.parameters(), lr=LR)\n",
        "\n",
        "if not os.path.exists(SAVE_DIR):\n",
        "    os.mkdir(SAVE_DIR)\n",
        "\n",
        "train_loss_history, valid_loss_history = [], []\n",
        "best_loss = 1e6\n",
        "for i in range(1, NUM_EPOCH + 1):\n",
        "\n",
        "    model.train()\n",
        "    train_batch_losses = []\n",
        "    for batch_idx, batch in enumerate(train_dataloader):\n",
        "        x_batch = batch[\"fp\"].float()#.to(device)\n",
        "        y_batch = batch[\"label\"].float()#.to(device)\n",
        "\n",
        "        y_pred = model(x_batch)\n",
        "        \n",
        "        loss = LOSS_FN(y_pred, y_batch)\n",
        "        train_batch_losses.append(loss.data.cpu().numpy())\n",
        "        \n",
        "        optimizer.zero_grad()\n",
        "        loss.backward()\n",
        "        optimizer.step()\n",
        "    \n",
        "    model.eval()\n",
        "    with torch.no_grad():\n",
        "        valid_batch_losses = []\n",
        "        for batch_idx, batch in enumerate(valid_dataloader):\n",
        "            x_batch = batch[\"fp\"].float()#.to(device)\n",
        "            y_batch = batch[\"label\"].float()#.to(device)\n",
        "\n",
        "            y_pred = model(x_batch)\n",
        "            \n",
        "            loss = LOSS_FN(y_pred, y_batch)\n",
        "            valid_batch_losses.append(loss.data.cpu().numpy())\n",
        "\n",
        "    train_avg_loss = np.mean(np.array(train_batch_losses))\n",
        "    valid_avg_loss = np.mean(np.array(valid_batch_losses))\n",
        "    train_loss_history.append(train_avg_loss)\n",
        "    valid_loss_history.append(valid_avg_loss)\n",
        "    \n",
        "    if valid_avg_loss < best_loss:\n",
        "        best_epoch = i\n",
        "        best_loss = valid_avg_loss\n",
        "\n",
        "    print(f\"\\t{i}th EPOCH --- TRAIN LOSS: {train_avg_loss:.4f} || VALIDATION LOSS: {valid_avg_loss:.4f} || BEST EPOCH: {best_epoch}\", flush=True)\n",
        "\n",
        "    torch.save(model.state_dict(), os.path.join(SAVE_DIR, f\"save_{i}.pt\"))\n"
      ],
      "metadata": {
        "id": "OsI0Ahi6orWz",
        "colab": {
          "base_uri": "https://localhost:8080/"
        },
        "outputId": "9cb9a6a1-a45b-43f3-c321-03738d4a31f4"
      },
      "execution_count": null,
      "outputs": [
        {
          "output_type": "stream",
          "name": "stdout",
          "text": [
            "\t1th EPOCH --- TRAIN LOSS: 28.2980 || VALIDATION LOSS: 17.2456 || BEST EPOCH: 1\n",
            "\t2th EPOCH --- TRAIN LOSS: 10.6112 || VALIDATION LOSS: 14.7469 || BEST EPOCH: 2\n",
            "\t3th EPOCH --- TRAIN LOSS: 6.0601 || VALIDATION LOSS: 11.4312 || BEST EPOCH: 3\n",
            "\t4th EPOCH --- TRAIN LOSS: 3.4136 || VALIDATION LOSS: 9.8353 || BEST EPOCH: 4\n",
            "\t5th EPOCH --- TRAIN LOSS: 1.9985 || VALIDATION LOSS: 9.2336 || BEST EPOCH: 5\n",
            "\t6th EPOCH --- TRAIN LOSS: 1.2129 || VALIDATION LOSS: 8.9266 || BEST EPOCH: 6\n",
            "\t7th EPOCH --- TRAIN LOSS: 0.8636 || VALIDATION LOSS: 8.5593 || BEST EPOCH: 7\n",
            "\t8th EPOCH --- TRAIN LOSS: 0.6414 || VALIDATION LOSS: 8.3653 || BEST EPOCH: 8\n",
            "\t9th EPOCH --- TRAIN LOSS: 0.4547 || VALIDATION LOSS: 8.2447 || BEST EPOCH: 9\n",
            "\t10th EPOCH --- TRAIN LOSS: 0.3551 || VALIDATION LOSS: 8.2875 || BEST EPOCH: 9\n",
            "\t11th EPOCH --- TRAIN LOSS: 0.2919 || VALIDATION LOSS: 8.2833 || BEST EPOCH: 9\n",
            "\t12th EPOCH --- TRAIN LOSS: 0.2449 || VALIDATION LOSS: 8.0957 || BEST EPOCH: 12\n",
            "\t13th EPOCH --- TRAIN LOSS: 0.2199 || VALIDATION LOSS: 7.9463 || BEST EPOCH: 13\n",
            "\t14th EPOCH --- TRAIN LOSS: 0.2182 || VALIDATION LOSS: 8.1692 || BEST EPOCH: 13\n",
            "\t15th EPOCH --- TRAIN LOSS: 0.2177 || VALIDATION LOSS: 8.2809 || BEST EPOCH: 13\n",
            "\t16th EPOCH --- TRAIN LOSS: 0.2229 || VALIDATION LOSS: 8.0557 || BEST EPOCH: 13\n",
            "\t17th EPOCH --- TRAIN LOSS: 0.2185 || VALIDATION LOSS: 8.3621 || BEST EPOCH: 13\n",
            "\t18th EPOCH --- TRAIN LOSS: 0.2184 || VALIDATION LOSS: 7.9889 || BEST EPOCH: 13\n",
            "\t19th EPOCH --- TRAIN LOSS: 0.2029 || VALIDATION LOSS: 8.3092 || BEST EPOCH: 13\n",
            "\t20th EPOCH --- TRAIN LOSS: 0.1833 || VALIDATION LOSS: 7.8676 || BEST EPOCH: 20\n",
            "\t21th EPOCH --- TRAIN LOSS: 0.1351 || VALIDATION LOSS: 8.1123 || BEST EPOCH: 20\n",
            "\t22th EPOCH --- TRAIN LOSS: 0.1269 || VALIDATION LOSS: 8.0648 || BEST EPOCH: 20\n",
            "\t23th EPOCH --- TRAIN LOSS: 0.1061 || VALIDATION LOSS: 8.0161 || BEST EPOCH: 20\n",
            "\t24th EPOCH --- TRAIN LOSS: 0.0958 || VALIDATION LOSS: 7.9895 || BEST EPOCH: 20\n",
            "\t25th EPOCH --- TRAIN LOSS: 0.0891 || VALIDATION LOSS: 8.0619 || BEST EPOCH: 20\n",
            "\t26th EPOCH --- TRAIN LOSS: 0.0895 || VALIDATION LOSS: 8.0658 || BEST EPOCH: 20\n",
            "\t27th EPOCH --- TRAIN LOSS: 0.0995 || VALIDATION LOSS: 8.0776 || BEST EPOCH: 20\n",
            "\t28th EPOCH --- TRAIN LOSS: 0.0929 || VALIDATION LOSS: 8.0009 || BEST EPOCH: 20\n",
            "\t29th EPOCH --- TRAIN LOSS: 0.0913 || VALIDATION LOSS: 7.9364 || BEST EPOCH: 20\n",
            "\t30th EPOCH --- TRAIN LOSS: 0.0992 || VALIDATION LOSS: 8.1396 || BEST EPOCH: 20\n",
            "\t31th EPOCH --- TRAIN LOSS: 0.1061 || VALIDATION LOSS: 8.0496 || BEST EPOCH: 20\n",
            "\t32th EPOCH --- TRAIN LOSS: 0.1116 || VALIDATION LOSS: 7.9674 || BEST EPOCH: 20\n",
            "\t33th EPOCH --- TRAIN LOSS: 0.1126 || VALIDATION LOSS: 8.2282 || BEST EPOCH: 20\n",
            "\t34th EPOCH --- TRAIN LOSS: 0.1375 || VALIDATION LOSS: 7.8073 || BEST EPOCH: 34\n",
            "\t35th EPOCH --- TRAIN LOSS: 0.1618 || VALIDATION LOSS: 8.1853 || BEST EPOCH: 34\n",
            "\t36th EPOCH --- TRAIN LOSS: 0.1685 || VALIDATION LOSS: 8.0383 || BEST EPOCH: 34\n",
            "\t37th EPOCH --- TRAIN LOSS: 0.1637 || VALIDATION LOSS: 7.9145 || BEST EPOCH: 34\n",
            "\t38th EPOCH --- TRAIN LOSS: 0.1642 || VALIDATION LOSS: 7.8642 || BEST EPOCH: 34\n",
            "\t39th EPOCH --- TRAIN LOSS: 0.1231 || VALIDATION LOSS: 8.0806 || BEST EPOCH: 34\n",
            "\t40th EPOCH --- TRAIN LOSS: 0.0901 || VALIDATION LOSS: 8.1329 || BEST EPOCH: 34\n",
            "\t41th EPOCH --- TRAIN LOSS: 0.0912 || VALIDATION LOSS: 8.0525 || BEST EPOCH: 34\n",
            "\t42th EPOCH --- TRAIN LOSS: 0.1001 || VALIDATION LOSS: 8.3259 || BEST EPOCH: 34\n",
            "\t43th EPOCH --- TRAIN LOSS: 0.1072 || VALIDATION LOSS: 7.9214 || BEST EPOCH: 34\n",
            "\t44th EPOCH --- TRAIN LOSS: 0.1300 || VALIDATION LOSS: 8.3709 || BEST EPOCH: 34\n",
            "\t45th EPOCH --- TRAIN LOSS: 0.1328 || VALIDATION LOSS: 7.9911 || BEST EPOCH: 34\n",
            "\t46th EPOCH --- TRAIN LOSS: 0.1235 || VALIDATION LOSS: 8.2613 || BEST EPOCH: 34\n",
            "\t47th EPOCH --- TRAIN LOSS: 0.1372 || VALIDATION LOSS: 7.9977 || BEST EPOCH: 34\n",
            "\t48th EPOCH --- TRAIN LOSS: 0.1025 || VALIDATION LOSS: 7.9414 || BEST EPOCH: 34\n",
            "\t49th EPOCH --- TRAIN LOSS: 0.0799 || VALIDATION LOSS: 8.0945 || BEST EPOCH: 34\n",
            "\t50th EPOCH --- TRAIN LOSS: 0.0803 || VALIDATION LOSS: 7.8799 || BEST EPOCH: 34\n"
          ]
        }
      ]
    },
    {
      "cell_type": "markdown",
      "source": [
        "# **5. Model Evaluation and Write the CSV File**"
      ],
      "metadata": {
        "id": "By66S4nAoetd"
      }
    },
    {
      "cell_type": "code",
      "source": [
        "# Set the path\n",
        "best_model_save_path = \"/content/gdrive/MyDrive/AI_Chem/Final_project/best_model\"\n",
        "best_model_save_path_full= os.path.join(best_model_save_path, f\"save_{i}.pt\")\n",
        "test_public_csv_path = \"/content/gdrive/MyDrive/AI_Chem/Final_project/test_set_public.csv\"\n",
        "test_private_csv_path = \"/content/gdrive/MyDrive/AI_Chem/Final_project/test_set_private.csv\"\n",
        "\n",
        "test_public_dataset = SampleDataset(test_public_csv_path, \"test\")\n",
        "test_private_dataset = SampleDataset(test_private_csv_path, \"test\")\n",
        "\n",
        "test_public_dataloader = DataLoader(test_public_dataset, batch_size=BATCH_SIZE, shuffle=False)\n",
        "test_private_dataloader = DataLoader(test_private_dataset, batch_size=BATCH_SIZE, shuffle=False)\n",
        "\n",
        "\n",
        "torch.save(model.state_dict(), os.path.join(best_model_save_path, f\"save_{best_epoch}.pt\"))\n",
        "save_state_dict = torch.load(os.path.join(best_model_save_path, f\"save_{best_epoch}.pt\"))\n",
        "model.load_state_dict(save_state_dict)\n",
        "\n",
        "with torch.no_grad():\n",
        "    test_public_indices, test_private_indices = [], []\n",
        "    test_public_outputs, test_private_outputs = [], []\n",
        "    for batch_idx, batch in enumerate(test_public_dataloader):\n",
        "        indices = batch[\"id\"].long()\n",
        "        \n",
        "        x_batch = batch[\"fp\"].float()\n",
        "        y_pred = model(x_batch) \n",
        "        \n",
        "        \n",
        "        test_public_indices += list(indices.data.cpu().numpy())\n",
        "        test_public_outputs += list(y_pred.data.cpu().numpy())\n",
        "\n",
        "    for batch_idx, batch in enumerate(test_private_dataloader):\n",
        "        indices = batch[\"id\"].long()\n",
        "        \n",
        "        x_batch = batch[\"fp\"].float()\n",
        "        y_pred = model(x_batch) \n",
        "        \n",
        "        test_private_indices += list(indices.data.cpu().numpy())\n",
        "        test_private_outputs += list(y_pred.data.cpu().numpy())\n",
        "\n",
        "test_public_indices = np.array(test_public_indices)\n",
        "test_public_outputs = np.array(test_public_outputs)\n",
        "test_public_results = sorted([(id, val[0]) for (id, val) in \\\n",
        "                          zip(test_public_indices, test_public_outputs)], \\\n",
        "                          key=lambda x: x[0], reverse=False)\n",
        "test_private_indices = np.array(test_private_indices)\n",
        "test_private_outputs = np.array(test_private_outputs)\n",
        "test_private_results = sorted([(id, val[0]) for (id, val) in \\\n",
        "                          zip(test_private_indices, test_private_outputs)], \\\n",
        "                          key=lambda x: x[0], reverse=False)\n",
        "\n",
        "test_public_data = {\n",
        "      \"index\": [res[0] for res in test_public_results],\n",
        "      \"pkbhx\": [res[1] for res in test_public_results],\n",
        "}\n",
        "test_private_data = {\n",
        "      \"index\": [res[0] for res in test_private_results],\n",
        "      \"pkbhx\": [res[1] for res in test_private_results],\n",
        "}"
      ],
      "metadata": {
        "id": "g7-V6jeyoy-c"
      },
      "execution_count": null,
      "outputs": []
    },
    {
      "cell_type": "code",
      "source": [
        "import matplotlib.pyplot as plt\n",
        "x_axis = np.arange(NUM_EPOCH)\n",
        "fig, ax = plt.subplots()\n",
        "ax.plot(x_axis, train_loss_history, label='train loss')\n",
        "ax.plot(x_axis, valid_loss_history, label='validation loss')\n",
        "ax.set_xlabel('Num epoch')\n",
        "ax.set_ylabel('Loss')\n",
        "ax.set_title('Loss History')\n",
        "ax.legend()\n",
        "fig.show()"
      ],
      "metadata": {
        "colab": {
          "base_uri": "https://localhost:8080/",
          "height": 295
        },
        "id": "I-rxh07a3AiJ",
        "outputId": "7751aa1e-9f0f-451f-e8dc-466322f5c507"
      },
      "execution_count": null,
      "outputs": [
        {
          "output_type": "display_data",
          "data": {
            "text/plain": [
              "<Figure size 432x288 with 1 Axes>"
            ],
            "image/png": "[encoded data removed]"
          },
          "metadata": {
            "needs_background": "light"
          }
        }
      ]
    },
    {
      "cell_type": "code",
      "source": [
        "def data_to_csv(data, path):\n",
        "    df = pd.DataFrame(data)\n",
        "    df.to_csv(path, index=False)"
      ],
      "metadata": {
        "id": "culYJE-ppIPM"
      },
      "execution_count": null,
      "outputs": []
    },
    {
      "cell_type": "code",
      "source": [
        "data_to_csv(test_public_data, \"./test_public_submission.csv\")\n",
        "data_to_csv(test_private_data, \"./test_private_submission.csv\")"
      ],
      "metadata": {
        "id": "DvhFq8ah_rtJ"
      },
      "execution_count": null,
      "outputs": []
    },
    {
      "cell_type": "code",
      "source": [],
      "metadata": {
        "id": "lry4ZQXlMPHb"
      },
      "execution_count": null,
      "outputs": []
    }
  ]
}